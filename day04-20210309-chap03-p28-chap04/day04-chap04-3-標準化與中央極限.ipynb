{
 "cells": [
  {
   "cell_type": "code",
   "execution_count": 34,
   "id": "yellow-pressure",
   "metadata": {},
   "outputs": [],
   "source": [
    "# 標準化 就是 每一個 x 對應到 平均後，有幾個 標準差 的倍數\n",
    "# 標準差 sigma, 平均 mu \n",
    "import numpy as np\n",
    "np.random.seed(1234) # 固定亂數\n",
    "sigma , mu = 5, 60\n",
    "data = sigma * np.random.randn(100000000,) + mu"
   ]
  },
  {
   "cell_type": "code",
   "execution_count": 35,
   "id": "environmental-driving",
   "metadata": {},
   "outputs": [
    {
     "data": {
      "image/png": "[encoded data removed]",
      "text/plain": [
       "<Figure size 432x288 with 1 Axes>"
      ]
     },
     "metadata": {
      "needs_background": "light"
     },
     "output_type": "display_data"
    }
   ],
   "source": [
    "import matplotlib.pyplot as plt\n",
    "plt.hist(data, bins=12, color='green')\n",
    "plt.show()"
   ]
  },
  {
   "cell_type": "code",
   "execution_count": 27,
   "id": "satisfied-rendering",
   "metadata": {},
   "outputs": [
    {
     "data": {
      "text/plain": [
       "63.07"
      ]
     },
     "execution_count": 27,
     "metadata": {},
     "output_type": "execute_result"
    }
   ],
   "source": [
    "# np.around(data,2)\n",
    "# pd.Series(np.around(data,2)).value_counts().index[:1][0]"
   ]
  },
  {
   "cell_type": "code",
   "execution_count": 36,
   "id": "fundamental-theory",
   "metadata": {},
   "outputs": [
    {
     "data": {
      "text/plain": [
       "(59.99997522553643, 59.99951779666836, 59.9)"
      ]
     },
     "execution_count": 36,
     "metadata": {},
     "output_type": "execute_result"
    }
   ],
   "source": [
    "# 平均數＝中位數＝眾數\n",
    "import pandas as pd\n",
    "np.mean(data) , np.median(data), pd.Series(np.around(data,1)).value_counts().index[:1][0]"
   ]
  }
 ],
 "metadata": {
  "kernelspec": {
   "display_name": "Python 3",
   "language": "python",
   "name": "python3"
  },
  "language_info": {
   "codemirror_mode": {
    "name": "ipython",
    "version": 3
   },
   "file_extension": ".py",
   "mimetype": "text/x-python",
   "name": "python",
   "nbconvert_exporter": "python",
   "pygments_lexer": "ipython3",
   "version": "3.7.9"
  }
 },
 "nbformat": 4,
 "nbformat_minor": 5
}
