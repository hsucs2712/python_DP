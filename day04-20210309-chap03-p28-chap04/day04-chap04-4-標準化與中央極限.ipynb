{
 "cells": [
  {
   "cell_type": "code",
   "execution_count": 38,
   "id": "headed-beach",
   "metadata": {},
   "outputs": [],
   "source": [
    "import numpy as np\n",
    "import pandas as pd"
   ]
  },
  {
   "cell_type": "code",
   "execution_count": 49,
   "id": "precious-sleeve",
   "metadata": {},
   "outputs": [
    {
     "name": "stdout",
     "output_type": "stream",
     "text": [
      "2.0\n"
     ]
    },
    {
     "data": {
      "text/plain": [
       "2.0"
      ]
     },
     "execution_count": 49,
     "metadata": {},
     "output_type": "execute_result"
    }
   ],
   "source": [
    "# numpy vs pandas\n",
    "test = np.array([1, 2, 3, 4, 5, 6, 7])\n",
    "\n",
    "# As population in numpy\n",
    "print(np.std(test))\n",
    "\n",
    "mean = np.sum(test)/ len(test)\n",
    "(np.sum((test - mean) ** 2) / len(test) ) ** 0.5"
   ]
  },
  {
   "cell_type": "code",
   "execution_count": 50,
   "id": "cardiac-thermal",
   "metadata": {},
   "outputs": [
    {
     "name": "stdout",
     "output_type": "stream",
     "text": [
      "count    7.000000\n",
      "mean     4.000000\n",
      "std      2.160247\n",
      "min      1.000000\n",
      "25%      2.500000\n",
      "50%      4.000000\n",
      "75%      5.500000\n",
      "max      7.000000\n",
      "dtype: float64\n"
     ]
    },
    {
     "data": {
      "text/plain": [
       "2.160246899469287"
      ]
     },
     "execution_count": 50,
     "metadata": {},
     "output_type": "execute_result"
    }
   ],
   "source": [
    "# numpy vs pandas\n",
    "test = np.array([1, 2, 3, 4, 5, 6, 7])\n",
    "\n",
    "# As sample in pandas\n",
    "print(pd.Series(test).describe())\n",
    "\n",
    "mean = np.sum(test)/ len(test)\n",
    "( np.sum((test - mean) ** 2) / (len(test) - 1) ) ** 0.5"
   ]
  }
 ],
 "metadata": {
  "kernelspec": {
   "display_name": "Python 3",
   "language": "python",
   "name": "python3"
  },
  "language_info": {
   "codemirror_mode": {
    "name": "ipython",
    "version": 3
   },
   "file_extension": ".py",
   "mimetype": "text/x-python",
   "name": "python",
   "nbconvert_exporter": "python",
   "pygments_lexer": "ipython3",
   "version": "3.7.9"
  }
 },
 "nbformat": 4,
 "nbformat_minor": 5
}
