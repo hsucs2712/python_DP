{
 "cells": [
  {
   "cell_type": "code",
   "execution_count": 1,
   "id": "solved-shore",
   "metadata": {},
   "outputs": [
    {
     "name": "stdout",
     "output_type": "stream",
     "text": [
      "['BitGenerator', 'Generator', 'MT19937', 'PCG64', 'Philox', 'RandomState', 'SFC64', 'SeedSequence', '__RandomState_ctor', '__all__', '__builtins__', '__cached__', '__doc__', '__file__', '__loader__', '__name__', '__package__', '__path__', '__spec__', '_bounded_integers', '_common', '_generator', '_mt19937', '_pcg64', '_philox', '_pickle', '_sfc64', 'beta', 'binomial', 'bit_generator', 'bytes', 'chisquare', 'choice', 'default_rng', 'dirichlet', 'exponential', 'f', 'gamma', 'geometric', 'get_state', 'gumbel', 'hypergeometric', 'laplace', 'logistic', 'lognormal', 'logseries', 'mtrand', 'multinomial', 'multivariate_normal', 'negative_binomial', 'noncentral_chisquare', 'noncentral_f', 'normal', 'pareto', 'permutation', 'poisson', 'power', 'rand', 'randint', 'randn', 'random', 'random_integers', 'random_sample', 'ranf', 'rayleigh', 'sample', 'seed', 'set_state', 'shuffle', 'standard_cauchy', 'standard_exponential', 'standard_gamma', 'standard_normal', 'standard_t', 'test', 'triangular', 'uniform', 'vonmises', 'wald', 'weibull', 'zipf']\n"
     ]
    }
   ],
   "source": [
    "import numpy as np\n",
    "print(dir(np.random))\n"
   ]
  },
  {
   "cell_type": "code",
   "execution_count": 2,
   "id": "registered-scale",
   "metadata": {},
   "outputs": [],
   "source": [
    "np.random.randn?"
   ]
  },
  {
   "cell_type": "code",
   "execution_count": 3,
   "id": "standing-craps",
   "metadata": {},
   "outputs": [],
   "source": [
    "# 標準差 sigma, 平均 mu \n",
    "sigma , mu = 5, 60\n",
    "data = sigma * np.random.randn(10000000,) + mu"
   ]
  },
  {
   "cell_type": "code",
   "execution_count": 4,
   "id": "indoor-argentina",
   "metadata": {},
   "outputs": [
    {
     "data": {
      "image/png": "[encoded data removed]",
      "text/plain": [
       "<Figure size 432x288 with 1 Axes>"
      ]
     },
     "metadata": {
      "needs_background": "light"
     },
     "output_type": "display_data"
    }
   ],
   "source": [
    "import matplotlib.pyplot as plt\n",
    "plt.hist(data, bins=12)\n",
    "plt.show()"
   ]
  },
  {
   "cell_type": "code",
   "execution_count": 5,
   "id": "incredible-unemployment",
   "metadata": {},
   "outputs": [
    {
     "name": "stdout",
     "output_type": "stream",
     "text": [
      "5 60\n",
      "5.001446932391936 59.99831579761665\n"
     ]
    }
   ],
   "source": [
    "print(sigma, mu)\n",
    "std , mean = np.std(data), np.mean(data) \n",
    "print(std, mean)"
   ]
  },
  {
   "cell_type": "code",
   "execution_count": 6,
   "id": "effective-integration",
   "metadata": {},
   "outputs": [
    {
     "data": {
      "text/plain": [
       "68.27995999999999"
      ]
     },
     "execution_count": 6,
     "metadata": {},
     "output_type": "execute_result"
    }
   ],
   "source": [
    "# 1 sigma = 68   %\n",
    "# 2 sigma = 95   %\n",
    "# 3 sigma = 99.7 %\n",
    " \n",
    "lower , upper = mean - 1*std, mean + 1*std\n",
    "np.sum((lower < data) & (data < upper))  / len(data) * 100.0"
   ]
  },
  {
   "cell_type": "code",
   "execution_count": 15,
   "id": "confident-effects",
   "metadata": {},
   "outputs": [
    {
     "data": {
      "text/plain": [
       "68.27995999999999"
      ]
     },
     "execution_count": 15,
     "metadata": {},
     "output_type": "execute_result"
    }
   ],
   "source": [
    "lower , upper = mean - 1*std, mean + 1*std\n",
    "np.sum((lower < data) & (data < upper)) / len( data ) * 100.0"
   ]
  },
  {
   "cell_type": "code",
   "execution_count": 27,
   "id": "heavy-forge",
   "metadata": {},
   "outputs": [
    {
     "data": {
      "text/plain": [
       "0.5"
      ]
     },
     "execution_count": 27,
     "metadata": {},
     "output_type": "execute_result"
    }
   ],
   "source": [
    "test = np.array([1, 2, 3, 4, 5, 6, 7, 8, 9, 10])\n",
    "# 3, 4, 5, 6, 7\n",
    "m , s = 5, 2\n",
    "np.sum( (test >= (m - s)) & (test<= ( m + s)) ) / len(test)"
   ]
  },
  {
   "cell_type": "code",
   "execution_count": 7,
   "id": "confidential-child",
   "metadata": {},
   "outputs": [
    {
     "data": {
      "text/plain": [
       "95.45067"
      ]
     },
     "execution_count": 7,
     "metadata": {},
     "output_type": "execute_result"
    }
   ],
   "source": [
    "# 1 sigma = 68   %\n",
    "# 2 sigma = 95   %\n",
    "# 3 sigma = 99.7 %\n",
    " \n",
    "lower , upper = mean - 2*std, mean + 2*std\n",
    "np.sum((lower < data) & (data < upper))  / len(data) * 100.0"
   ]
  },
  {
   "cell_type": "code",
   "execution_count": 8,
   "id": "grand-gibson",
   "metadata": {},
   "outputs": [
    {
     "data": {
      "text/plain": [
       "99.73107"
      ]
     },
     "execution_count": 8,
     "metadata": {},
     "output_type": "execute_result"
    }
   ],
   "source": [
    "# 1 sigma = 68   %\n",
    "# 2 sigma = 95   %\n",
    "# 3 sigma = 99.7 %\n",
    " \n",
    "lower , upper = mean - 3*std, mean + 3*std\n",
    "np.sum((lower < data) & (data < upper))  / len(data) * 100.0"
   ]
  }
 ],
 "metadata": {
  "kernelspec": {
   "display_name": "Python 3",
   "language": "python",
   "name": "python3"
  },
  "language_info": {
   "codemirror_mode": {
    "name": "ipython",
    "version": 3
   },
   "file_extension": ".py",
   "mimetype": "text/x-python",
   "name": "python",
   "nbconvert_exporter": "python",
   "pygments_lexer": "ipython3",
   "version": "3.7.9"
  }
 },
 "nbformat": 4,
 "nbformat_minor": 5
}
