{
 "cells": [
  {
   "cell_type": "code",
   "execution_count": 1,
   "id": "verbal-swift",
   "metadata": {},
   "outputs": [],
   "source": [
    "# 多分類 預測一個水果 是 香蕉 蘋果 芭樂 柳丁(只能 四種選一種) Multiclass --> 鳶尾花 分類就是 這個案例\n",
    "# 多標籤 預測一篇文章 是 散文 時事 科技 文學(允許 多種選多種) MultiLabel\n",
    " \n",
    "# https://scikit-learn.org/stable/modules/multiclass.html"
   ]
  },
  {
   "cell_type": "code",
   "execution_count": 2,
   "id": "underlying-inspector",
   "metadata": {},
   "outputs": [
    {
     "data": {
      "text/html": [
       "<div>\n",
       "<style scoped>\n",
       "    .dataframe tbody tr th:only-of-type {\n",
       "        vertical-align: middle;\n",
       "    }\n",
       "\n",
       "    .dataframe tbody tr th {\n",
       "        vertical-align: top;\n",
       "    }\n",
       "\n",
       "    .dataframe thead th {\n",
       "        text-align: right;\n",
       "    }\n",
       "</style>\n",
       "<table border=\"1\" class=\"dataframe\">\n",
       "  <thead>\n",
       "    <tr style=\"text-align: right;\">\n",
       "      <th></th>\n",
       "      <th>PatientID</th>\n",
       "      <th>Pregnancies</th>\n",
       "      <th>PlasmaGlucose</th>\n",
       "      <th>DiastolicBloodPressure</th>\n",
       "      <th>TricepsThickness</th>\n",
       "      <th>SerumInsulin</th>\n",
       "      <th>BMI</th>\n",
       "      <th>DiabetesPedigree</th>\n",
       "      <th>Age</th>\n",
       "      <th>Diabetic</th>\n",
       "    </tr>\n",
       "  </thead>\n",
       "  <tbody>\n",
       "    <tr>\n",
       "      <th>0</th>\n",
       "      <td>1354778</td>\n",
       "      <td>0</td>\n",
       "      <td>171</td>\n",
       "      <td>80</td>\n",
       "      <td>34</td>\n",
       "      <td>23</td>\n",
       "      <td>43.509726</td>\n",
       "      <td>1.213191</td>\n",
       "      <td>21</td>\n",
       "      <td>0</td>\n",
       "    </tr>\n",
       "    <tr>\n",
       "      <th>1</th>\n",
       "      <td>1147438</td>\n",
       "      <td>8</td>\n",
       "      <td>92</td>\n",
       "      <td>93</td>\n",
       "      <td>47</td>\n",
       "      <td>36</td>\n",
       "      <td>21.240576</td>\n",
       "      <td>0.158365</td>\n",
       "      <td>23</td>\n",
       "      <td>0</td>\n",
       "    </tr>\n",
       "    <tr>\n",
       "      <th>2</th>\n",
       "      <td>1640031</td>\n",
       "      <td>7</td>\n",
       "      <td>115</td>\n",
       "      <td>47</td>\n",
       "      <td>52</td>\n",
       "      <td>35</td>\n",
       "      <td>41.511523</td>\n",
       "      <td>0.079019</td>\n",
       "      <td>23</td>\n",
       "      <td>0</td>\n",
       "    </tr>\n",
       "  </tbody>\n",
       "</table>\n",
       "</div>"
      ],
      "text/plain": [
       "   PatientID  Pregnancies  PlasmaGlucose  DiastolicBloodPressure  \\\n",
       "0    1354778            0            171                      80   \n",
       "1    1147438            8             92                      93   \n",
       "2    1640031            7            115                      47   \n",
       "\n",
       "   TricepsThickness  SerumInsulin        BMI  DiabetesPedigree  Age  Diabetic  \n",
       "0                34            23  43.509726          1.213191   21         0  \n",
       "1                47            36  21.240576          0.158365   23         0  \n",
       "2                52            35  41.511523          0.079019   23         0  "
      ]
     },
     "execution_count": 2,
     "metadata": {},
     "output_type": "execute_result"
    }
   ],
   "source": [
    "# 匯入資料\n",
    "import pandas as pd\n",
    "data = pd.read_csv('diabetes.csv')\n",
    "data[:3]"
   ]
  },
  {
   "cell_type": "code",
   "execution_count": 3,
   "id": "operating-slovakia",
   "metadata": {},
   "outputs": [],
   "source": [
    "# data.iloc[:, 1:-1]\n",
    "# data.iloc[:, [-1]]"
   ]
  },
  {
   "cell_type": "code",
   "execution_count": 4,
   "id": "specialized-footage",
   "metadata": {},
   "outputs": [],
   "source": [
    "#X 前面四個欄位的數值\n",
    "#y 最後一個欄位的數值\n",
    "X, y = data.iloc[:, 1:-1].values, data.iloc[:, -1].values"
   ]
  },
  {
   "cell_type": "code",
   "execution_count": 5,
   "id": "foreign-portable",
   "metadata": {},
   "outputs": [
    {
     "data": {
      "text/plain": [
       "array([[0.00000000e+00, 1.71000000e+02, 8.00000000e+01, 3.40000000e+01,\n",
       "        2.30000000e+01, 4.35097259e+01, 1.21319135e+00, 2.10000000e+01],\n",
       "       [8.00000000e+00, 9.20000000e+01, 9.30000000e+01, 4.70000000e+01,\n",
       "        3.60000000e+01, 2.12405757e+01, 1.58364981e-01, 2.30000000e+01],\n",
       "       [7.00000000e+00, 1.15000000e+02, 4.70000000e+01, 5.20000000e+01,\n",
       "        3.50000000e+01, 4.15115235e+01, 7.90185680e-02, 2.30000000e+01]])"
      ]
     },
     "execution_count": 5,
     "metadata": {},
     "output_type": "execute_result"
    }
   ],
   "source": [
    "# 特徵 尚未進行標準化\n",
    "X[:3]"
   ]
  },
  {
   "cell_type": "code",
   "execution_count": 6,
   "id": "olive-ideal",
   "metadata": {},
   "outputs": [
    {
     "data": {
      "text/plain": [
       "array([0, 0, 0], dtype=int64)"
      ]
     },
     "execution_count": 6,
     "metadata": {},
     "output_type": "execute_result"
    }
   ],
   "source": [
    "# 答案 類別 標籤\n",
    "y[:3]"
   ]
  },
  {
   "cell_type": "code",
   "execution_count": 7,
   "id": "chief-absolute",
   "metadata": {},
   "outputs": [],
   "source": [
    "# 特徵縮放（Feature Scaling） 常態化（Normalization） \n",
    "from sklearn.preprocessing import StandardScaler   #  ********************** 置換我\n",
    "mmx = StandardScaler() # Class 建立起來\n",
    "X_mmx = mmx.fit_transform(X)"
   ]
  },
  {
   "cell_type": "code",
   "execution_count": 8,
   "id": "racial-mineral",
   "metadata": {},
   "outputs": [
    {
     "data": {
      "text/html": [
       "<div>\n",
       "<style scoped>\n",
       "    .dataframe tbody tr th:only-of-type {\n",
       "        vertical-align: middle;\n",
       "    }\n",
       "\n",
       "    .dataframe tbody tr th {\n",
       "        vertical-align: top;\n",
       "    }\n",
       "\n",
       "    .dataframe thead th {\n",
       "        text-align: right;\n",
       "    }\n",
       "</style>\n",
       "<table border=\"1\" class=\"dataframe\">\n",
       "  <thead>\n",
       "    <tr style=\"text-align: right;\">\n",
       "      <th></th>\n",
       "      <th>Pregnancies</th>\n",
       "      <th>PlasmaGlucose</th>\n",
       "      <th>DiastolicBloodPressure</th>\n",
       "      <th>TricepsThickness</th>\n",
       "      <th>SerumInsulin</th>\n",
       "      <th>BMI</th>\n",
       "      <th>DiabetesPedigree</th>\n",
       "      <th>Age</th>\n",
       "    </tr>\n",
       "  </thead>\n",
       "  <tbody>\n",
       "    <tr>\n",
       "      <th>0</th>\n",
       "      <td>-0.950935</td>\n",
       "      <td>1.974401</td>\n",
       "      <td>0.523884</td>\n",
       "      <td>0.356298</td>\n",
       "      <td>-0.863136</td>\n",
       "      <td>1.229683</td>\n",
       "      <td>2.154424</td>\n",
       "      <td>-0.755853</td>\n",
       "    </tr>\n",
       "    <tr>\n",
       "      <th>1</th>\n",
       "      <td>1.408315</td>\n",
       "      <td>-0.495823</td>\n",
       "      <td>1.299626</td>\n",
       "      <td>1.249448</td>\n",
       "      <td>-0.765438</td>\n",
       "      <td>-1.052302</td>\n",
       "      <td>-0.636632</td>\n",
       "      <td>-0.590417</td>\n",
       "    </tr>\n",
       "    <tr>\n",
       "      <th>2</th>\n",
       "      <td>1.113409</td>\n",
       "      <td>0.223356</td>\n",
       "      <td>-1.445306</td>\n",
       "      <td>1.592967</td>\n",
       "      <td>-0.772953</td>\n",
       "      <td>1.024922</td>\n",
       "      <td>-0.846581</td>\n",
       "      <td>-0.590417</td>\n",
       "    </tr>\n",
       "  </tbody>\n",
       "</table>\n",
       "</div>"
      ],
      "text/plain": [
       "   Pregnancies  PlasmaGlucose  DiastolicBloodPressure  TricepsThickness  \\\n",
       "0    -0.950935       1.974401                0.523884          0.356298   \n",
       "1     1.408315      -0.495823                1.299626          1.249448   \n",
       "2     1.113409       0.223356               -1.445306          1.592967   \n",
       "\n",
       "   SerumInsulin       BMI  DiabetesPedigree       Age  \n",
       "0     -0.863136  1.229683          2.154424 -0.755853  \n",
       "1     -0.765438 -1.052302         -0.636632 -0.590417  \n",
       "2     -0.772953  1.024922         -0.846581 -0.590417  "
      ]
     },
     "execution_count": 8,
     "metadata": {},
     "output_type": "execute_result"
    }
   ],
   "source": [
    "# 檢視縮放後的數據\n",
    "pd.DataFrame(X_mmx[:3], columns = data.columns[1:-1])"
   ]
  },
  {
   "cell_type": "code",
   "execution_count": null,
   "id": "lyric-there",
   "metadata": {},
   "outputs": [],
   "source": []
  },
  {
   "cell_type": "code",
   "execution_count": 9,
   "id": "increasing-career",
   "metadata": {},
   "outputs": [],
   "source": [
    "# 分割全部數據成為 訓練與驗證資料區 # sklearn.model_selection.train_test_split \n",
    "# https://scikit-learn.org/stable/modules/generated/sklearn.model_selection.train_test_split.html\n",
    "from sklearn.model_selection import train_test_split\n",
    "X_train, X_test, y_train, y_test = train_test_split(X_mmx, y, test_size=0.2, random_state=0)"
   ]
  },
  {
   "cell_type": "code",
   "execution_count": 10,
   "id": "tribal-harris",
   "metadata": {},
   "outputs": [
    {
     "data": {
      "text/plain": [
       "((12000, 8), (3000, 8), (12000,), (3000,))"
      ]
     },
     "execution_count": 10,
     "metadata": {},
     "output_type": "execute_result"
    }
   ],
   "source": [
    "X_train.shape, X_test.shape, y_train.shape, y_test.shape"
   ]
  },
  {
   "cell_type": "code",
   "execution_count": 11,
   "id": "burning-first",
   "metadata": {},
   "outputs": [],
   "source": [
    "# 載入模型\n",
    "# # https://scikit-learn.org/stable/modules/generated/sklearn.neighbors.KNeighborsClassifier.html#sklearn.neighbors.KNeighborsClassifier"
   ]
  },
  {
   "cell_type": "code",
   "execution_count": 12,
   "id": "extensive-figure",
   "metadata": {},
   "outputs": [
    {
     "name": "stdout",
     "output_type": "stream",
     "text": [
      "c:\\python37\\lib\\site-packages\\sklearn\\__init__.py\n"
     ]
    }
   ],
   "source": [
    "import  sklearn \n",
    "print(sklearn.__file__)"
   ]
  },
  {
   "cell_type": "code",
   "execution_count": 13,
   "id": "adjusted-abraham",
   "metadata": {},
   "outputs": [
    {
     "data": {
      "text/plain": [
       "LogisticRegression()"
      ]
     },
     "execution_count": 13,
     "metadata": {},
     "output_type": "execute_result"
    }
   ],
   "source": [
    "## https://scikit-learn.org/stable/modules/generated/sklearn.neural_network.MLPClassifier.html#sklearn.neural_network.MLPClassifier\n",
    "# 換成 MLPClassifier\n",
    "from sklearn.linear_model import LogisticRegression\n",
    "model = LogisticRegression(max_iter = 100)\n",
    "model.fit(X_train, y_train) # 餵入訓練資料"
   ]
  },
  {
   "cell_type": "code",
   "execution_count": 14,
   "id": "organized-drunk",
   "metadata": {},
   "outputs": [
    {
     "data": {
      "text/plain": [
       "(array([0, 0, 0, ..., 1, 0, 1], dtype=int64),\n",
       " array([0, 0, 1, ..., 1, 1, 1], dtype=int64))"
      ]
     },
     "execution_count": 14,
     "metadata": {},
     "output_type": "execute_result"
    }
   ],
   "source": [
    "model.predict(X_test), y_test # score model"
   ]
  },
  {
   "cell_type": "code",
   "execution_count": 15,
   "id": "amateur-spirit",
   "metadata": {},
   "outputs": [
    {
     "data": {
      "text/plain": [
       "array([ True,  True, False, ...,  True, False,  True])"
      ]
     },
     "execution_count": 15,
     "metadata": {},
     "output_type": "execute_result"
    }
   ],
   "source": [
    "# 用你的方式 LOOP NUMPY 驗證出 預測 model.predict(X_test) 百分之百 等於 y_test\n",
    "model.predict(X_test) == y_test"
   ]
  },
  {
   "cell_type": "code",
   "execution_count": 16,
   "id": "opposed-dominant",
   "metadata": {},
   "outputs": [
    {
     "data": {
      "text/plain": [
       "0.7913333333333333"
      ]
     },
     "execution_count": 16,
     "metadata": {},
     "output_type": "execute_result"
    }
   ],
   "source": [
    "# 用你的方式 LOOP NUMPY 驗證出 預測 model.predict(X_test) 百分之百 等於 y_test\n",
    "(model.predict(X_test) == y_test).sum() / len(y_test)"
   ]
  },
  {
   "cell_type": "code",
   "execution_count": 17,
   "id": "needed-relief",
   "metadata": {},
   "outputs": [
    {
     "data": {
      "text/plain": [
       "0.7913333333333333"
      ]
     },
     "execution_count": 17,
     "metadata": {},
     "output_type": "execute_result"
    }
   ],
   "source": [
    "model.score(X_test, y_test) # evaluate"
   ]
  },
  {
   "cell_type": "code",
   "execution_count": null,
   "id": "female-queens",
   "metadata": {},
   "outputs": [],
   "source": []
  }
 ],
 "metadata": {
  "kernelspec": {
   "display_name": "Python 3",
   "language": "python",
   "name": "python3"
  },
  "language_info": {
   "codemirror_mode": {
    "name": "ipython",
    "version": 3
   },
   "file_extension": ".py",
   "mimetype": "text/x-python",
   "name": "python",
   "nbconvert_exporter": "python",
   "pygments_lexer": "ipython3",
   "version": "3.7.9"
  }
 },
 "nbformat": 4,
 "nbformat_minor": 5
}
