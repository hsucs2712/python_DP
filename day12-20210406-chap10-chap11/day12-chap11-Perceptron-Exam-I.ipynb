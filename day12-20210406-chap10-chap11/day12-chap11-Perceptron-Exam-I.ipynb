{
 "cells": [
  {
   "cell_type": "code",
   "execution_count": 2,
   "id": "quiet-values",
   "metadata": {},
   "outputs": [
    {
     "data": {
      "text/plain": [
       "array([ 0.00471435, -0.01190976,  0.01432707, -0.00312652, -0.00720589])"
      ]
     },
     "execution_count": 2,
     "metadata": {},
     "output_type": "execute_result"
    }
   ],
   "source": [
    "import numpy as np\n",
    "rgen = np.random.RandomState(1234)\n",
    "rgen.normal(loc=0.0, scale=0.01, size=1 + 4)"
   ]
  },
  {
   "cell_type": "code",
   "execution_count": 3,
   "id": "fitted-institute",
   "metadata": {},
   "outputs": [
    {
     "data": {
      "text/plain": [
       "(array([[5.1, 3.5],\n",
       "        [4.9, 3. ],\n",
       "        [4.7, 3.2],\n",
       "        [4.6, 3.1]]),\n",
       " array([-1, -1, -1, -1]))"
      ]
     },
     "execution_count": 3,
     "metadata": {},
     "output_type": "execute_result"
    }
   ],
   "source": [
    "# 準備 X(四個特徵), y(1, -1)\n",
    "# 考試 僅使用前面兩個特徵(花萼的長寬)去訓練資料\n",
    "from sklearn import datasets\n",
    "iris = datasets.load_iris()\n",
    "X = iris['data'][:100, [0,1] ]\n",
    "y = np.where( iris['target'][:100]==0, -1, 1)\n",
    "X[:4], y[:4]"
   ]
  },
  {
   "cell_type": "code",
   "execution_count": 4,
   "id": "committed-charter",
   "metadata": {},
   "outputs": [],
   "source": [
    "class Perceptron(object):\n",
    "    \"\"\"Perceptron classifier.\n",
    "    Parameters\n",
    "    ------------\n",
    "    eta : float\n",
    "      Learning rate (between 0.0 and 1.0)\n",
    "    n_iter : int\n",
    "      Passes over the training dataset.\n",
    "    random_state : int\n",
    "      Random number generator seed for random weight\n",
    "      initialization.\n",
    "    Attributes\n",
    "    -----------\n",
    "    w_ : 1d-array\n",
    "      Weights after fitting.\n",
    "    errors_ : list\n",
    "      Number of misclassifications (updates) in each epoch.\n",
    "    \"\"\"\n",
    "    def __init__(self, eta=0.01, n_iter=50, random_state=1):\n",
    "        self.eta = eta       #學習率\n",
    "        self.n_iter = n_iter #所有數據要跑幾輪\n",
    "        self.random_state = random_state #初始亂數種子\n",
    "    # 匯入資料加上訓練\n",
    "    def fit(self, X, y):\n",
    "        \"\"\"Fit training data.\n",
    "        Parameters\n",
    "        ----------\n",
    "        X : {array-like}, shape = [n_examples, n_features]\n",
    "          Training vectors, where n_examples is the number of examples and\n",
    "          n_features is the number of features.\n",
    "        y : array-like, shape = [n_examples]\n",
    "          Target values.\n",
    "        Returns\n",
    "        -------\n",
    "        self : object\n",
    "        \"\"\"\n",
    "        rgen = np.random.RandomState(self.random_state)\n",
    "        self.w_ = rgen.normal(loc=0.0, scale=0.01, size=1 + X.shape[1])\n",
    "        self.errors_ = []\n",
    "        # 將所有的數據跑過幾輪(epochs)\n",
    "        for _ in range(self.n_iter):\n",
    "            errors = 0                   # 每一輪(含所有數據)一開始重置錯誤\n",
    "            for xi, target in zip(X, y): # 所有數據的每一筆去跟權重進行修正\n",
    "                update = self.eta * (target - self.predict(xi)) # 計算修正值\n",
    "                self.w_[1:] += update * xi                      # 根據每一筆資料(X)去修正權重(W)\n",
    "                self.w_[0] += update                            # 根據每一筆資料(X)去修正權重(W0)\n",
    "                errors += int(update != 0.0)                    # 計算有這一輪中有幾次預測錯誤\n",
    "            self.errors_.append(errors)                         # 紀錄每一輪中總共有多少錯誤 \n",
    "        return self\n",
    "\n",
    "    def net_input(self, X):\n",
    "        \"\"\"Calculate net input\"\"\"\n",
    "        return np.dot(X, self.w_[1:]) + self.w_[0] # 就是 W.T * X\n",
    "\n",
    "    def predict(self, X):\n",
    "        \"\"\"Return class label after unit step\"\"\"\n",
    "        return np.where(self.net_input(X) >= 0.0, 1, -1) # 根據 W.T * X 判斷哪一個種類 y(hat)"
   ]
  },
  {
   "cell_type": "code",
   "execution_count": 5,
   "id": "obvious-helen",
   "metadata": {},
   "outputs": [
    {
     "name": "stdout",
     "output_type": "stream",
     "text": [
      "['__class__', '__delattr__', '__dict__', '__dir__', '__doc__', '__eq__', '__format__', '__ge__', '__getattribute__', '__gt__', '__hash__', '__init__', '__init_subclass__', '__le__', '__lt__', '__module__', '__ne__', '__new__', '__reduce__', '__reduce_ex__', '__repr__', '__setattr__', '__sizeof__', '__str__', '__subclasshook__', '__weakref__', 'eta', 'fit', 'n_iter', 'net_input', 'predict', 'random_state']\n"
     ]
    }
   ],
   "source": [
    "model = Perceptron() # 初始類別\n",
    "print(dir(model))    # 檢視類別提供方法"
   ]
  },
  {
   "cell_type": "code",
   "execution_count": 6,
   "id": "million-general",
   "metadata": {},
   "outputs": [
    {
     "data": {
      "text/plain": [
       "<__main__.Perceptron at 0x259ad263788>"
      ]
     },
     "execution_count": 6,
     "metadata": {},
     "output_type": "execute_result"
    }
   ],
   "source": [
    "model.fit(X, y)     # 呼叫類別的.fit(方法救世匯入資料 加上訓練)"
   ]
  },
  {
   "cell_type": "code",
   "execution_count": 7,
   "id": "worldwide-action",
   "metadata": {},
   "outputs": [
    {
     "data": {
      "text/plain": [
       "array([-0.22375655,  0.59788244, -0.76528172])"
      ]
     },
     "execution_count": 7,
     "metadata": {},
     "output_type": "execute_result"
    }
   ],
   "source": [
    "# 檢視權重\n",
    "model.w_"
   ]
  },
  {
   "cell_type": "code",
   "execution_count": 8,
   "id": "instrumental-sector",
   "metadata": {},
   "outputs": [
    {
     "data": {
      "text/plain": [
       "50"
      ]
     },
     "execution_count": 8,
     "metadata": {},
     "output_type": "execute_result"
    }
   ],
   "source": [
    "# 檢視每一EPOCHS的訓練有幾筆數據預測錯誤\n",
    "len(model.errors_)"
   ]
  },
  {
   "cell_type": "code",
   "execution_count": 9,
   "id": "natural-accessory",
   "metadata": {},
   "outputs": [
    {
     "data": {
      "image/png": "[encoded data removed]",
      "text/plain": [
       "<Figure size 864x288 with 1 Axes>"
      ]
     },
     "metadata": {
      "needs_background": "light"
     },
     "output_type": "display_data"
    }
   ],
   "source": [
    "# 針對每一輪的所有一百筆數據預測錯誤筆數畫出來\n",
    "import matplotlib.pyplot as plt\n",
    "plt.figure(figsize=(12,4))\n",
    "plt.plot(model.errors_, color='red')\n",
    "plt.grid()\n",
    "plt.show()"
   ]
  }
 ],
 "metadata": {
  "kernelspec": {
   "display_name": "Python 3",
   "language": "python",
   "name": "python3"
  },
  "language_info": {
   "codemirror_mode": {
    "name": "ipython",
    "version": 3
   },
   "file_extension": ".py",
   "mimetype": "text/x-python",
   "name": "python",
   "nbconvert_exporter": "python",
   "pygments_lexer": "ipython3",
   "version": "3.7.9"
  }
 },
 "nbformat": 4,
 "nbformat_minor": 5
}
