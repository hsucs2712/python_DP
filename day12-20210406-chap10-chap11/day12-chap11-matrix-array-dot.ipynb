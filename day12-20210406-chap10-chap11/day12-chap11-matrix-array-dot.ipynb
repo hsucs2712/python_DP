{
 "cells": [
  {
   "cell_type": "code",
   "execution_count": 1,
   "id": "surprised-killer",
   "metadata": {},
   "outputs": [
    {
     "data": {
      "text/plain": [
       "((3, 1), (3, 1))"
      ]
     },
     "execution_count": 1,
     "metadata": {},
     "output_type": "execute_result"
    }
   ],
   "source": [
    "import numpy as np\n",
    "w = np.array([[1],\n",
    "              [2],\n",
    "              [3]])\n",
    "x = np.array([[4],\n",
    "              [5],\n",
    "              [6]])\n",
    "w.shape, x.shape"
   ]
  },
  {
   "cell_type": "code",
   "execution_count": 4,
   "id": "pursuant-arabic",
   "metadata": {},
   "outputs": [
    {
     "data": {
      "text/plain": [
       "32"
      ]
     },
     "execution_count": 4,
     "metadata": {},
     "output_type": "execute_result"
    }
   ],
   "source": [
    "1 * 4 + 2 * 5 + 3 * 6"
   ]
  },
  {
   "cell_type": "code",
   "execution_count": 6,
   "id": "civilian-projection",
   "metadata": {},
   "outputs": [
    {
     "data": {
      "text/plain": [
       "array([[32]])"
      ]
     },
     "execution_count": 6,
     "metadata": {},
     "output_type": "execute_result"
    }
   ],
   "source": [
    "w.T.dot(x)"
   ]
  },
  {
   "cell_type": "code",
   "execution_count": 3,
   "id": "cultural-provincial",
   "metadata": {},
   "outputs": [],
   "source": [
    "# w.dot(x)"
   ]
  }
 ],
 "metadata": {
  "kernelspec": {
   "display_name": "Python 3",
   "language": "python",
   "name": "python3"
  },
  "language_info": {
   "codemirror_mode": {
    "name": "ipython",
    "version": 3
   },
   "file_extension": ".py",
   "mimetype": "text/x-python",
   "name": "python",
   "nbconvert_exporter": "python",
   "pygments_lexer": "ipython3",
   "version": "3.7.9"
  }
 },
 "nbformat": 4,
 "nbformat_minor": 5
}
