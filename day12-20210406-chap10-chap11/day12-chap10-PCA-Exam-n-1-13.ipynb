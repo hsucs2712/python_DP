{
 "cells": [
  {
   "cell_type": "code",
   "execution_count": 1,
   "id": "underlying-inspector",
   "metadata": {},
   "outputs": [
    {
     "data": {
      "text/plain": [
       "dict_keys(['data', 'target', 'frame', 'target_names', 'DESCR', 'feature_names'])"
      ]
     },
     "execution_count": 1,
     "metadata": {},
     "output_type": "execute_result"
    }
   ],
   "source": [
    "# 匯入資料\n",
    "from sklearn import datasets\n",
    "wine = datasets.load_wine()\n",
    "wine.keys()"
   ]
  },
  {
   "cell_type": "code",
   "execution_count": 3,
   "id": "industrial-makeup",
   "metadata": {
    "collapsed": true
   },
   "outputs": [
    {
     "data": {
      "text/plain": [
       "(['alcohol',\n",
       "  'malic_acid',\n",
       "  'ash',\n",
       "  'alcalinity_of_ash',\n",
       "  'magnesium',\n",
       "  'total_phenols',\n",
       "  'flavanoids',\n",
       "  'nonflavanoid_phenols',\n",
       "  'proanthocyanins',\n",
       "  'color_intensity',\n",
       "  'hue',\n",
       "  'od280/od315_of_diluted_wines',\n",
       "  'proline'],\n",
       " 13)"
      ]
     },
     "execution_count": 3,
     "metadata": {},
     "output_type": "execute_result"
    }
   ],
   "source": [
    "wine['feature_names'], len(wine['feature_names'])"
   ]
  },
  {
   "cell_type": "code",
   "execution_count": 7,
   "id": "specialized-footage",
   "metadata": {},
   "outputs": [],
   "source": [
    "#X 前面四個欄位的數值 #y 最後一個欄位的數值\n",
    "# X, y = data.iloc[:, 1:-1].values, data.iloc[:, -1].values\n",
    "X, y = wine['data'], wine['target']"
   ]
  },
  {
   "cell_type": "code",
   "execution_count": 10,
   "id": "broke-london",
   "metadata": {
    "collapsed": true
   },
   "outputs": [
    {
     "data": {
      "text/plain": [
       "(array([[1.423e+01, 1.710e+00, 2.430e+00, 1.560e+01, 1.270e+02, 2.800e+00,\n",
       "         3.060e+00, 2.800e-01, 2.290e+00, 5.640e+00, 1.040e+00, 3.920e+00,\n",
       "         1.065e+03],\n",
       "        [1.320e+01, 1.780e+00, 2.140e+00, 1.120e+01, 1.000e+02, 2.650e+00,\n",
       "         2.760e+00, 2.600e-01, 1.280e+00, 4.380e+00, 1.050e+00, 3.400e+00,\n",
       "         1.050e+03],\n",
       "        [1.316e+01, 2.360e+00, 2.670e+00, 1.860e+01, 1.010e+02, 2.800e+00,\n",
       "         3.240e+00, 3.000e-01, 2.810e+00, 5.680e+00, 1.030e+00, 3.170e+00,\n",
       "         1.185e+03]]),\n",
       " array([0, 0, 0]),\n",
       " (178, 13))"
      ]
     },
     "execution_count": 10,
     "metadata": {},
     "output_type": "execute_result"
    }
   ],
   "source": [
    "X[:3], y[:3], X.shape"
   ]
  },
  {
   "cell_type": "code",
   "execution_count": 11,
   "id": "passive-mission",
   "metadata": {},
   "outputs": [],
   "source": [
    "# 濃縮特徵\n",
    "# sklearn.decomposition.PCA\n",
    "from sklearn.decomposition import PCA\n",
    "pca = PCA(n_components = 10)\n",
    "X_pca = pca.fit_transform(X)"
   ]
  },
  {
   "cell_type": "code",
   "execution_count": 14,
   "id": "several-keeping",
   "metadata": {
    "collapsed": true
   },
   "outputs": [
    {
     "data": {
      "text/plain": [
       "(array([[ 3.18562979e+02,  2.14921307e+01,  3.13073470e+00,\n",
       "         -2.50113758e-01,  6.77078222e-01,  5.68081040e-01,\n",
       "         -6.19641832e-01, -1.99555377e-01,  7.01280283e-01,\n",
       "         -9.50075663e-02],\n",
       "        [ 3.03097420e+02, -5.36471768e+00,  6.82283550e+00,\n",
       "         -8.64034749e-01, -4.86095978e-01,  1.43398712e-02,\n",
       "          1.08865121e-01,  6.04714449e-01,  2.86716849e-01,\n",
       "         -4.57819758e-02],\n",
       "        [ 4.38061133e+02, -6.53730945e+00, -1.11322298e+00,\n",
       "          9.12410681e-01,  3.80651426e-01,  6.72403748e-01,\n",
       "          7.85818858e-01, -5.00885700e-01,  2.45466567e-02,\n",
       "         -2.08959774e-01]]),\n",
       " (178, 10))"
      ]
     },
     "execution_count": 14,
     "metadata": {},
     "output_type": "execute_result"
    }
   ],
   "source": [
    "X_pca[:3], X_pca.shape"
   ]
  },
  {
   "cell_type": "code",
   "execution_count": 15,
   "id": "increasing-career",
   "metadata": {},
   "outputs": [],
   "source": [
    "# 分割全部數據成為 訓練與驗證資料區 # sklearn.model_selection.train_test_split \n",
    "# https://scikit-learn.org/stable/modules/generated/sklearn.model_selection.train_test_split.html\n",
    "from sklearn.model_selection import train_test_split\n",
    "X_train, X_test, y_train, y_test = train_test_split(X_pca, y, test_size=0.2, random_state=0)"
   ]
  },
  {
   "cell_type": "code",
   "execution_count": 16,
   "id": "tribal-harris",
   "metadata": {},
   "outputs": [
    {
     "data": {
      "text/plain": [
       "((142, 10), (36, 10), (142,), (36,))"
      ]
     },
     "execution_count": 16,
     "metadata": {},
     "output_type": "execute_result"
    }
   ],
   "source": [
    "X_train.shape, X_test.shape, y_train.shape, y_test.shape"
   ]
  },
  {
   "cell_type": "code",
   "execution_count": 17,
   "id": "adjusted-abraham",
   "metadata": {},
   "outputs": [
    {
     "data": {
      "text/plain": [
       "RandomForestClassifier()"
      ]
     },
     "execution_count": 17,
     "metadata": {},
     "output_type": "execute_result"
    }
   ],
   "source": [
    "## https://scikit-learn.org/stable/modules/generated/sklearn.neural_network.MLPClassifier.html#sklearn.neural_network.MLPClassifier\n",
    "# 換成 MLPClassifier\n",
    "from sklearn.ensemble import RandomForestClassifier\n",
    "model = RandomForestClassifier()\n",
    "model.fit(X_train, y_train) "
   ]
  },
  {
   "cell_type": "code",
   "execution_count": 18,
   "id": "organized-drunk",
   "metadata": {},
   "outputs": [
    {
     "data": {
      "text/plain": [
       "(array([0, 2, 1, 0, 1, 1, 0, 2, 1, 1, 2, 2, 0, 1, 2, 1, 0, 0, 1, 0, 1, 0,\n",
       "        1, 1, 1, 1, 1, 1, 1, 2, 0, 0, 1, 0, 0, 0]),\n",
       " array([0, 2, 1, 0, 1, 1, 0, 2, 1, 1, 2, 2, 0, 1, 2, 1, 0, 0, 1, 0, 1, 0,\n",
       "        0, 1, 1, 1, 1, 1, 1, 2, 0, 0, 1, 0, 0, 0]))"
      ]
     },
     "execution_count": 18,
     "metadata": {},
     "output_type": "execute_result"
    }
   ],
   "source": [
    "model.predict(X_test), y_test # score model"
   ]
  },
  {
   "cell_type": "code",
   "execution_count": 19,
   "id": "needed-relief",
   "metadata": {},
   "outputs": [
    {
     "data": {
      "text/plain": [
       "0.9722222222222222"
      ]
     },
     "execution_count": 19,
     "metadata": {},
     "output_type": "execute_result"
    }
   ],
   "source": [
    "model.score(X_test, y_test) "
   ]
  },
  {
   "cell_type": "code",
   "execution_count": null,
   "id": "painful-auditor",
   "metadata": {},
   "outputs": [],
   "source": [
    "'''\n",
    "13 :\n",
    "12 :\n",
    "11 :\n",
    "10 : 0.9722222222222222\n",
    " 9 :\n",
    " 8\n",
    " 7\n",
    " \n",
    " \n",
    " 1 :\n",
    "'''"
   ]
  },
  {
   "cell_type": "code",
   "execution_count": 24,
   "id": "noticed-belize",
   "metadata": {},
   "outputs": [],
   "source": [
    "# 跑一下迴圈 訓練在 \n",
    "# n_components = 1 - 13\n",
    "# 精準度的變化\n",
    "\n",
    "from sklearn import datasets\n",
    "from sklearn.decomposition import PCA\n",
    "from sklearn.model_selection import train_test_split\n",
    "from sklearn.ensemble import RandomForestClassifier\n",
    "    \n",
    "wine = datasets.load_wine()\n",
    "X, y = wine['data'], wine['target']\n",
    "scores = []\n",
    "# 3 --> 13\n",
    "for i in range(1, 3):\n",
    "    \n",
    "    pca = PCA(n_components = i)\n",
    "    X_pca = pca.fit_transform(X)\n",
    "\n",
    "    X_train, X_test, y_train, y_test = train_test_split(X_pca, y, test_size=0.2, random_state=0)\n",
    "\n",
    "    model = RandomForestClassifier()\n",
    "    model.fit(X_train, y_train) \n",
    "\n",
    "    scores.append( (i, model.score(X_test, y_test)) )\n",
    "    "
   ]
  },
  {
   "cell_type": "code",
   "execution_count": 23,
   "id": "certain-agent",
   "metadata": {},
   "outputs": [
    {
     "data": {
      "text/plain": [
       "[(1, 0.6944444444444444), (2, 0.7777777777777778)]"
      ]
     },
     "execution_count": 23,
     "metadata": {},
     "output_type": "execute_result"
    }
   ],
   "source": [
    "scores"
   ]
  }
 ],
 "metadata": {
  "kernelspec": {
   "display_name": "Python 3",
   "language": "python",
   "name": "python3"
  },
  "language_info": {
   "codemirror_mode": {
    "name": "ipython",
    "version": 3
   },
   "file_extension": ".py",
   "mimetype": "text/x-python",
   "name": "python",
   "nbconvert_exporter": "python",
   "pygments_lexer": "ipython3",
   "version": "3.7.9"
  }
 },
 "nbformat": 4,
 "nbformat_minor": 5
}
