{
 "cells": [
  {
   "cell_type": "code",
   "execution_count": 6,
   "id": "committed-prediction",
   "metadata": {},
   "outputs": [
    {
     "data": {
      "text/plain": [
       "(dict_keys(['data', 'target', 'frame', 'target_names', 'DESCR', 'feature_names', 'filename']),\n",
       " ['sepal length (cm)',\n",
       "  'sepal width (cm)',\n",
       "  'petal length (cm)',\n",
       "  'petal width (cm)'],\n",
       " array([0, 1, 2]))"
      ]
     },
     "execution_count": 6,
     "metadata": {},
     "output_type": "execute_result"
    }
   ],
   "source": [
    "import numpy as np\n",
    "from sklearn import datasets\n",
    "iris = datasets.load_iris()\n",
    "iris.keys(), iris['feature_names'] , np.unique(iris['target'])"
   ]
  },
  {
   "cell_type": "code",
   "execution_count": null,
   "id": "wanted-dance",
   "metadata": {},
   "outputs": [],
   "source": [
    "# 兩個陣列對應找出需要的資料"
   ]
  },
  {
   "cell_type": "code",
   "execution_count": 36,
   "id": "nervous-bandwidth",
   "metadata": {},
   "outputs": [
    {
     "name": "stdout",
     "output_type": "stream",
     "text": [
      "[False False False  True  True  True]\n"
     ]
    },
    {
     "data": {
      "text/plain": [
       "array([6, 7, 8])"
      ]
     },
     "execution_count": 36,
     "metadata": {},
     "output_type": "execute_result"
    }
   ],
   "source": [
    "import numpy as np\n",
    "data = np.array([1, 3, 5, 6, 7, 8])\n",
    "idx = data > 5\n",
    "print(idx)\n",
    "data[idx]"
   ]
  },
  {
   "cell_type": "code",
   "execution_count": 44,
   "id": "infinite-reflection",
   "metadata": {},
   "outputs": [
    {
     "data": {
      "text/plain": [
       "array([[6.3, 3.3],\n",
       "       [5.8, 2.7],\n",
       "       [7.1, 3. ]])"
      ]
     },
     "execution_count": 44,
     "metadata": {},
     "output_type": "execute_result"
    }
   ],
   "source": [
    "X, y = iris['data'], iris['target']\n",
    "X # 特徵\n",
    "y # 標籤\n",
    "X[ y == 2 ][ :3 , [0, 1] ]"
   ]
  },
  {
   "cell_type": "code",
   "execution_count": 38,
   "id": "bulgarian-indie",
   "metadata": {},
   "outputs": [
    {
     "data": {
      "text/plain": [
       "array([[6.3, 3.3, 6. , 2.5],\n",
       "       [5.8, 2.7, 5.1, 1.9],\n",
       "       [7.1, 3. , 5.9, 2.1],\n",
       "       [6.3, 2.9, 5.6, 1.8],\n",
       "       [6.5, 3. , 5.8, 2.2],\n",
       "       [7.6, 3. , 6.6, 2.1],\n",
       "       [4.9, 2.5, 4.5, 1.7],\n",
       "       [7.3, 2.9, 6.3, 1.8],\n",
       "       [6.7, 2.5, 5.8, 1.8],\n",
       "       [7.2, 3.6, 6.1, 2.5],\n",
       "       [6.5, 3.2, 5.1, 2. ],\n",
       "       [6.4, 2.7, 5.3, 1.9],\n",
       "       [6.8, 3. , 5.5, 2.1],\n",
       "       [5.7, 2.5, 5. , 2. ],\n",
       "       [5.8, 2.8, 5.1, 2.4],\n",
       "       [6.4, 3.2, 5.3, 2.3],\n",
       "       [6.5, 3. , 5.5, 1.8],\n",
       "       [7.7, 3.8, 6.7, 2.2],\n",
       "       [7.7, 2.6, 6.9, 2.3],\n",
       "       [6. , 2.2, 5. , 1.5],\n",
       "       [6.9, 3.2, 5.7, 2.3],\n",
       "       [5.6, 2.8, 4.9, 2. ],\n",
       "       [7.7, 2.8, 6.7, 2. ],\n",
       "       [6.3, 2.7, 4.9, 1.8],\n",
       "       [6.7, 3.3, 5.7, 2.1],\n",
       "       [7.2, 3.2, 6. , 1.8],\n",
       "       [6.2, 2.8, 4.8, 1.8],\n",
       "       [6.1, 3. , 4.9, 1.8],\n",
       "       [6.4, 2.8, 5.6, 2.1],\n",
       "       [7.2, 3. , 5.8, 1.6],\n",
       "       [7.4, 2.8, 6.1, 1.9],\n",
       "       [7.9, 3.8, 6.4, 2. ],\n",
       "       [6.4, 2.8, 5.6, 2.2],\n",
       "       [6.3, 2.8, 5.1, 1.5],\n",
       "       [6.1, 2.6, 5.6, 1.4],\n",
       "       [7.7, 3. , 6.1, 2.3],\n",
       "       [6.3, 3.4, 5.6, 2.4],\n",
       "       [6.4, 3.1, 5.5, 1.8],\n",
       "       [6. , 3. , 4.8, 1.8],\n",
       "       [6.9, 3.1, 5.4, 2.1],\n",
       "       [6.7, 3.1, 5.6, 2.4],\n",
       "       [6.9, 3.1, 5.1, 2.3],\n",
       "       [5.8, 2.7, 5.1, 1.9],\n",
       "       [6.8, 3.2, 5.9, 2.3],\n",
       "       [6.7, 3.3, 5.7, 2.5],\n",
       "       [6.7, 3. , 5.2, 2.3],\n",
       "       [6.3, 2.5, 5. , 1.9],\n",
       "       [6.5, 3. , 5.2, 2. ],\n",
       "       [6.2, 3.4, 5.4, 2.3],\n",
       "       [5.9, 3. , 5.1, 1.8]])"
      ]
     },
     "execution_count": 38,
     "metadata": {},
     "output_type": "execute_result"
    }
   ],
   "source": []
  },
  {
   "cell_type": "code",
   "execution_count": 24,
   "id": "committed-northeast",
   "metadata": {},
   "outputs": [
    {
     "data": {
      "image/png": "[encoded data removed]",
      "text/plain": [
       "<Figure size 576x576 with 1 Axes>"
      ]
     },
     "metadata": {
      "needs_background": "light"
     },
     "output_type": "display_data"
    }
   ],
   "source": [
    "# '''花萼 sepal length (cm) vs sepal width (cm)\n",
    "# 劃一個圖 三個種類 [0, 1, 2] = ['red', 'green', 'blue']\n",
    "# Y 軸 : 'sepal length (cm)' , X 軸 : 'sepal width (cm)' \n",
    "# iris['data'], \n",
    "import matplotlib.pyplot as plt\n",
    "X, y = iris['data'], iris['target']\n",
    "type0, type1, type2 = (X [ y==0 ][:, [0, 1]]), (X [ y==1 ][:, [0, 1]]), (X [ y==2 ][:, [0, 1]])\n",
    "plt.figure(figsize=(8,8))\n",
    "plt.title('Sepal length (cm) vs Sepal width (cm)')\n",
    "plt.scatter(type0[:, 0], type0[:, 1], color='red')\n",
    "plt.scatter(type1[:, 0], type1[:, 1], color='green')\n",
    "plt.scatter(type2[:, 0], type2[:, 1], color='blue')\n",
    "plt.show()"
   ]
  },
  {
   "cell_type": "code",
   "execution_count": 25,
   "id": "illegal-record",
   "metadata": {},
   "outputs": [
    {
     "data": {
      "image/png": "[encoded data removed]",
      "text/plain": [
       "<Figure size 576x576 with 1 Axes>"
      ]
     },
     "metadata": {
      "needs_background": "light"
     },
     "output_type": "display_data"
    }
   ],
   "source": [
    "'''改成花瓣 petal length (cm) vs petal width (cm)\n",
    "   sepal length (cm)',\n",
    "  'sepal width (cm)',\n",
    "  'petal length (cm)',\n",
    "  'petal width (cm)'\n",
    "'''\n",
    "import matplotlib.pyplot as plt\n",
    "X, y = iris['data'], iris['target']\n",
    "type0, type1, type2 = (X [ y==0 ][:, [2, 3]]), (X [ y==1 ][:, [2, 3]]), (X [ y==2 ][:, [2, 3]])\n",
    "plt.figure(figsize=(8, 8))\n",
    "plt.title('Petal length (cm) vs Petal width (cm)')\n",
    "plt.scatter(type0[:, 0], type0[:, 1], color='red')\n",
    "plt.scatter(type1[:, 0], type1[:, 1], color='green')\n",
    "plt.scatter(type2[:, 0], type2[:, 1], color='blue')\n",
    "plt.show()"
   ]
  },
  {
   "cell_type": "code",
   "execution_count": 45,
   "id": "sunset-hotel",
   "metadata": {},
   "outputs": [
    {
     "data": {
      "image/png": "[encoded data removed]",
      "text/plain": [
       "<Figure size 576x576 with 1 Axes>"
      ]
     },
     "metadata": {
      "needs_background": "light"
     },
     "output_type": "display_data"
    }
   ],
   "source": [
    "'''改成花萼長度 VS 花瓣長度 sepal length (cm) vs petal length (cm)\n",
    "   sepal length (cm)',\n",
    "  'sepal width (cm)',\n",
    "  'petal length (cm)',\n",
    "  'petal width (cm)'\n",
    "'''\n",
    "import matplotlib.pyplot as plt\n",
    "X, y = iris['data'], iris['target']\n",
    "type0, type1, type2 = (X [ y==0 ][:, [0, 2]]), (X [ y==1 ][:, [0, 2]]), (X [ y==2 ][:, [0, 2]])\n",
    "plt.figure(figsize=(8, 8))\n",
    "plt.title('sepal length (cm) vs petal length')\n",
    "plt.scatter(type0[:, 0], type0[:, 1], color='red')\n",
    "plt.scatter(type1[:, 0], type1[:, 1], color='green')\n",
    "plt.scatter(type2[:, 0], type2[:, 1], color='blue')\n",
    "plt.show()"
   ]
  }
 ],
 "metadata": {
  "kernelspec": {
   "display_name": "Python 3",
   "language": "python",
   "name": "python3"
  },
  "language_info": {
   "codemirror_mode": {
    "name": "ipython",
    "version": 3
   },
   "file_extension": ".py",
   "mimetype": "text/x-python",
   "name": "python",
   "nbconvert_exporter": "python",
   "pygments_lexer": "ipython3",
   "version": "3.7.9"
  }
 },
 "nbformat": 4,
 "nbformat_minor": 5
}
