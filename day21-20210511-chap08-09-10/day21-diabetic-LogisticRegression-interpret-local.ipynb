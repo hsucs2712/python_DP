{
 "cells": [
  {
   "cell_type": "code",
   "execution_count": 1,
   "metadata": {},
   "outputs": [],
   "source": [
    "# 安裝套件 for https://pypi.org/project/interpret-community/\n",
    "# This package has been tested with Python 3.5, 3.6 and 3.7\n",
    "# !pip install interpret-community"
   ]
  },
  {
   "cell_type": "code",
   "execution_count": 2,
   "metadata": {},
   "outputs": [],
   "source": [
    "import pandas as pd\n",
    "df = pd.read_csv('diabetes.csv')"
   ]
  },
  {
   "cell_type": "code",
   "execution_count": 8,
   "metadata": {},
   "outputs": [
    {
     "data": {
      "text/plain": [
       "array([[0.00000000e+00, 1.71000000e+02, 8.00000000e+01, 3.40000000e+01,\n",
       "        2.30000000e+01, 4.35097259e+01, 1.21319135e+00, 2.10000000e+01],\n",
       "       [8.00000000e+00, 9.20000000e+01, 9.30000000e+01, 4.70000000e+01,\n",
       "        3.60000000e+01, 2.12405757e+01, 1.58364981e-01, 2.30000000e+01]])"
      ]
     },
     "execution_count": 8,
     "metadata": {},
     "output_type": "execute_result"
    }
   ],
   "source": [
    "# 取出 Ｘ特徵, y標籤\n",
    "features = ['Pregnancies','PlasmaGlucose','DiastolicBloodPressure','TricepsThickness','SerumInsulin','BMI','DiabetesPedigree','Age']\n",
    "labels = ['not-diabetic', 'diabetic']\n",
    "X, y = df.iloc[:, 1:-1].values , df.iloc[:, -1].values\n",
    "X[:2]"
   ]
  },
  {
   "cell_type": "code",
   "execution_count": 4,
   "metadata": {},
   "outputs": [],
   "source": [
    "# 資料處理\n",
    "from sklearn.preprocessing import StandardScaler\n",
    "from sklearn.preprocessing import MinMaxScaler\n",
    "ss = MinMaxScaler()\n",
    "X_ss = ss.fit_transform(X)"
   ]
  },
  {
   "cell_type": "code",
   "execution_count": 5,
   "metadata": {},
   "outputs": [],
   "source": [
    "# 區分訓練與驗證數據 \n",
    "from sklearn.model_selection import train_test_split \n",
    "X_train, X_test, y_train, y_test = train_test_split(X_ss, y, test_size=0.2, random_state=42)"
   ]
  },
  {
   "cell_type": "code",
   "execution_count": 9,
   "metadata": {},
   "outputs": [
    {
     "name": "stderr",
     "output_type": "stream",
     "text": [
      "c:\\python37\\lib\\site-packages\\sklearn\\linear_model\\logistic.py:432: FutureWarning: Default solver will be changed to 'lbfgs' in 0.22. Specify a solver to silence this warning.\n",
      "  FutureWarning)\n"
     ]
    },
    {
     "data": {
      "text/plain": [
       "0.7883333333333333"
      ]
     },
     "execution_count": 9,
     "metadata": {},
     "output_type": "execute_result"
    }
   ],
   "source": [
    "from sklearn.linear_model import LogisticRegression\n",
    "model = LogisticRegression()\n",
    "model.fit(X_train, y_train)\n",
    "model.score(X_test, y_test)"
   ]
  },
  {
   "cell_type": "code",
   "execution_count": 10,
   "metadata": {},
   "outputs": [
    {
     "name": "stdout",
     "output_type": "stream",
     "text": [
      "Could not import lightgbm, required if using LGBMExplainableModel\n"
     ]
    },
    {
     "name": "stderr",
     "output_type": "stream",
     "text": [
      "Setting feature_perturbation = \"tree_path_dependent\" because no background data was given.\n"
     ]
    },
    {
     "name": "stdout",
     "output_type": "stream",
     "text": [
      "TabularExplainer ready!\n"
     ]
    },
    {
     "name": "stderr",
     "output_type": "stream",
     "text": [
      "The option feature_dependence has been renamed to feature_perturbation!\n",
      "The option feature_perturbation=\"independent\" is has been renamed to feature_perturbation=\"interventional\"!\n"
     ]
    }
   ],
   "source": [
    "from interpret.ext.blackbox import TabularExplainer\n",
    "\n",
    "# \"features\" and \"classes\" fields are optional\n",
    "tab_explainer = TabularExplainer(model,\n",
    "                                 X_train, \n",
    "                                 features=features, \n",
    "                                 classes=labels)\n",
    "print(tab_explainer, \"ready!\")"
   ]
  },
  {
   "cell_type": "code",
   "execution_count": 11,
   "metadata": {},
   "outputs": [
    {
     "name": "stdout",
     "output_type": "stream",
     "text": [
      "Pregnancies : 0.7738326549805316\n",
      "Age : 0.5674265497913503\n",
      "BMI : 0.40880737624654634\n",
      "SerumInsulin : 0.3802614327979297\n",
      "DiabetesPedigree : 0.2836407976562152\n",
      "TricepsThickness : 0.28358333438249866\n",
      "PlasmaGlucose : 0.2197000888016443\n",
      "DiastolicBloodPressure : 0.15585744638475404\n"
     ]
    }
   ],
   "source": [
    "# you can use the training data or the test data here\n",
    "global_tab_explanation = tab_explainer.explain_global(X_train)\n",
    "\n",
    "# Get the top features by importance\n",
    "global_tab_feature_importance = global_tab_explanation.get_feature_importance_dict()\n",
    "for feature, importance in global_tab_feature_importance.items():\n",
    "    print(feature,\":\", importance)"
   ]
  },
  {
   "cell_type": "code",
   "execution_count": 12,
   "metadata": {},
   "outputs": [
    {
     "name": "stdout",
     "output_type": "stream",
     "text": [
      "Support for not-diabetic\n",
      "\tObservation 1\n",
      "\t\t Age : 0.3585110577225474\n",
      "\t\t SerumInsulin : 0.3343109165835533\n",
      "\t\t TricepsThickness : 0.2909764596855784\n",
      "\t\t DiabetesPedigree : 0.18145223270795766\n",
      "\t\t PlasmaGlucose : 0.12522926683692426\n",
      "\t\t DiastolicBloodPressure : -0.15789666299543417\n",
      "\t\t BMI : -0.6518170768933169\n",
      "\t\t Pregnancies : -0.9910960532871952\n",
      "\t\t ----------\n",
      "\t\t Total: -0.5103298596393854 Prediction: not-diabetic\n",
      "\tObservation 2\n",
      "\t\t Pregnancies : 0.5931438027765453\n",
      "\t\t TricepsThickness : 0.35884093063340394\n",
      "\t\t SerumInsulin : 0.30069415456832693\n",
      "\t\t DiabetesPedigree : 0.2915524692076788\n",
      "\t\t DiastolicBloodPressure : 0.09920877570353023\n",
      "\t\t BMI : 0.0879021829688315\n",
      "\t\t PlasmaGlucose : 0.08343416621050334\n",
      "\t\t Age : -0.2200669769844407\n",
      "\t\t ----------\n",
      "\t\t Total: 1.5947095050843794 Prediction: not-diabetic\n",
      "Support for diabetic\n",
      "\tObservation 1\n",
      "\t\t Pregnancies : 0.9910960532871952\n",
      "\t\t BMI : 0.6518170768933169\n",
      "\t\t DiastolicBloodPressure : 0.15789666299543417\n",
      "\t\t PlasmaGlucose : -0.12522926683692426\n",
      "\t\t DiabetesPedigree : -0.18145223270795766\n",
      "\t\t TricepsThickness : -0.2909764596855784\n",
      "\t\t SerumInsulin : -0.3343109165835533\n",
      "\t\t Age : -0.3585110577225474\n",
      "\t\t ----------\n",
      "\t\t Total: 0.5103298596393855 Prediction: not-diabetic\n",
      "\tObservation 2\n",
      "\t\t Age : 0.2200669769844407\n",
      "\t\t PlasmaGlucose : -0.08343416621050334\n",
      "\t\t BMI : -0.0879021829688315\n",
      "\t\t DiastolicBloodPressure : -0.09920877570353023\n",
      "\t\t DiabetesPedigree : -0.2915524692076788\n",
      "\t\t SerumInsulin : -0.30069415456832693\n",
      "\t\t TricepsThickness : -0.35884093063340394\n",
      "\t\t Pregnancies : -0.5931438027765453\n",
      "\t\t ----------\n",
      "\t\t Total: -1.5947095050843791 Prediction: not-diabetic\n"
     ]
    }
   ],
   "source": [
    "# local\n",
    "# Get the observations we want to explain (the first two)\n",
    "X_explain = X_test[0:2]\n",
    "\n",
    "# Get predictions\n",
    "predictions = model.predict(X_explain)\n",
    "\n",
    "# Get local explanations\n",
    "local_tab_explanation = tab_explainer.explain_local(X_explain)\n",
    "\n",
    "# Get feature names and importance for each possible label\n",
    "local_tab_features = local_tab_explanation.get_ranked_local_names()\n",
    "local_tab_importance = local_tab_explanation.get_ranked_local_values()\n",
    "\n",
    "for l in range(len(local_tab_features)):\n",
    "    print('Support for', labels[l])\n",
    "    label = local_tab_features[l]\n",
    "    for o in range(len(label)):\n",
    "        print(\"\\tObservation\", o + 1)\n",
    "        feature_list = label[o]\n",
    "        total_support = 0\n",
    "        for f in range(len(feature_list)):\n",
    "            print(\"\\t\\t\", feature_list[f], ':', local_tab_importance[l][o][f])\n",
    "            total_support += local_tab_importance[l][o][f]\n",
    "        print(\"\\t\\t ----------\\n\\t\\t Total:\", total_support, \"Prediction:\", labels[predictions[o]])"
   ]
  }
 ],
 "metadata": {
  "kernelspec": {
   "display_name": "Python 3",
   "language": "python",
   "name": "python3"
  },
  "language_info": {
   "codemirror_mode": {
    "name": "ipython",
    "version": 3
   },
   "file_extension": ".py",
   "mimetype": "text/x-python",
   "name": "python",
   "nbconvert_exporter": "python",
   "pygments_lexer": "ipython3",
   "version": "3.7.5"
  }
 },
 "nbformat": 4,
 "nbformat_minor": 5
}
