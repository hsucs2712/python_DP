{
 "cells": [
  {
   "cell_type": "code",
   "execution_count": 1,
   "id": "christian-investigation",
   "metadata": {},
   "outputs": [],
   "source": [
    "# https://www.microsoft.com/en-us/download/details.aspx?id=56567\n",
    "# 才可以使用 DRIVER={ODBC Driver 17 for SQL Server}"
   ]
  },
  {
   "cell_type": "code",
   "execution_count": 2,
   "id": "engaging-choir",
   "metadata": {},
   "outputs": [],
   "source": [
    "# 請安裝套件\n",
    "# !pip install pandas_datareader\n",
    "# !pip install html5lib \n",
    "# !pip install bs4\n",
    "# !pip install sqlalchemy\n",
    "# !pip install pyodbc"
   ]
  },
  {
   "cell_type": "code",
   "execution_count": 3,
   "id": "round-fishing",
   "metadata": {},
   "outputs": [
    {
     "name": "stdout",
     "output_type": "stream",
     "text": [
      "20210513\n"
     ]
    }
   ],
   "source": [
    "from datetime import datetime\n",
    "today = datetime.now().strftime('%Y%m%d')\n",
    "print(today)"
   ]
  },
  {
   "cell_type": "code",
   "execution_count": 4,
   "id": "oriental-fantasy",
   "metadata": {},
   "outputs": [
    {
     "name": "stdout",
     "output_type": "stream",
     "text": [
      "Wall time: 8.22 s\n"
     ]
    }
   ],
   "source": [
    "%%time\n",
    "import pandas_datareader.data as web\n",
    "df2330 = web.DataReader('2330.tw', 'yahoo', '20000101', today) # 台灣積體電路製造\n",
    "df2454 = web.DataReader('2454.tw', 'yahoo', '20000101', today) # 聯發科\n",
    "df2303 = web.DataReader('2303.tw', 'yahoo', '20000101', today) # 聯華電子\n",
    "df1234 = web.DataReader('1234.tw', 'yahoo', '20000101', today) # 黑松沙士\n"
   ]
  },
  {
   "cell_type": "code",
   "execution_count": 7,
   "id": "corrected-wages",
   "metadata": {},
   "outputs": [
    {
     "data": {
      "text/html": [
       "<div>\n",
       "<style scoped>\n",
       "    .dataframe tbody tr th:only-of-type {\n",
       "        vertical-align: middle;\n",
       "    }\n",
       "\n",
       "    .dataframe tbody tr th {\n",
       "        vertical-align: top;\n",
       "    }\n",
       "\n",
       "    .dataframe thead th {\n",
       "        text-align: right;\n",
       "    }\n",
       "</style>\n",
       "<table border=\"1\" class=\"dataframe\">\n",
       "  <thead>\n",
       "    <tr style=\"text-align: right;\">\n",
       "      <th></th>\n",
       "      <th>High</th>\n",
       "      <th>Low</th>\n",
       "      <th>Open</th>\n",
       "      <th>Close</th>\n",
       "      <th>Volume</th>\n",
       "      <th>Adj Close</th>\n",
       "    </tr>\n",
       "    <tr>\n",
       "      <th>Date</th>\n",
       "      <th></th>\n",
       "      <th></th>\n",
       "      <th></th>\n",
       "      <th></th>\n",
       "      <th></th>\n",
       "      <th></th>\n",
       "    </tr>\n",
       "  </thead>\n",
       "  <tbody>\n",
       "    <tr>\n",
       "      <th>2021-04-29</th>\n",
       "      <td>609.0</td>\n",
       "      <td>600.0</td>\n",
       "      <td>609.0</td>\n",
       "      <td>600.0</td>\n",
       "      <td>31828333.0</td>\n",
       "      <td>600.0</td>\n",
       "    </tr>\n",
       "    <tr>\n",
       "      <th>2021-05-03</th>\n",
       "      <td>597.0</td>\n",
       "      <td>588.0</td>\n",
       "      <td>595.0</td>\n",
       "      <td>588.0</td>\n",
       "      <td>41762441.0</td>\n",
       "      <td>588.0</td>\n",
       "    </tr>\n",
       "    <tr>\n",
       "      <th>2021-05-04</th>\n",
       "      <td>594.0</td>\n",
       "      <td>582.0</td>\n",
       "      <td>588.0</td>\n",
       "      <td>591.0</td>\n",
       "      <td>40273595.0</td>\n",
       "      <td>591.0</td>\n",
       "    </tr>\n",
       "    <tr>\n",
       "      <th>2021-05-05</th>\n",
       "      <td>594.0</td>\n",
       "      <td>585.0</td>\n",
       "      <td>594.0</td>\n",
       "      <td>585.0</td>\n",
       "      <td>29254785.0</td>\n",
       "      <td>585.0</td>\n",
       "    </tr>\n",
       "    <tr>\n",
       "      <th>2021-05-06</th>\n",
       "      <td>590.0</td>\n",
       "      <td>580.0</td>\n",
       "      <td>590.0</td>\n",
       "      <td>587.0</td>\n",
       "      <td>30725590.0</td>\n",
       "      <td>587.0</td>\n",
       "    </tr>\n",
       "    <tr>\n",
       "      <th>2021-05-07</th>\n",
       "      <td>600.0</td>\n",
       "      <td>589.0</td>\n",
       "      <td>594.0</td>\n",
       "      <td>599.0</td>\n",
       "      <td>28075722.0</td>\n",
       "      <td>599.0</td>\n",
       "    </tr>\n",
       "    <tr>\n",
       "      <th>2021-05-10</th>\n",
       "      <td>597.0</td>\n",
       "      <td>588.0</td>\n",
       "      <td>596.0</td>\n",
       "      <td>589.0</td>\n",
       "      <td>20434079.0</td>\n",
       "      <td>589.0</td>\n",
       "    </tr>\n",
       "    <tr>\n",
       "      <th>2021-05-11</th>\n",
       "      <td>580.0</td>\n",
       "      <td>570.0</td>\n",
       "      <td>579.0</td>\n",
       "      <td>571.0</td>\n",
       "      <td>59349193.0</td>\n",
       "      <td>571.0</td>\n",
       "    </tr>\n",
       "    <tr>\n",
       "      <th>2021-05-12</th>\n",
       "      <td>571.0</td>\n",
       "      <td>518.0</td>\n",
       "      <td>567.0</td>\n",
       "      <td>560.0</td>\n",
       "      <td>131741482.0</td>\n",
       "      <td>560.0</td>\n",
       "    </tr>\n",
       "    <tr>\n",
       "      <th>2021-05-13</th>\n",
       "      <td>563.0</td>\n",
       "      <td>541.0</td>\n",
       "      <td>547.0</td>\n",
       "      <td>547.0</td>\n",
       "      <td>68597165.0</td>\n",
       "      <td>547.0</td>\n",
       "    </tr>\n",
       "  </tbody>\n",
       "</table>\n",
       "</div>"
      ],
      "text/plain": [
       "             High    Low   Open  Close       Volume  Adj Close\n",
       "Date                                                          \n",
       "2021-04-29  609.0  600.0  609.0  600.0   31828333.0      600.0\n",
       "2021-05-03  597.0  588.0  595.0  588.0   41762441.0      588.0\n",
       "2021-05-04  594.0  582.0  588.0  591.0   40273595.0      591.0\n",
       "2021-05-05  594.0  585.0  594.0  585.0   29254785.0      585.0\n",
       "2021-05-06  590.0  580.0  590.0  587.0   30725590.0      587.0\n",
       "2021-05-07  600.0  589.0  594.0  599.0   28075722.0      599.0\n",
       "2021-05-10  597.0  588.0  596.0  589.0   20434079.0      589.0\n",
       "2021-05-11  580.0  570.0  579.0  571.0   59349193.0      571.0\n",
       "2021-05-12  571.0  518.0  567.0  560.0  131741482.0      560.0\n",
       "2021-05-13  563.0  541.0  547.0  547.0   68597165.0      547.0"
      ]
     },
     "execution_count": 7,
     "metadata": {},
     "output_type": "execute_result"
    }
   ],
   "source": [
    "df2330[-10:]"
   ]
  },
  {
   "cell_type": "code",
   "execution_count": 16,
   "id": "tired-bankruptcy",
   "metadata": {},
   "outputs": [
    {
     "data": {
      "image/png": "[encoded data removed]",
      "text/plain": [
       "<Figure size 1440x288 with 1 Axes>"
      ]
     },
     "metadata": {
      "needs_background": "light"
     },
     "output_type": "display_data"
    }
   ],
   "source": [
    "last = -150\n",
    "import matplotlib.pyplot as plt\n",
    "plt.figure(figsize=(20, 4))\n",
    "plt.plot(df2330.index[last:], df2330['Close'][last:], color='red')\n",
    "plt.grid()\n",
    "plt.show()"
   ]
  },
  {
   "cell_type": "code",
   "execution_count": 17,
   "id": "complimentary-kenya",
   "metadata": {},
   "outputs": [],
   "source": [
    "df2330.to_pickle('df2330.pkl')"
   ]
  },
  {
   "cell_type": "code",
   "execution_count": 20,
   "id": "identified-absolute",
   "metadata": {},
   "outputs": [
    {
     "name": "stdout",
     "output_type": "stream",
     "text": [
      "(5338, 6)\n"
     ]
    },
    {
     "data": {
      "text/html": [
       "<div>\n",
       "<style scoped>\n",
       "    .dataframe tbody tr th:only-of-type {\n",
       "        vertical-align: middle;\n",
       "    }\n",
       "\n",
       "    .dataframe tbody tr th {\n",
       "        vertical-align: top;\n",
       "    }\n",
       "\n",
       "    .dataframe thead th {\n",
       "        text-align: right;\n",
       "    }\n",
       "</style>\n",
       "<table border=\"1\" class=\"dataframe\">\n",
       "  <thead>\n",
       "    <tr style=\"text-align: right;\">\n",
       "      <th></th>\n",
       "      <th>High</th>\n",
       "      <th>Low</th>\n",
       "      <th>Open</th>\n",
       "      <th>Close</th>\n",
       "      <th>Volume</th>\n",
       "      <th>Adj Close</th>\n",
       "    </tr>\n",
       "    <tr>\n",
       "      <th>Date</th>\n",
       "      <th></th>\n",
       "      <th></th>\n",
       "      <th></th>\n",
       "      <th></th>\n",
       "      <th></th>\n",
       "      <th></th>\n",
       "    </tr>\n",
       "  </thead>\n",
       "  <tbody>\n",
       "    <tr>\n",
       "      <th>2021-05-11</th>\n",
       "      <td>580.0</td>\n",
       "      <td>570.0</td>\n",
       "      <td>579.0</td>\n",
       "      <td>571.0</td>\n",
       "      <td>59349193.0</td>\n",
       "      <td>571.0</td>\n",
       "    </tr>\n",
       "    <tr>\n",
       "      <th>2021-05-12</th>\n",
       "      <td>571.0</td>\n",
       "      <td>518.0</td>\n",
       "      <td>567.0</td>\n",
       "      <td>560.0</td>\n",
       "      <td>131741482.0</td>\n",
       "      <td>560.0</td>\n",
       "    </tr>\n",
       "    <tr>\n",
       "      <th>2021-05-13</th>\n",
       "      <td>563.0</td>\n",
       "      <td>541.0</td>\n",
       "      <td>547.0</td>\n",
       "      <td>547.0</td>\n",
       "      <td>68597165.0</td>\n",
       "      <td>547.0</td>\n",
       "    </tr>\n",
       "  </tbody>\n",
       "</table>\n",
       "</div>"
      ],
      "text/plain": [
       "             High    Low   Open  Close       Volume  Adj Close\n",
       "Date                                                          \n",
       "2021-05-11  580.0  570.0  579.0  571.0   59349193.0      571.0\n",
       "2021-05-12  571.0  518.0  567.0  560.0  131741482.0      560.0\n",
       "2021-05-13  563.0  541.0  547.0  547.0   68597165.0      547.0"
      ]
     },
     "execution_count": 20,
     "metadata": {},
     "output_type": "execute_result"
    }
   ],
   "source": [
    "import pandas as pd\n",
    "stock = pd.read_pickle('df2330.pkl')\n",
    "print(stock.shape)\n",
    "stock[-3:]"
   ]
  }
 ],
 "metadata": {
  "kernelspec": {
   "display_name": "Python 3",
   "language": "python",
   "name": "python3"
  },
  "language_info": {
   "codemirror_mode": {
    "name": "ipython",
    "version": 3
   },
   "file_extension": ".py",
   "mimetype": "text/x-python",
   "name": "python",
   "nbconvert_exporter": "python",
   "pygments_lexer": "ipython3",
   "version": "3.8.8"
  }
 },
 "nbformat": 4,
 "nbformat_minor": 5
}
