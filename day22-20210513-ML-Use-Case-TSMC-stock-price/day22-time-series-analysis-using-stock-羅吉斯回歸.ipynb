{
 "cells": [
  {
   "cell_type": "code",
   "execution_count": null,
   "id": "quality-garlic",
   "metadata": {},
   "outputs": [],
   "source": [
    "# https://machinelearningmastery.com/how-to-develop-lstm-models-for-time-series-forecasting/\n"
   ]
  },
  {
   "cell_type": "code",
   "execution_count": 1,
   "id": "boxed-activity",
   "metadata": {},
   "outputs": [
    {
     "data": {
      "text/html": [
       "<div>\n",
       "<style scoped>\n",
       "    .dataframe tbody tr th:only-of-type {\n",
       "        vertical-align: middle;\n",
       "    }\n",
       "\n",
       "    .dataframe tbody tr th {\n",
       "        vertical-align: top;\n",
       "    }\n",
       "\n",
       "    .dataframe thead th {\n",
       "        text-align: right;\n",
       "    }\n",
       "</style>\n",
       "<table border=\"1\" class=\"dataframe\">\n",
       "  <thead>\n",
       "    <tr style=\"text-align: right;\">\n",
       "      <th></th>\n",
       "      <th>High</th>\n",
       "      <th>Low</th>\n",
       "      <th>Open</th>\n",
       "      <th>Close</th>\n",
       "      <th>Volume</th>\n",
       "      <th>Adj Close</th>\n",
       "    </tr>\n",
       "    <tr>\n",
       "      <th>Date</th>\n",
       "      <th></th>\n",
       "      <th></th>\n",
       "      <th></th>\n",
       "      <th></th>\n",
       "      <th></th>\n",
       "      <th></th>\n",
       "    </tr>\n",
       "  </thead>\n",
       "  <tbody>\n",
       "    <tr>\n",
       "      <th>2021-05-06</th>\n",
       "      <td>590.0</td>\n",
       "      <td>580.0</td>\n",
       "      <td>590.0</td>\n",
       "      <td>587.0</td>\n",
       "      <td>30725590.0</td>\n",
       "      <td>587.0</td>\n",
       "    </tr>\n",
       "    <tr>\n",
       "      <th>2021-05-07</th>\n",
       "      <td>600.0</td>\n",
       "      <td>589.0</td>\n",
       "      <td>594.0</td>\n",
       "      <td>599.0</td>\n",
       "      <td>28075722.0</td>\n",
       "      <td>599.0</td>\n",
       "    </tr>\n",
       "    <tr>\n",
       "      <th>2021-05-10</th>\n",
       "      <td>597.0</td>\n",
       "      <td>588.0</td>\n",
       "      <td>596.0</td>\n",
       "      <td>589.0</td>\n",
       "      <td>20434079.0</td>\n",
       "      <td>589.0</td>\n",
       "    </tr>\n",
       "    <tr>\n",
       "      <th>2021-05-11</th>\n",
       "      <td>580.0</td>\n",
       "      <td>570.0</td>\n",
       "      <td>579.0</td>\n",
       "      <td>571.0</td>\n",
       "      <td>59349193.0</td>\n",
       "      <td>571.0</td>\n",
       "    </tr>\n",
       "    <tr>\n",
       "      <th>2021-05-12</th>\n",
       "      <td>571.0</td>\n",
       "      <td>518.0</td>\n",
       "      <td>567.0</td>\n",
       "      <td>560.0</td>\n",
       "      <td>131741482.0</td>\n",
       "      <td>560.0</td>\n",
       "    </tr>\n",
       "    <tr>\n",
       "      <th>2021-05-13</th>\n",
       "      <td>563.0</td>\n",
       "      <td>541.0</td>\n",
       "      <td>547.0</td>\n",
       "      <td>547.0</td>\n",
       "      <td>68597165.0</td>\n",
       "      <td>547.0</td>\n",
       "    </tr>\n",
       "  </tbody>\n",
       "</table>\n",
       "</div>"
      ],
      "text/plain": [
       "             High    Low   Open  Close       Volume  Adj Close\n",
       "Date                                                          \n",
       "2021-05-06  590.0  580.0  590.0  587.0   30725590.0      587.0\n",
       "2021-05-07  600.0  589.0  594.0  599.0   28075722.0      599.0\n",
       "2021-05-10  597.0  588.0  596.0  589.0   20434079.0      589.0\n",
       "2021-05-11  580.0  570.0  579.0  571.0   59349193.0      571.0\n",
       "2021-05-12  571.0  518.0  567.0  560.0  131741482.0      560.0\n",
       "2021-05-13  563.0  541.0  547.0  547.0   68597165.0      547.0"
      ]
     },
     "execution_count": 1,
     "metadata": {},
     "output_type": "execute_result"
    }
   ],
   "source": [
    "import pandas as pd\n",
    "stock = pd.read_pickle('df2330.pkl')\n",
    "stock[-6:]"
   ]
  },
  {
   "cell_type": "code",
   "execution_count": null,
   "id": "convinced-december",
   "metadata": {},
   "outputs": [],
   "source": [
    "# 複習一下ML(Machine Learning)\n",
    "from sklearn import datasets\n",
    "iris = datasets.load_iris()\n",
    "X, y = iris.data, iris.target\n",
    "print(X[:3], y[:3])\n",
    "# build model \n",
    "from sklearn.linear_model import LogisticRegression\n",
    "model = LogisticRegression(max_iter=400)\n",
    "model.fit(X, y)\n",
    "print(model.score(X, y))\n",
    "# dump model pickle\n",
    "import joblib\n",
    "joblib.dump(model, 'model.pkl')"
   ]
  },
  {
   "cell_type": "code",
   "execution_count": null,
   "id": "limiting-shannon",
   "metadata": {},
   "outputs": [],
   "source": [
    "# 複習一下ML(Machine Learning)\n",
    "import joblib\n",
    "cls = joblib.load('model.pkl')\n",
    "y_hat = cls.predict(X)\n",
    "(y_hat == y).sum() / len(y)"
   ]
  },
  {
   "cell_type": "code",
   "execution_count": null,
   "id": "broad-corporation",
   "metadata": {},
   "outputs": [],
   "source": []
  },
  {
   "cell_type": "code",
   "execution_count": null,
   "id": "resistant-seattle",
   "metadata": {},
   "outputs": [],
   "source": [
    "# Time Series 數據分析\n",
    "last = -150\n",
    "import matplotlib.pyplot as plt\n",
    "plt.figure(figsize=(20, 4))\n",
    "plt.plot(stock.index[last:], stock['Close'][last:], color='red')\n",
    "plt.grid()\n",
    "plt.show()"
   ]
  },
  {
   "cell_type": "code",
   "execution_count": null,
   "id": "enhanced-sampling",
   "metadata": {},
   "outputs": [],
   "source": [
    "# 解釋\n",
    "# 時間序列資料處理方式 從單一 維度=特徵=欄位 產生 X 與 y\n",
    "\n",
    "data = [10, 20, 30, 40, 50, 60, 70, 80, 90]\n",
    "\n",
    "import numpy as np\n",
    "\n",
    "# split a univariate sequence into samples X, y\n",
    "def split_sequence(sequence, n_steps):\n",
    "    X, y = list(), list()\n",
    "    for i in range(len(sequence)):\n",
    "        # find the end of this pattern\n",
    "        end_ix = i + n_steps\n",
    "        # check if we are beyond the sequence\n",
    "        if end_ix > len(sequence)-1:\n",
    "            break\n",
    "        # gather input and output parts of the pattern\n",
    "        seq_x, seq_y = sequence[i:end_ix], sequence[end_ix]\n",
    "        X.append(seq_x)\n",
    "        y.append(seq_y)\n",
    "    return np.array(X), np.array(y)\n",
    "\n",
    "X,  y = split_sequence(data, 3)\n",
    "X, y, data"
   ]
  },
  {
   "cell_type": "code",
   "execution_count": 2,
   "id": "pediatric-plain",
   "metadata": {},
   "outputs": [
    {
     "data": {
      "image/png": "[encoded data removed]",
      "text/plain": [
       "<Figure size 1440x288 with 1 Axes>"
      ]
     },
     "metadata": {
      "needs_background": "light"
     },
     "output_type": "display_data"
    }
   ],
   "source": [
    "# Time Series 數據分析\n",
    "last = -100\n",
    "import matplotlib.pyplot as plt\n",
    "plt.figure(figsize=(20, 4))\n",
    "plt.plot(stock.index[last:], stock['Close'][last:], color='red')\n",
    "plt.grid()\n",
    "plt.show()"
   ]
  },
  {
   "cell_type": "code",
   "execution_count": 3,
   "id": "recorded-conditioning",
   "metadata": {},
   "outputs": [
    {
     "data": {
      "text/plain": [
       "(array([[524., 520., 512., 516., 508., 504., 512., 508., 510., 516.],\n",
       "        [520., 512., 516., 508., 504., 512., 508., 510., 516., 509.],\n",
       "        [512., 516., 508., 504., 512., 508., 510., 516., 509., 509.]]),\n",
       " array([509., 509., 510.]),\n",
       " Date\n",
       " 2020-12-08    524.0\n",
       " 2020-12-09    520.0\n",
       " 2020-12-10    512.0\n",
       " 2020-12-11    516.0\n",
       " 2020-12-14    508.0\n",
       " 2020-12-15    504.0\n",
       " 2020-12-16    512.0\n",
       " 2020-12-17    508.0\n",
       " Name: Close, dtype: float64)"
      ]
     },
     "execution_count": 3,
     "metadata": {},
     "output_type": "execute_result"
    }
   ],
   "source": [
    "# 時間序列資料處理方式 從單一 維度=特徵=欄位 產生 X 與 y\n",
    "\n",
    "df = stock[-100:] # 僅取過去一百天的數據\n",
    "\n",
    "import numpy as np\n",
    "\n",
    "# split a univariate sequence into samples X, y\n",
    "def split_sequence(sequence, n_steps):\n",
    "    X, y = list(), list()\n",
    "    for i in range(len(sequence)):\n",
    "        # find the end of this pattern\n",
    "        end_ix = i + n_steps\n",
    "        # check if we are beyond the sequence\n",
    "        if end_ix > len(sequence)-1:\n",
    "            break\n",
    "        # gather input and output parts of the pattern\n",
    "        seq_x, seq_y = sequence[i:end_ix], sequence[end_ix]\n",
    "        X.append(seq_x)\n",
    "        y.append(seq_y)\n",
    "    return np.array(X), np.array(y)\n",
    "# 根據每10天預設下一天\n",
    "X,  y = split_sequence(df.Close.to_list(), 10)\n",
    "X[:3], y[:3], df.Close[:8]"
   ]
  },
  {
   "cell_type": "code",
   "execution_count": 4,
   "id": "sophisticated-publicity",
   "metadata": {},
   "outputs": [
    {
     "name": "stderr",
     "output_type": "stream",
     "text": [
      "c:\\python38\\lib\\site-packages\\sklearn\\utils\\optimize.py:202: ConvergenceWarning: newton-cg failed to converge. Increase the number of iterations.\n",
      "  warnings.warn(\"newton-cg failed to converge. Increase the \"\n"
     ]
    },
    {
     "data": {
      "text/plain": [
       "0.9777777777777777"
      ]
     },
     "execution_count": 4,
     "metadata": {},
     "output_type": "execute_result"
    }
   ],
   "source": [
    "# 使用 \n",
    "# https://scikit-learn.org/stable/modules/multiclass.html\n",
    "# solver : {'newton-cg', 'lbfgs', 'liblinear', 'sag', 'saga'}, \n",
    "#　\n",
    "from sklearn.linear_model import LogisticRegression\n",
    "model_tw = LogisticRegression(max_iter=1000, solver='newton-cg')\n",
    "model_tw.fit(X, y)\n",
    "model_tw.score(X, y)"
   ]
  },
  {
   "cell_type": "code",
   "execution_count": 7,
   "id": "armed-governor",
   "metadata": {},
   "outputs": [
    {
     "name": "stdout",
     "output_type": "stream",
     "text": [
      "90\n"
     ]
    }
   ],
   "source": [
    "# 預測的股價\n",
    "y_pred = model_tw.predict(X)\n",
    "print(len(y_pred))"
   ]
  },
  {
   "cell_type": "code",
   "execution_count": 8,
   "id": "billion-pantyhose",
   "metadata": {},
   "outputs": [
    {
     "data": {
      "image/png": "[encoded data removed]",
      "text/plain": [
       "<Figure size 1440x288 with 1 Axes>"
      ]
     },
     "metadata": {
      "needs_background": "light"
     },
     "output_type": "display_data"
    }
   ],
   "source": [
    "# Time Series 數據分析\n",
    "last = -100\n",
    "import matplotlib.pyplot as plt\n",
    "plt.figure(figsize=(20, 4))\n",
    "plt.plot   (stock.index[last:], stock['Close'][last:], color='red')\n",
    "plt.scatter(stock.index[-1*len(y_pred):], y_pred, color='blue')\n",
    "plt.grid()\n",
    "plt.show()"
   ]
  },
  {
   "cell_type": "code",
   "execution_count": null,
   "id": "dominican-people",
   "metadata": {},
   "outputs": [],
   "source": [
    "\n",
    "'''\n",
    "ValueError: Expected 2D array, got 1D array instead:\n",
    "array=[600. 588. 591. 585. 587. 599. 589. 571. 560. 547.].\n",
    "Reshape your data either using array.reshape(-1, 1) if your data has a single feature or array.reshape(1, -1) if it contains a single sample.\n",
    "\n",
    "ValueError: X has 1 features per sample; expecting 10\n",
    "\n",
    "'''"
   ]
  },
  {
   "cell_type": "code",
   "execution_count": null,
   "id": "familiar-musical",
   "metadata": {},
   "outputs": [],
   "source": [
    "'''\n",
    "array([[619., 610., 603., 602., 592., 591., 602., 610., 610., 602.],\n",
    "       [610., 603., 602., 592., 591., 602., 610., 610., 602., 600.],\n",
    "       [603., 602., 592., 591., 602., 610., 610., 602., 600., 588.],\n",
    "       [602., 592., 591., 602., 610., 610., 602., 600., 588., 591.],\n",
    "       [592., 591., 602., 610., 610., 602., 600., 588., 591., 585.],\n",
    "       [591., 602., 610., 610., 602., 600., 588., 591., 585., 587.],\n",
    "       [602., 610., 610., 602., 600., 588., 591., 585., 587., 599.],\n",
    "       [610., 610., 602., 600., 588., 591., 585., 587., 599., 589.],\n",
    "       [610., 602., 600., 588., 591., 585., 587., 599., 589., 571.],\n",
    "       [602., 600., 588., 591., 585., 587., 599., 589., 571., 560.]])\n",
    "'''"
   ]
  },
  {
   "cell_type": "code",
   "execution_count": 9,
   "id": "brown-hampshire",
   "metadata": {},
   "outputs": [
    {
     "name": "stdout",
     "output_type": "stream",
     "text": [
      "[571. 560. 547.] [571. 560. 547.]\n"
     ]
    },
    {
     "data": {
      "text/plain": [
       "array([547.])"
      ]
     },
     "execution_count": 9,
     "metadata": {},
     "output_type": "execute_result"
    }
   ],
   "source": [
    "# 考你　請你根據上述的MODEL 預測 下 一 個 交易日\n",
    "print(y_pred[-3:], y[-3:])\n",
    "# df[-10:], y[-10:]\n",
    "# X[-10:]\n",
    "# y[-10:].reshape(1, -1)\n",
    "model_tw.predict(y[-10:].reshape(1, -1))"
   ]
  },
  {
   "cell_type": "code",
   "execution_count": 12,
   "id": "consecutive-oasis",
   "metadata": {},
   "outputs": [
    {
     "name": "stdout",
     "output_type": "stream",
     "text": [
      "Next 1 [547.]\n",
      "Next 2 [622.]\n",
      "Next 3 [610.]\n",
      "Next 4 [627.]\n",
      "Next 5 [632.]\n",
      "Next 6 [663.]\n",
      "Next 7 [660.]\n",
      "Next 8 [652.]\n",
      "Next 9 [650.]\n",
      "Next 10 [641.]\n"
     ]
    },
    {
     "data": {
      "text/plain": [
       "(array([547., 622., 610., 627., 632., 663., 660., 652., 650., 641.]), 100)"
      ]
     },
     "execution_count": 12,
     "metadata": {},
     "output_type": "execute_result"
    }
   ],
   "source": [
    "# 考你　請你根據上述的MODEL 預測 下 7 個 交易日\n",
    "\n",
    "y_next = y.copy()\n",
    "\n",
    "next_days = 10\n",
    "for i in range(next_days):\n",
    "    pred_next = model_tw.predict(y_next[-10:].reshape(1, -1)) \n",
    "    \n",
    "    print('Next',i+1, pred_next )\n",
    "    \n",
    "    y_next = np.append(y_next, pred_next)\n",
    "    \n",
    "y_next[-10:], len(y_next)"
   ]
  },
  {
   "cell_type": "code",
   "execution_count": null,
   "id": "meaningful-rabbit",
   "metadata": {},
   "outputs": [],
   "source": [
    "# 組合下幾天的日期\n",
    "# import pandas as pd\n",
    "# next_days = 14\n",
    "# pd.date_range(stock.index[-1], periods=next_days+1)[-1*next_days:]\n",
    "# np.append(stock.index.values,  pd.date_range(stock.index[-1], periods=next_days+1)[-1*next_days:])"
   ]
  },
  {
   "cell_type": "code",
   "execution_count": null,
   "id": "higher-deputy",
   "metadata": {},
   "outputs": [],
   "source": [
    "# print(len(np.append(stock.index[-1*len(y_pred):],  \n",
    "#                     pd.date_range(stock.index[-1], periods=next_days+1)[-1*next_days:])))\n",
    "# print(len(y_next))"
   ]
  },
  {
   "cell_type": "code",
   "execution_count": null,
   "id": "cloudy-tribe",
   "metadata": {},
   "outputs": [],
   "source": [
    "# len(np.append(stock.index[-1*len(y_pred):],  \n",
    "#                     pd.date_range(stock.index[-1], periods=next_days+1)[-1*next_days:]))"
   ]
  },
  {
   "cell_type": "code",
   "execution_count": 13,
   "id": "civil-gathering",
   "metadata": {},
   "outputs": [
    {
     "data": {
      "image/png": "[encoded data removed]",
      "text/plain": [
       "<Figure size 1440x288 with 1 Axes>"
      ]
     },
     "metadata": {
      "needs_background": "light"
     },
     "output_type": "display_data"
    }
   ],
   "source": [
    "# Time Series 數據分析\n",
    "last = -100\n",
    "\n",
    "import matplotlib.pyplot as plt\n",
    "plt.figure(figsize=(20, 4))\n",
    "plt.scatter(stock.index[last:], stock['Close'][last:], color='red')\n",
    "plt.scatter(stock.index[-1*len(y_pred):], y_pred, color='blue')\n",
    "plt.plot( np.append(stock.index[-1*len(y_pred):],pd.date_range(stock.index[-1], periods=next_days+1)[-1*next_days:]), y_next,color='m')\n",
    "plt.grid()\n",
    "plt.show()"
   ]
  },
  {
   "cell_type": "code",
   "execution_count": null,
   "id": "nominated-nebraska",
   "metadata": {},
   "outputs": [],
   "source": []
  }
 ],
 "metadata": {
  "kernelspec": {
   "display_name": "Python 3",
   "language": "python",
   "name": "python3"
  },
  "language_info": {
   "codemirror_mode": {
    "name": "ipython",
    "version": 3
   },
   "file_extension": ".py",
   "mimetype": "text/x-python",
   "name": "python",
   "nbconvert_exporter": "python",
   "pygments_lexer": "ipython3",
   "version": "3.8.8"
  }
 },
 "nbformat": 4,
 "nbformat_minor": 5
}
