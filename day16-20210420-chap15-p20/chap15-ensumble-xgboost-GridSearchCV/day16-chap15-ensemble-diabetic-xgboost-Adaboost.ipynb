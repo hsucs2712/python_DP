{
 "cells": [
  {
   "cell_type": "code",
   "execution_count": 1,
   "id": "bound-restaurant",
   "metadata": {},
   "outputs": [],
   "source": [
    "# https://scikit-learn.org/stable/modules/multiclass.html"
   ]
  },
  {
   "cell_type": "code",
   "execution_count": 2,
   "id": "continued-observer",
   "metadata": {},
   "outputs": [],
   "source": [
    "import pandas as pd\n",
    "df = pd.read_csv('diabetes.csv')"
   ]
  },
  {
   "cell_type": "code",
   "execution_count": 3,
   "id": "maritime-submission",
   "metadata": {},
   "outputs": [
    {
     "data": {
      "text/plain": [
       "array([[0.00000000e+00, 1.71000000e+02, 8.00000000e+01, 3.40000000e+01,\n",
       "        2.30000000e+01, 4.35097259e+01, 1.21319135e+00, 2.10000000e+01],\n",
       "       [8.00000000e+00, 9.20000000e+01, 9.30000000e+01, 4.70000000e+01,\n",
       "        3.60000000e+01, 2.12405757e+01, 1.58364981e-01, 2.30000000e+01]])"
      ]
     },
     "execution_count": 3,
     "metadata": {},
     "output_type": "execute_result"
    }
   ],
   "source": [
    "# 取出 Ｘ特徵, y標籤\n",
    "X, y = df.iloc[:, 1:-1].values , df.iloc[:, -1].values\n",
    "X[:2]"
   ]
  },
  {
   "cell_type": "code",
   "execution_count": 4,
   "id": "structured-farmer",
   "metadata": {},
   "outputs": [],
   "source": [
    "# 資料處理\n",
    "from sklearn.preprocessing import StandardScaler\n",
    "from sklearn.preprocessing import MinMaxScaler\n",
    "ss = MinMaxScaler()\n",
    "X_ss = ss.fit_transform(X)"
   ]
  },
  {
   "cell_type": "code",
   "execution_count": 5,
   "id": "laden-personal",
   "metadata": {},
   "outputs": [],
   "source": [
    "# 區分訓練與驗證數據 \n",
    "from sklearn.model_selection import train_test_split \n",
    "X_train, X_test, y_train, y_test = train_test_split(X_ss, y, test_size=0.2, random_state=42)"
   ]
  },
  {
   "cell_type": "code",
   "execution_count": 6,
   "id": "clinical-patent",
   "metadata": {},
   "outputs": [
    {
     "data": {
      "text/plain": [
       "0.9416666666666667"
      ]
     },
     "execution_count": 6,
     "metadata": {},
     "output_type": "execute_result"
    }
   ],
   "source": [
    "from sklearn.ensemble import AdaBoostClassifier\n",
    "modelAB = AdaBoostClassifier()\n",
    "modelAB.fit(X_train, y_train)\n",
    "modelAB.score(X_test, y_test)"
   ]
  }
 ],
 "metadata": {
  "kernelspec": {
   "display_name": "Python 3 (ipykernel)",
   "language": "python",
   "name": "python3"
  },
  "language_info": {
   "codemirror_mode": {
    "name": "ipython",
    "version": 3
   },
   "file_extension": ".py",
   "mimetype": "text/x-python",
   "name": "python",
   "nbconvert_exporter": "python",
   "pygments_lexer": "ipython3",
   "version": "3.7.7"
  }
 },
 "nbformat": 4,
 "nbformat_minor": 5
}
