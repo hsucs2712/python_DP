{
 "cells": [
  {
   "cell_type": "code",
   "execution_count": 1,
   "id": "underlying-inspector",
   "metadata": {},
   "outputs": [
    {
     "data": {
      "text/html": [
       "<div>\n",
       "<style scoped>\n",
       "    .dataframe tbody tr th:only-of-type {\n",
       "        vertical-align: middle;\n",
       "    }\n",
       "\n",
       "    .dataframe tbody tr th {\n",
       "        vertical-align: top;\n",
       "    }\n",
       "\n",
       "    .dataframe thead th {\n",
       "        text-align: right;\n",
       "    }\n",
       "</style>\n",
       "<table border=\"1\" class=\"dataframe\">\n",
       "  <thead>\n",
       "    <tr style=\"text-align: right;\">\n",
       "      <th></th>\n",
       "      <th>slength</th>\n",
       "      <th>swidth</th>\n",
       "      <th>plength</th>\n",
       "      <th>pwidth</th>\n",
       "      <th>class</th>\n",
       "    </tr>\n",
       "  </thead>\n",
       "  <tbody>\n",
       "    <tr>\n",
       "      <th>0</th>\n",
       "      <td>5.1</td>\n",
       "      <td>3.5</td>\n",
       "      <td>1.4</td>\n",
       "      <td>0.2</td>\n",
       "      <td>0</td>\n",
       "    </tr>\n",
       "    <tr>\n",
       "      <th>1</th>\n",
       "      <td>4.9</td>\n",
       "      <td>3.0</td>\n",
       "      <td>1.4</td>\n",
       "      <td>0.2</td>\n",
       "      <td>0</td>\n",
       "    </tr>\n",
       "    <tr>\n",
       "      <th>2</th>\n",
       "      <td>4.7</td>\n",
       "      <td>3.2</td>\n",
       "      <td>1.3</td>\n",
       "      <td>0.2</td>\n",
       "      <td>0</td>\n",
       "    </tr>\n",
       "  </tbody>\n",
       "</table>\n",
       "</div>"
      ],
      "text/plain": [
       "   slength  swidth  plength  pwidth  class\n",
       "0      5.1     3.5      1.4     0.2      0\n",
       "1      4.9     3.0      1.4     0.2      0\n",
       "2      4.7     3.2      1.3     0.2      0"
      ]
     },
     "execution_count": 1,
     "metadata": {},
     "output_type": "execute_result"
    }
   ],
   "source": [
    "# 匯入資料\n",
    "import pandas as pd\n",
    "iris = pd.read_csv('iris.csv')\n",
    "iris[:3]"
   ]
  },
  {
   "cell_type": "code",
   "execution_count": 5,
   "id": "collect-devil",
   "metadata": {},
   "outputs": [
    {
     "name": "stdout",
     "output_type": "stream",
     "text": [
      "['BPF', 'LOG4', 'NV_MAGICCONST', 'RECIP_BPF', 'Random', 'SG_MAGICCONST', 'SystemRandom', 'TWOPI', '_Sequence', '_Set', '__all__', '__builtins__', '__cached__', '__doc__', '__file__', '__loader__', '__name__', '__package__', '__spec__', '_accumulate', '_acos', '_bisect', '_ceil', '_cos', '_e', '_exp', '_inst', '_log', '_os', '_pi', '_random', '_repeat', '_sha512', '_sin', '_sqrt', '_test', '_test_generator', '_urandom', '_warn', 'betavariate', 'choice', 'choices', 'expovariate', 'gammavariate', 'gauss', 'getrandbits', 'getstate', 'lognormvariate', 'normalvariate', 'paretovariate', 'randint', 'random', 'randrange', 'sample', 'seed', 'setstate', 'shuffle', 'triangular', 'uniform', 'vonmisesvariate', 'weibullvariate']\n"
     ]
    }
   ],
   "source": [
    "import random\n",
    "print(dir(random))"
   ]
  },
  {
   "cell_type": "code",
   "execution_count": 6,
   "id": "moral-procedure",
   "metadata": {},
   "outputs": [
    {
     "name": "stdout",
     "output_type": "stream",
     "text": [
      "['BitGenerator', 'Generator', 'MT19937', 'PCG64', 'Philox', 'RandomState', 'SFC64', 'SeedSequence', '__RandomState_ctor', '__all__', '__builtins__', '__cached__', '__doc__', '__file__', '__loader__', '__name__', '__package__', '__path__', '__spec__', '_bounded_integers', '_common', '_generator', '_mt19937', '_pcg64', '_philox', '_pickle', '_sfc64', 'beta', 'binomial', 'bit_generator', 'bytes', 'chisquare', 'choice', 'default_rng', 'dirichlet', 'exponential', 'f', 'gamma', 'geometric', 'get_state', 'gumbel', 'hypergeometric', 'laplace', 'logistic', 'lognormal', 'logseries', 'mtrand', 'multinomial', 'multivariate_normal', 'negative_binomial', 'noncentral_chisquare', 'noncentral_f', 'normal', 'pareto', 'permutation', 'poisson', 'power', 'rand', 'randint', 'randn', 'random', 'random_integers', 'random_sample', 'ranf', 'rayleigh', 'sample', 'seed', 'set_state', 'shuffle', 'standard_cauchy', 'standard_exponential', 'standard_gamma', 'standard_normal', 'standard_t', 'test', 'triangular', 'uniform', 'vonmises', 'wald', 'weibull', 'zipf']\n"
     ]
    }
   ],
   "source": [
    "from numpy import random\n",
    "print(dir(random))"
   ]
  },
  {
   "cell_type": "code",
   "execution_count": 30,
   "id": "sharp-career",
   "metadata": {},
   "outputs": [
    {
     "data": {
      "text/plain": [
       "(array([ 0,  1,  2,  3,  4,  5,  6,  7,  8,  9, 10, 11]),\n",
       " array([0, 0, 0, 0, 1, 1, 1, 1, 2, 2, 2, 2]))"
      ]
     },
     "execution_count": 30,
     "metadata": {},
     "output_type": "execute_result"
    }
   ],
   "source": [
    "# Modify a sequence in-place by shuffling its contents. \n",
    "# random.shuffle\n",
    "X = np.array(list(range(12)))\n",
    "y = np.array([0, 0, 0, 0, 1, 1, 1, 1, 2, 2, 2, 2])\n",
    "X , y"
   ]
  },
  {
   "cell_type": "code",
   "execution_count": 16,
   "id": "amended-genealogy",
   "metadata": {},
   "outputs": [],
   "source": [
    "# 亂數挑選 80% 當訓練\n",
    "# 剩下的 20% 當驗證"
   ]
  },
  {
   "cell_type": "code",
   "execution_count": 46,
   "id": "improving-toilet",
   "metadata": {},
   "outputs": [
    {
     "name": "stdout",
     "output_type": "stream",
     "text": [
      "Index before shuffle 打亂 [ 0  1  2  3  4  5  6  7  8  9 10 11]\n",
      "Index After shuffle 打亂 [ 8 10  3  9  0  5  6  2  1 11  7  4]\n",
      "\n",
      "\n",
      "train_idx 第幾個 [ 8 10  3  9  0  5  6  2  1 11]\n",
      "test_idx 第幾個 [7 4]\n",
      "\n",
      "\n",
      "Train X & y 數值 [ 8 10  3  9  0  5  6  2  1 11] [2 2 0 2 0 1 1 0 0 2]\n",
      "Test X & y 數值 [7 4] [1 1]\n"
     ]
    }
   ],
   "source": [
    "# 方法一\n",
    "import numpy as np\n",
    "idx = np.arange(0, 12)\n",
    "print('Index before shuffle 打亂', idx)\n",
    "random.shuffle(idx)\n",
    "print('Index After shuffle 打亂', idx)\n",
    "print('\\n')\n",
    "train_num = int(np.round(len(idx) * 0.8))\n",
    "train_idx, test_idx = idx[:train_num], idx[train_num:]\n",
    "print('train_idx 第幾個', train_idx)\n",
    "print('test_idx 第幾個', test_idx)\n",
    "print('\\n')\n",
    "train_X, train_y = X[train_idx], y[train_idx]\n",
    "print('Train X & y 數值', train_X, train_y)\n",
    "\n",
    "test_X, test_y = X[test_idx], y[test_idx]\n",
    "print('Test X & y 數值', test_X ,test_y)"
   ]
  },
  {
   "cell_type": "code",
   "execution_count": null,
   "id": "initial-workshop",
   "metadata": {},
   "outputs": [],
   "source": [
    "# (array([ 0,  1,  2,  3,  4,  5,  6,  7,  8,  9, 10, 11]),\n",
    "#  array([ 0,  0,  0,  0,  1,  1,  1,  1,  2,  2,  2, 2]))"
   ]
  },
  {
   "cell_type": "code",
   "execution_count": 47,
   "id": "helpful-bulgaria",
   "metadata": {},
   "outputs": [
    {
     "data": {
      "text/plain": [
       "(array([10,  2,  8,  1,  7,  9,  3,  0,  5]),\n",
       " array([ 6, 11,  4]),\n",
       " array([2, 0, 2, 0, 1, 2, 0, 0, 1]),\n",
       " array([1, 2, 1]))"
      ]
     },
     "execution_count": 47,
     "metadata": {},
     "output_type": "execute_result"
    }
   ],
   "source": [
    "from sklearn.model_selection import train_test_split\n",
    "X_train, X_test, y_train, y_test = train_test_split(X, y, test_size=0.2, random_state=0)\n",
    "X_train, X_test, y_train, y_test"
   ]
  },
  {
   "cell_type": "code",
   "execution_count": null,
   "id": "bigger-robert",
   "metadata": {},
   "outputs": [],
   "source": [
    "# 請你使用 sklearn.model_selection.train_test_split\n",
    "# 實作上面的分類 注意 random_state = 0"
   ]
  }
 ],
 "metadata": {
  "kernelspec": {
   "display_name": "Python 3",
   "language": "python",
   "name": "python3"
  },
  "language_info": {
   "codemirror_mode": {
    "name": "ipython",
    "version": 3
   },
   "file_extension": ".py",
   "mimetype": "text/x-python",
   "name": "python",
   "nbconvert_exporter": "python",
   "pygments_lexer": "ipython3",
   "version": "3.8.8"
  }
 },
 "nbformat": 4,
 "nbformat_minor": 5
}
