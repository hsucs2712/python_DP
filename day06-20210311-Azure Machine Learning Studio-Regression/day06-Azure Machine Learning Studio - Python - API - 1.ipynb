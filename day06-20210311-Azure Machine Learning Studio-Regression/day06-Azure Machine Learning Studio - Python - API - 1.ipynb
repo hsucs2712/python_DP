{
 "cells": [
  {
   "cell_type": "code",
   "execution_count": 1,
   "id": "humanitarian-village",
   "metadata": {},
   "outputs": [
    {
     "name": "stdout",
     "output_type": "stream",
     "text": [
      "b'{\"Results\":{\"output1\":[{\"PatientID\":\"1354778\",\"Pregnancies\":\"0\",\"PlasmaGlucose\":\"171\",\"DiastolicBloodPressure\":\"80\",\"TricepsThickness\":\"34\",\"SerumInsulin\":\"23\",\"BMI\":\"43.50972593\",\"DiabetesPedigree\":\"1.213191354\",\"Age\":\"21\",\"Diabetic\":\"0\",\"Scored Probabilities for Class \\\\\"0\\\\\"\":\"1\",\"Scored Probabilities for Class \\\\\"1\\\\\"\":\"0\",\"Scored Labels\":\"0\"}]}}'\n"
     ]
    }
   ],
   "source": [
    "import urllib.request\n",
    "import json\n",
    "\n",
    "data = {\n",
    "        \"Inputs\": {\n",
    "                \"input1\":\n",
    "                [\n",
    "                    {\n",
    "                            'PatientID': \"1354778\",   \n",
    "                            'Pregnancies': \"0\",   \n",
    "                            'PlasmaGlucose': \"171\",   \n",
    "                            'DiastolicBloodPressure': \"80\",   \n",
    "                            'TricepsThickness': \"34\",   \n",
    "                            'SerumInsulin': \"23\",   \n",
    "                            'BMI': \"43.50972593\",   \n",
    "                            'DiabetesPedigree': \"1.213191354\",   \n",
    "                            'Age': \"21\",   \n",
    "                            'Diabetic': \"0\",   \n",
    "                    }\n",
    "                ],\n",
    "        },\n",
    "    \"GlobalParameters\":  {\n",
    "    }\n",
    "}\n",
    "\n",
    "body = str.encode(json.dumps(data))\n",
    "\n",
    "url = 'https://ussouthcentral.services.azureml.net/workspaces/aabcdf60b95f44cd9364bd0e915ec5fa/services/759a24071f9a4be1a6c3acf51e4d4795/execute?api-version=2.0&format=swagger'\n",
    "api_key = 'NDWkJEe5TwqGmwfRdPN3A5wkymEQtXl0gv/30RTXWGG+f9yO1MQjrOzg5fkNnd0hczJ1eGU60aX8Bw+Lwq231w==' # Replace this with the API key for the web service\n",
    "headers = {'Content-Type':'application/json', 'Authorization':('Bearer '+ api_key)}\n",
    "\n",
    "req = urllib.request.Request(url, body, headers)\n",
    "\n",
    "try:\n",
    "    response = urllib.request.urlopen(req)\n",
    "\n",
    "    result = response.read()\n",
    "    print(result)\n",
    "except urllib.error.HTTPError as error:\n",
    "    print(\"The request failed with status code: \" + str(error.code))\n",
    "\n",
    "    # Print the headers - they include the requert ID and the timestamp, which are useful for debugging the failure\n",
    "    print(error.info())\n",
    "    print(json.loads(error.read().decode(\"utf8\", 'ignore')))"
   ]
  },
  {
   "cell_type": "code",
   "execution_count": 11,
   "id": "adolescent-return",
   "metadata": {},
   "outputs": [
    {
     "data": {
      "text/html": [
       "<div>\n",
       "<style scoped>\n",
       "    .dataframe tbody tr th:only-of-type {\n",
       "        vertical-align: middle;\n",
       "    }\n",
       "\n",
       "    .dataframe tbody tr th {\n",
       "        vertical-align: top;\n",
       "    }\n",
       "\n",
       "    .dataframe thead th {\n",
       "        text-align: right;\n",
       "    }\n",
       "</style>\n",
       "<table border=\"1\" class=\"dataframe\">\n",
       "  <thead>\n",
       "    <tr style=\"text-align: right;\">\n",
       "      <th></th>\n",
       "      <th>0</th>\n",
       "    </tr>\n",
       "  </thead>\n",
       "  <tbody>\n",
       "    <tr>\n",
       "      <th>PatientID</th>\n",
       "      <td>1354778</td>\n",
       "    </tr>\n",
       "    <tr>\n",
       "      <th>Pregnancies</th>\n",
       "      <td>0</td>\n",
       "    </tr>\n",
       "    <tr>\n",
       "      <th>PlasmaGlucose</th>\n",
       "      <td>171</td>\n",
       "    </tr>\n",
       "    <tr>\n",
       "      <th>DiastolicBloodPressure</th>\n",
       "      <td>80</td>\n",
       "    </tr>\n",
       "    <tr>\n",
       "      <th>TricepsThickness</th>\n",
       "      <td>34</td>\n",
       "    </tr>\n",
       "    <tr>\n",
       "      <th>SerumInsulin</th>\n",
       "      <td>23</td>\n",
       "    </tr>\n",
       "    <tr>\n",
       "      <th>BMI</th>\n",
       "      <td>43.50972593</td>\n",
       "    </tr>\n",
       "    <tr>\n",
       "      <th>DiabetesPedigree</th>\n",
       "      <td>1.213191354</td>\n",
       "    </tr>\n",
       "    <tr>\n",
       "      <th>Age</th>\n",
       "      <td>21</td>\n",
       "    </tr>\n",
       "    <tr>\n",
       "      <th>Diabetic</th>\n",
       "      <td>0</td>\n",
       "    </tr>\n",
       "    <tr>\n",
       "      <th>Scored Probabilities for Class \"0\"</th>\n",
       "      <td>1</td>\n",
       "    </tr>\n",
       "    <tr>\n",
       "      <th>Scored Probabilities for Class \"1\"</th>\n",
       "      <td>0</td>\n",
       "    </tr>\n",
       "    <tr>\n",
       "      <th>Scored Labels</th>\n",
       "      <td>0</td>\n",
       "    </tr>\n",
       "  </tbody>\n",
       "</table>\n",
       "</div>"
      ],
      "text/plain": [
       "                                              0\n",
       "PatientID                               1354778\n",
       "Pregnancies                                   0\n",
       "PlasmaGlucose                               171\n",
       "DiastolicBloodPressure                       80\n",
       "TricepsThickness                             34\n",
       "SerumInsulin                                 23\n",
       "BMI                                 43.50972593\n",
       "DiabetesPedigree                    1.213191354\n",
       "Age                                          21\n",
       "Diabetic                                      0\n",
       "Scored Probabilities for Class \"0\"            1\n",
       "Scored Probabilities for Class \"1\"            0\n",
       "Scored Labels                                 0"
      ]
     },
     "execution_count": 11,
     "metadata": {},
     "output_type": "execute_result"
    }
   ],
   "source": [
    "import pandas as pd\n",
    "pd.DataFrame(json.loads(result)['Results']['output1']).T"
   ]
  },
  {
   "cell_type": "code",
   "execution_count": 5,
   "id": "engaged-physiology",
   "metadata": {},
   "outputs": [
    {
     "name": "stdout",
     "output_type": "stream",
     "text": [
      "['JSONDecodeError', 'JSONDecoder', 'JSONEncoder', '__all__', '__author__', '__builtins__', '__cached__', '__doc__', '__file__', '__loader__', '__name__', '__package__', '__path__', '__spec__', '__version__', '_default_decoder', '_default_encoder', 'codecs', 'decoder', 'detect_encoding', 'dump', 'dumps', 'encoder', 'load', 'loads', 'scanner']\n"
     ]
    }
   ],
   "source": [
    "print(dir(json))"
   ]
  }
 ],
 "metadata": {
  "kernelspec": {
   "display_name": "Python 3",
   "language": "python",
   "name": "python3"
  },
  "language_info": {
   "codemirror_mode": {
    "name": "ipython",
    "version": 3
   },
   "file_extension": ".py",
   "mimetype": "text/x-python",
   "name": "python",
   "nbconvert_exporter": "python",
   "pygments_lexer": "ipython3",
   "version": "3.7.9"
  }
 },
 "nbformat": 4,
 "nbformat_minor": 5
}
