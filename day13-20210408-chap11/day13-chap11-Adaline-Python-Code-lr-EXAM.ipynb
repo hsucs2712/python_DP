{
 "cells": [
  {
   "cell_type": "code",
   "execution_count": 1,
   "id": "racial-beverage",
   "metadata": {},
   "outputs": [
    {
     "data": {
      "text/plain": [
       "(array([[5.1, 3.5, 1.4, 0.2],\n",
       "        [4.9, 3. , 1.4, 0.2],\n",
       "        [4.7, 3.2, 1.3, 0.2],\n",
       "        [4.6, 3.1, 1.5, 0.2]]),\n",
       " array([-1, -1, -1, -1]))"
      ]
     },
     "execution_count": 1,
     "metadata": {},
     "output_type": "execute_result"
    }
   ],
   "source": [
    "from sklearn import datasets\n",
    "from sklearn.preprocessing import StandardScaler\n",
    "import numpy as np\n",
    "iris = datasets.load_iris()\n",
    "X = iris['data'][:100, : ]\n",
    "y = np.where( iris['target'][:100]==0, -1, 1)\n",
    "\n",
    "# ss = StandardScaler()\n",
    "# X = ss.fit_transform(X)\n",
    "\n",
    "X[:4], y[:4]"
   ]
  },
  {
   "cell_type": "code",
   "execution_count": 2,
   "id": "reported-oxford",
   "metadata": {},
   "outputs": [],
   "source": [
    "# https://github.com/rasbt/python-machine-learning-book-3rd-edition/blob/master/ch02/ch02.py\n",
    "class AdalineGD(object):\n",
    "    \"\"\"ADAptive LInear NEuron classifier.\n",
    "    Parameters\n",
    "    ------------\n",
    "    eta : float\n",
    "      Learning rate (between 0.0 and 1.0)\n",
    "    n_iter : int\n",
    "      Passes over the training dataset.\n",
    "    random_state : int\n",
    "      Random number generator seed for random weight\n",
    "      initialization.\n",
    "    Attributes\n",
    "    -----------\n",
    "    w_ : 1d-array\n",
    "      Weights after fitting.\n",
    "    cost_ : list\n",
    "      Sum-of-squares cost function value in each epoch.\n",
    "    \"\"\"\n",
    "    def __init__(self, eta=0.01, n_iter=50, random_state=1):\n",
    "        self.eta = eta\n",
    "        self.n_iter = n_iter\n",
    "        self.random_state = random_state\n",
    "\n",
    "    def fit(self, X, y):\n",
    "        \"\"\" Fit training data.\n",
    "        Parameters\n",
    "        ----------\n",
    "        X : {array-like}, shape = [n_examples, n_features]\n",
    "          Training vectors, where n_examples is the number of examples and\n",
    "          n_features is the number of features.\n",
    "        y : array-like, shape = [n_examples]\n",
    "          Target values.\n",
    "        Returns\n",
    "        -------\n",
    "        self : object\n",
    "        \"\"\"\n",
    "        rgen = np.random.RandomState(self.random_state)\n",
    "        self.w_ = rgen.normal(loc=0.0, scale=0.01, size=1 + X.shape[1])\n",
    "        self.cost_ = []\n",
    "\n",
    "        for i in range(self.n_iter):\n",
    "            net_input = self.net_input(X)\n",
    "            # Please note that the \"activation\" method has no effect\n",
    "            # in the code since it is simply an identity function. We\n",
    "            # could write `output = self.net_input(X)` directly instead.\n",
    "            # The purpose of the activation is more conceptual, i.e.,  \n",
    "            # in the case of logistic regression (as we will see later), \n",
    "            # we could change it to\n",
    "            # a sigmoid function to implement a logistic regression classifier.\n",
    "            output = self.activation(net_input)\n",
    "            errors = (y - output)\n",
    "            self.w_[1:] += self.eta * X.T.dot(errors)\n",
    "            self.w_[0] += self.eta * errors.sum()\n",
    "            cost = (errors**2).sum() / 2.0\n",
    "            self.cost_.append(cost)\n",
    "            # 先列印出每一次成本\n",
    "            print('第 {} 次訓練有 {} 錯誤'.format(i, 0) )\n",
    "        return self\n",
    "\n",
    "    def net_input(self, X):\n",
    "        \"\"\"Calculate net input\"\"\"\n",
    "        return np.dot(X, self.w_[1:]) + self.w_[0]\n",
    "\n",
    "    def activation(self, X):\n",
    "        \"\"\"Compute linear activation\"\"\"\n",
    "        return X\n",
    "\n",
    "    def predict(self, X):\n",
    "        \"\"\"Return class label after unit step\"\"\"\n",
    "        return np.where(self.activation(self.net_input(X)) >= 0.0, 1, -1)"
   ]
  },
  {
   "cell_type": "code",
   "execution_count": 3,
   "id": "nasty-attack",
   "metadata": {},
   "outputs": [
    {
     "name": "stdout",
     "output_type": "stream",
     "text": [
      "第 0 次訓練有 0 錯誤\n",
      "第 1 次訓練有 0 錯誤\n",
      "第 2 次訓練有 0 錯誤\n",
      "第 3 次訓練有 0 錯誤\n",
      "第 4 次訓練有 0 錯誤\n",
      "第 5 次訓練有 0 錯誤\n",
      "第 6 次訓練有 0 錯誤\n",
      "第 7 次訓練有 0 錯誤\n",
      "第 8 次訓練有 0 錯誤\n",
      "第 9 次訓練有 0 錯誤\n",
      "第 10 次訓練有 0 錯誤\n",
      "第 11 次訓練有 0 錯誤\n",
      "第 12 次訓練有 0 錯誤\n",
      "第 13 次訓練有 0 錯誤\n",
      "第 14 次訓練有 0 錯誤\n",
      "第 15 次訓練有 0 錯誤\n",
      "第 16 次訓練有 0 錯誤\n",
      "第 17 次訓練有 0 錯誤\n",
      "第 18 次訓練有 0 錯誤\n",
      "第 19 次訓練有 0 錯誤\n",
      "第 20 次訓練有 0 錯誤\n",
      "第 21 次訓練有 0 錯誤\n",
      "第 22 次訓練有 0 錯誤\n",
      "第 23 次訓練有 0 錯誤\n",
      "第 24 次訓練有 0 錯誤\n",
      "第 25 次訓練有 0 錯誤\n",
      "第 26 次訓練有 0 錯誤\n",
      "第 27 次訓練有 0 錯誤\n",
      "第 28 次訓練有 0 錯誤\n",
      "第 29 次訓練有 0 錯誤\n",
      "第 30 次訓練有 0 錯誤\n",
      "第 31 次訓練有 0 錯誤\n",
      "第 32 次訓練有 0 錯誤\n",
      "第 33 次訓練有 0 錯誤\n",
      "第 34 次訓練有 0 錯誤\n",
      "第 35 次訓練有 0 錯誤\n",
      "第 36 次訓練有 0 錯誤\n",
      "第 37 次訓練有 0 錯誤\n",
      "第 38 次訓練有 0 錯誤\n",
      "第 39 次訓練有 0 錯誤\n",
      "第 40 次訓練有 0 錯誤\n",
      "第 41 次訓練有 0 錯誤\n",
      "第 42 次訓練有 0 錯誤\n",
      "第 43 次訓練有 0 錯誤\n",
      "第 44 次訓練有 0 錯誤\n",
      "第 45 次訓練有 0 錯誤\n",
      "第 46 次訓練有 0 錯誤\n",
      "第 47 次訓練有 0 錯誤\n",
      "第 48 次訓練有 0 錯誤\n",
      "第 49 次訓練有 0 錯誤\n"
     ]
    },
    {
     "data": {
      "text/plain": [
       "<__main__.AdalineGD at 0x21f76d6c6c8>"
      ]
     },
     "execution_count": 3,
     "metadata": {},
     "output_type": "execute_result"
    }
   ],
   "source": [
    "model = AdalineGD(eta=0.0003, n_iter=50, random_state=1) # learning rate 攸關是否收斂\n",
    "model.fit(X, y)"
   ]
  },
  {
   "cell_type": "code",
   "execution_count": 4,
   "id": "hidden-switch",
   "metadata": {},
   "outputs": [
    {
     "data": {
      "text/plain": [
       "array([-0.04360853, -0.09616078, -0.34511089,  0.51171074,  0.23366048])"
      ]
     },
     "execution_count": 4,
     "metadata": {},
     "output_type": "execute_result"
    }
   ],
   "source": [
    "model.w_"
   ]
  },
  {
   "cell_type": "code",
   "execution_count": 5,
   "id": "powered-islam",
   "metadata": {},
   "outputs": [
    {
     "data": {
      "text/plain": [
       "[2.368768591901141,\n",
       " 2.320515022329911,\n",
       " 2.2775982847174276,\n",
       " 2.2394268969691584,\n",
       " 2.205474933179704,\n",
       " 2.175274757787756,\n",
       " 2.148410565032659,\n",
       " 2.1245126344579224,\n",
       " 2.1032522230994206,\n",
       " 2.0843370237920715]"
      ]
     },
     "execution_count": 5,
     "metadata": {},
     "output_type": "execute_result"
    }
   ],
   "source": [
    "model.cost_[-10:] #early stopping, 如果 數值到小數點下三位都一樣的時候 連續三次就停"
   ]
  },
  {
   "cell_type": "code",
   "execution_count": 6,
   "id": "raised-candle",
   "metadata": {},
   "outputs": [
    {
     "data": {
      "image/png": "[encoded data removed]",
      "text/plain": [
       "<Figure size 432x288 with 1 Axes>"
      ]
     },
     "metadata": {
      "needs_background": "light"
     },
     "output_type": "display_data"
    }
   ],
   "source": [
    "import matplotlib.pyplot as plt \n",
    "import numpy as np\n",
    "plt.plot(np.log(model.cost_) , color ='red')\n",
    "plt.scatter(range(len(model.cost_)), np.log(model.cost_), color ='blue', marker='>')\n",
    "plt.show()"
   ]
  },
  {
   "cell_type": "code",
   "execution_count": null,
   "id": "southeast-communist",
   "metadata": {},
   "outputs": [],
   "source": []
  }
 ],
 "metadata": {
  "kernelspec": {
   "display_name": "Python 3",
   "language": "python",
   "name": "python3"
  },
  "language_info": {
   "codemirror_mode": {
    "name": "ipython",
    "version": 3
   },
   "file_extension": ".py",
   "mimetype": "text/x-python",
   "name": "python",
   "nbconvert_exporter": "python",
   "pygments_lexer": "ipython3",
   "version": "3.7.9"
  }
 },
 "nbformat": 4,
 "nbformat_minor": 5
}
