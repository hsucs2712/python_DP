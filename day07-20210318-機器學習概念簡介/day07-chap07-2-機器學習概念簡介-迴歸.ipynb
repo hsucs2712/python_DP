{
 "cells": [
  {
   "cell_type": "code",
   "execution_count": 9,
   "id": "understood-warner",
   "metadata": {},
   "outputs": [],
   "source": [
    "import numpy as np\n",
    "import pandas as pd\n",
    "\n",
    "temperatures = np.array([29, 28, 34, 31,25, 29, 32, 31,24, 33, 25, 31,26, 30])\n",
    "drink_sales = np.array([7.7, 6.2, 9.3, 8.4,5.9, 6.4, 8.0, 7.5,5.8, 9.1, 5.1, 7.3,6.5, 8.4])\n",
    "\n",
    "X, y = temperatures, drink_sales"
   ]
  },
  {
   "cell_type": "code",
   "execution_count": 11,
   "id": "olive-silicon",
   "metadata": {},
   "outputs": [
    {
     "name": "stdout",
     "output_type": "stream",
     "text": [
      "[ 0.37378855 -3.63612335]\n"
     ]
    }
   ],
   "source": [
    "model = np.polyfit(X, y, deg = 1)\n",
    "print(model)\n",
    "y_pred = 0.37378855 * X + (-3.63612335)"
   ]
  },
  {
   "cell_type": "code",
   "execution_count": 13,
   "id": "distant-daisy",
   "metadata": {},
   "outputs": [
    {
     "data": {
      "image/png": "[encoded data removed]",
      "text/plain": [
       "<Figure size 432x288 with 1 Axes>"
      ]
     },
     "metadata": {
      "needs_background": "light"
     },
     "output_type": "display_data"
    }
   ],
   "source": [
    "import matplotlib.pyplot as plt\n",
    "plt.scatter(X, y, color = 'blue')\n",
    "plt.plot(X, y_pred, color = 'red')\n",
    "plt.show()"
   ]
  },
  {
   "cell_type": "code",
   "execution_count": null,
   "id": "likely-faith",
   "metadata": {},
   "outputs": [],
   "source": []
  },
  {
   "cell_type": "code",
   "execution_count": 21,
   "id": "silent-rates",
   "metadata": {},
   "outputs": [
    {
     "name": "stdout",
     "output_type": "stream",
     "text": [
      "迴歸係數: [0.37378855]\n",
      "截距: -3.6361233480176134\n"
     ]
    }
   ],
   "source": [
    "# sklearn 模型\n",
    "import numpy as np\n",
    "import pandas as pd\n",
    "from sklearn.linear_model import LinearRegression\n",
    "\n",
    "temperatures = np.array([29, 28, 34, 31,25, 29, 32, 31,24, 33, 25, 31, 26, 30])\n",
    "drink_sales = np.array([7.7, 6.2, 9.3, 8.4,5.9, 6.4, 8.0, 7.5,5.8, 9.1, 5.1, 7.3,6.5, 8.4])\n",
    "\n",
    "X = pd.DataFrame(temperatures, columns=[\"Temperature\"])\n",
    "target = pd.DataFrame(drink_sales, columns=[\"Drink_Sales\"])\n",
    "y = target[\"Drink_Sales\"]\n",
    "\n",
    "lm = LinearRegression()\n",
    "lm.fit(X, y)\n",
    "print(\"迴歸係數:\", lm.coef_)\n",
    "print(\"截距:\", lm.intercept_ )\n",
    "# y = a * x + b"
   ]
  },
  {
   "cell_type": "code",
   "execution_count": 40,
   "id": "middle-projector",
   "metadata": {},
   "outputs": [
    {
     "data": {
      "image/png": "[encoded data removed]",
      "text/plain": [
       "<Figure size 432x288 with 1 Axes>"
      ]
     },
     "metadata": {
      "needs_background": "light"
     },
     "output_type": "display_data"
    }
   ],
   "source": [
    "import pandas as pd\n",
    "import matplotlib.pyplot as plt\n",
    "new_temperatures = pd.DataFrame(np.array([26, 30])) # 新的資料\n",
    "predicted_sales = lm.predict(new_temperatures) # lm.預測\n",
    "\n",
    "plt.scatter(temperatures, drink_sales, color='red')  # 繪點\n",
    "\n",
    "regression_sales = lm.predict(X)\n",
    "plt.plot(temperatures, regression_sales, color=\"blue\")\n",
    "plt.plot(new_temperatures.values, predicted_sales,color=\"blue\", marker=\"o\", markersize=10)  # 用紅色去覆蓋\n",
    "\n",
    "plt.show()\n",
    "# 紅色是 真正, 藍色為預測出來的結果"
   ]
  }
 ],
 "metadata": {
  "kernelspec": {
   "display_name": "Python 3",
   "language": "python",
   "name": "python3"
  },
  "language_info": {
   "codemirror_mode": {
    "name": "ipython",
    "version": 3
   },
   "file_extension": ".py",
   "mimetype": "text/x-python",
   "name": "python",
   "nbconvert_exporter": "python",
   "pygments_lexer": "ipython3",
   "version": "3.7.9"
  }
 },
 "nbformat": 4,
 "nbformat_minor": 5
}
