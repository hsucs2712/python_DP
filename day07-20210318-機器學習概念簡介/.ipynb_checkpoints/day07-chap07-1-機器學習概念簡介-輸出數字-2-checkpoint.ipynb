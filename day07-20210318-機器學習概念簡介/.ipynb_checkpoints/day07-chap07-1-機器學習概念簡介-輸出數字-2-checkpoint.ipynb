{
 "cells": [
  {
   "cell_type": "code",
   "execution_count": 1,
   "id": "authorized-friendship",
   "metadata": {
    "collapsed": true
   },
   "outputs": [
    {
     "name": "stdout",
     "output_type": "stream",
     "text": [
      "Package             Version\n",
      "------------------- ---------\n",
      "anyio               2.2.0\n",
      "argon2-cffi         20.1.0\n",
      "async-generator     1.10\n",
      "attrs               20.3.0\n",
      "Babel               2.9.0\n",
      "backcall            0.2.0\n",
      "bleach              3.3.0\n",
      "certifi             2020.12.5\n",
      "cffi                1.14.5\n",
      "chardet             4.0.0\n",
      "colorama            0.4.4\n",
      "cycler              0.10.0\n",
      "decorator           4.4.2\n",
      "defusedxml          0.6.0\n",
      "entrypoints         0.3\n",
      "idna                3.1\n",
      "importlib-metadata  3.7.0\n",
      "ipykernel           5.5.0\n",
      "ipython             7.21.0\n",
      "ipython-genutils    0.2.0\n",
      "ipywidgets          7.6.3\n",
      "jedi                0.18.0\n",
      "Jinja2              2.11.3\n",
      "joblib              1.0.1\n",
      "json5               0.9.5\n",
      "jsonschema          3.2.0\n",
      "jupyter             1.0.0\n",
      "jupyter-client      6.1.11\n",
      "jupyter-console     6.2.0\n",
      "jupyter-core        4.7.1\n",
      "jupyter-packaging   0.7.12\n",
      "jupyter-server      1.4.1\n",
      "jupyterlab          3.0.10\n",
      "jupyterlab-pygments 0.1.2\n",
      "jupyterlab-server   2.3.0\n",
      "jupyterlab-widgets  1.0.0\n",
      "kiwisolver          1.3.1\n",
      "lab                 6.3\n",
      "MarkupSafe          1.1.1\n",
      "matplotlib          3.3.4\n",
      "mistune             0.8.4\n",
      "nbclassic           0.2.6\n",
      "nbclient            0.5.3\n",
      "nbconvert           6.0.7\n",
      "nbformat            5.1.2\n",
      "nest-asyncio        1.5.1\n",
      "notebook            6.2.0\n",
      "numpy               1.20.1\n",
      "packaging           20.9\n",
      "pandas              1.2.2\n",
      "pandocfilters       1.4.3\n",
      "parso               0.8.1\n",
      "pickleshare         0.7.5\n",
      "Pillow              8.1.0\n",
      "pip                 20.1.1\n",
      "prometheus-client   0.9.0\n",
      "prompt-toolkit      3.0.16\n",
      "pycparser           2.20\n",
      "Pygments            2.8.0\n",
      "pyparsing           2.4.7\n",
      "pyrsistent          0.17.3\n",
      "python-dateutil     2.8.1\n",
      "pytz                2021.1\n",
      "pywin32             300\n",
      "pywinpty            0.5.7\n",
      "pyzmq               22.0.3\n",
      "qtconsole           5.0.2\n",
      "QtPy                1.9.0\n",
      "requests            2.25.1\n",
      "scikit-learn        0.24.1\n",
      "scipy               1.6.1\n",
      "Send2Trash          1.5.0\n",
      "setuptools          47.1.0\n",
      "simplejson          3.17.2\n",
      "six                 1.15.0\n",
      "sniffio             1.2.0\n",
      "terminado           0.9.2\n",
      "testpath            0.4.4\n",
      "threadpoolctl       2.1.0\n",
      "tornado             6.1\n",
      "traitlets           5.0.5\n",
      "txt2tags            3.7\n",
      "typing-extensions   3.7.4.3\n",
      "urllib3             1.26.3\n",
      "wcwidth             0.2.5\n",
      "webencodings        0.5.1\n",
      "widgetsnbextension  3.5.1\n",
      "zipp                3.4.0\n"
     ]
    },
    {
     "name": "stderr",
     "output_type": "stream",
     "text": [
      "WARNING: You are using pip version 20.1.1; however, version 21.0.1 is available.\n",
      "You should consider upgrading via the 'c:\\python37\\python.exe -m pip install --upgrade pip' command.\n"
     ]
    }
   ],
   "source": [
    "# 檢查環境是否安裝scikit-learn\n",
    "# !pip list"
   ]
  },
  {
   "cell_type": "code",
   "execution_count": null,
   "id": "marked-railway",
   "metadata": {},
   "outputs": [],
   "source": [
    "# !pip install scikit-learn==0.24.1"
   ]
  },
  {
   "cell_type": "code",
   "execution_count": 7,
   "id": "tracked-pulse",
   "metadata": {},
   "outputs": [
    {
     "data": {
      "text/plain": [
       "dict_keys(['data', 'target', 'frame', 'feature_names', 'target_names', 'images', 'DESCR'])"
      ]
     },
     "execution_count": 7,
     "metadata": {},
     "output_type": "execute_result"
    }
   ],
   "source": [
    "# 從sklearn 範例數據中取出資料 進行顯示\n",
    "from sklearn import datasets\n",
    "#print(dir(datasets))\n",
    "mnist = datasets.load_digits()\n",
    "mnist.keys()"
   ]
  },
  {
   "cell_type": "code",
   "execution_count": 21,
   "id": "front-playback",
   "metadata": {},
   "outputs": [
    {
     "data": {
      "text/plain": [
       "9"
      ]
     },
     "execution_count": 21,
     "metadata": {},
     "output_type": "execute_result"
    }
   ],
   "source": [
    "# 顯示數字\n",
    "mnist['target'][-2]"
   ]
  },
  {
   "cell_type": "code",
   "execution_count": 20,
   "id": "unlikely-quick",
   "metadata": {},
   "outputs": [
    {
     "data": {
      "text/plain": [
       "array([ 0.,  0.,  2., 10.,  7.,  0.,  0.,  0.,  0.,  0., 14., 16., 16.,\n",
       "       15.,  1.,  0.,  0.,  4., 16.,  7.,  3., 16.,  7.,  0.,  0.,  5.,\n",
       "       16., 10.,  7., 16.,  4.,  0.,  0.,  0.,  5., 14., 14., 16.,  4.,\n",
       "        0.,  0.,  0.,  0.,  0.,  0., 16.,  2.,  0.,  0.,  0.,  4.,  7.,\n",
       "        7., 16.,  2.,  0.,  0.,  0.,  5., 12., 16., 12.,  0.,  0.])"
      ]
     },
     "execution_count": 20,
     "metadata": {},
     "output_type": "execute_result"
    }
   ],
   "source": [
    "# 顯示數字影像\n",
    "mnist['data'][-2]"
   ]
  },
  {
   "cell_type": "code",
   "execution_count": 22,
   "id": "relevant-gabriel",
   "metadata": {},
   "outputs": [
    {
     "data": {
      "text/plain": [
       "array([[ 0.,  0.,  2., 10.,  7.,  0.,  0.,  0.],\n",
       "       [ 0.,  0., 14., 16., 16., 15.,  1.,  0.],\n",
       "       [ 0.,  4., 16.,  7.,  3., 16.,  7.,  0.],\n",
       "       [ 0.,  5., 16., 10.,  7., 16.,  4.,  0.],\n",
       "       [ 0.,  0.,  5., 14., 14., 16.,  4.,  0.],\n",
       "       [ 0.,  0.,  0.,  0.,  0., 16.,  2.,  0.],\n",
       "       [ 0.,  0.,  4.,  7.,  7., 16.,  2.,  0.],\n",
       "       [ 0.,  0.,  5., 12., 16., 12.,  0.,  0.]])"
      ]
     },
     "execution_count": 22,
     "metadata": {},
     "output_type": "execute_result"
    }
   ],
   "source": [
    "# 改變陣列\n",
    "mnist['data'][-2].reshape(8, 8)"
   ]
  },
  {
   "cell_type": "code",
   "execution_count": 24,
   "id": "informative-vienna",
   "metadata": {},
   "outputs": [
    {
     "data": {
      "image/png": "[encoded data removed]",
      "text/plain": [
       "<Figure size 72x72 with 1 Axes>"
      ]
     },
     "metadata": {
      "needs_background": "light"
     },
     "output_type": "display_data"
    }
   ],
   "source": [
    "# 顯示某個數字\n",
    "import matplotlib.pyplot as plt\n",
    "plt.figure(figsize=(1 ,1))\n",
    "plt.imshow( mnist['data'][-2].reshape(8, 8), cmap='gray_r' )\n",
    "plt.axis('off')\n",
    "plt.show()"
   ]
  },
  {
   "cell_type": "code",
   "execution_count": 28,
   "id": "sublime-iceland",
   "metadata": {
    "collapsed": true
   },
   "outputs": [
    {
     "data": {
      "text/plain": [
       "(array([[ 0.,  0.,  5., ...,  0.,  0.,  0.],\n",
       "        [ 0.,  0.,  0., ..., 10.,  0.,  0.],\n",
       "        [ 0.,  0.,  0., ..., 16.,  9.,  0.],\n",
       "        ...,\n",
       "        [ 0.,  0.,  1., ...,  6.,  0.,  0.],\n",
       "        [ 0.,  0.,  2., ..., 12.,  0.,  0.],\n",
       "        [ 0.,  0., 10., ..., 12.,  1.,  0.]]),\n",
       " array([0, 1, 2, ..., 8, 9, 8]))"
      ]
     },
     "execution_count": 28,
     "metadata": {},
     "output_type": "execute_result"
    }
   ],
   "source": [
    "# 練習過程\n",
    "# 找出一些 10 個 9的數據\n",
    "mnist['data'] , mnist['target']"
   ]
  },
  {
   "cell_type": "code",
   "execution_count": 39,
   "id": "injured-studio",
   "metadata": {
    "collapsed": true
   },
   "outputs": [
    {
     "data": {
      "text/plain": [
       "array([[ 0.,  0., 11., 12.,  0.,  0.,  0.,  0.,  0.,  2., 16., 16., 16.,\n",
       "        13.,  0.,  0.,  0.,  3., 16., 12., 10., 14.,  0.,  0.,  0.,  1.,\n",
       "        16.,  1., 12., 15.,  0.,  0.,  0.,  0., 13., 16.,  9., 15.,  2.,\n",
       "         0.,  0.,  0.,  0.,  3.,  0.,  9., 11.,  0.,  0.,  0.,  0.,  0.,\n",
       "         9., 15.,  4.,  0.,  0.,  0.,  9., 12., 13.,  3.,  0.,  0.],\n",
       "       [ 0.,  0.,  6., 14.,  4.,  0.,  0.,  0.,  0.,  0., 11., 16., 10.,\n",
       "         0.,  0.,  0.,  0.,  0.,  8., 14., 16.,  2.,  0.,  0.,  0.,  0.,\n",
       "         1., 12., 12., 11.,  0.,  0.,  0.,  0.,  0.,  0.,  0., 11.,  3.,\n",
       "         0.,  0.,  0.,  0.,  0.,  0.,  5., 11.,  0.,  0.,  0.,  1.,  4.,\n",
       "         4.,  7., 16.,  2.,  0.,  0.,  7., 16., 16., 13., 11.,  1.],\n",
       "       [ 0.,  0.,  9., 13.,  7.,  0.,  0.,  0.,  0.,  0., 12., 16., 16.,\n",
       "         2.,  0.,  0.,  0.,  0., 12., 13., 16.,  6.,  0.,  0.,  0.,  0.,\n",
       "         6., 16., 16., 14.,  0.,  0.,  0.,  0.,  0.,  0.,  2., 16.,  3.,\n",
       "         0.,  0.,  0.,  0.,  0.,  0.,  9., 10.,  0.,  0.,  0.,  3.,  7.,\n",
       "        12., 14., 16.,  2.,  0.,  0.,  7., 12., 12., 12., 11.,  0.],\n",
       "       [ 0.,  0.,  2., 13.,  8.,  0.,  0.,  0.,  0.,  0.,  6., 16., 16.,\n",
       "         6.,  0.,  0.,  0.,  0.,  5., 15., 13., 11.,  0.,  0.,  0.,  0.,\n",
       "         0.,  7., 16., 15.,  0.,  0.,  0.,  0.,  0.,  0.,  0., 14.,  3.,\n",
       "         0.,  0.,  0.,  0.,  0.,  0.,  7., 11.,  0.,  0.,  0.,  0.,  3.,\n",
       "         4.,  4., 16.,  2.,  0.,  0.,  2., 15., 13., 14., 13.,  2.],\n",
       "       [ 0.,  0., 13., 10.,  1.,  0.,  0.,  0.,  0.,  5., 16., 14.,  7.,\n",
       "         0.,  0.,  0.,  0.,  4., 16.,  8., 14.,  0.,  0.,  0.,  0.,  2.,\n",
       "        14., 16., 16.,  6.,  0.,  0.,  0.,  0.,  1.,  4.,  9., 13.,  1.,\n",
       "         0.,  0.,  0.,  0.,  0.,  0., 13.,  6.,  0.,  0.,  0.,  5.,  8.,\n",
       "         5.,  9., 14.,  0.,  0.,  0., 13., 13., 15., 16., 13.,  0.],\n",
       "       [ 0.,  1.,  9., 16., 13.,  7.,  0.,  0.,  0.,  7., 14.,  4., 10.,\n",
       "        12.,  0.,  0.,  0.,  6., 15.,  9., 16., 11.,  0.,  0.,  0.,  0.,\n",
       "         9., 11.,  7., 14.,  0.,  0.,  0.,  0.,  0.,  0.,  0., 15.,  2.,\n",
       "         0.,  0.,  0.,  0.,  0.,  0., 11.,  6.,  0.,  0.,  3., 13.,  8.,\n",
       "         5., 14.,  5.,  0.,  0.,  0.,  9., 14., 13., 10.,  1.,  0.],\n",
       "       [ 0.,  0.,  6., 12., 13.,  6.,  0.,  0.,  0.,  6., 16.,  9., 12.,\n",
       "        16.,  2.,  0.,  0.,  7., 16.,  9., 15., 13.,  0.,  0.,  0.,  0.,\n",
       "        11., 15., 16.,  4.,  0.,  0.,  0.,  0.,  0., 12., 10.,  0.,  0.,\n",
       "         0.,  0.,  0.,  3., 16.,  4.,  0.,  0.,  0.,  0.,  0.,  1., 16.,\n",
       "         2.,  0.,  0.,  0.,  0.,  0.,  6., 11.,  0.,  0.,  0.,  0.],\n",
       "       [ 0.,  1., 12., 13.,  4.,  0.,  0.,  0.,  0.,  4., 16., 16., 16.,\n",
       "         3.,  0.,  0.,  0.,  4., 16., 16., 16., 10.,  0.,  0.,  0.,  0.,\n",
       "         6., 16., 14., 16.,  0.,  0.,  0.,  0.,  0.,  0.,  0., 16.,  4.,\n",
       "         0.,  0.,  0.,  0.,  0.,  0., 13.,  7.,  0.,  0.,  1.,  2.,  3.,\n",
       "         7., 14., 10.,  0.,  0.,  2., 12., 16., 14., 12.,  3.,  0.],\n",
       "       [ 0.,  0.,  9., 13., 14.,  5.,  0.,  0.,  0.,  4., 16., 10., 13.,\n",
       "        16.,  0.,  0.,  0.,  0., 13., 15., 14., 16.,  1.,  0.,  0.,  0.,\n",
       "         0.,  3.,  7., 16.,  3.,  0.,  0.,  0.,  0.,  0.,  4., 16.,  0.,\n",
       "         0.,  0.,  0.,  0.,  0.,  1., 16.,  3.,  0.,  0.,  1., 15.,  5.,\n",
       "         8., 16.,  2.,  0.,  0.,  0.,  7., 15., 16.,  9.,  0.,  0.],\n",
       "       [ 0.,  0.,  9., 15.,  5.,  0.,  0.,  0.,  0.,  0., 13., 14., 13.,\n",
       "         7.,  0.,  0.,  0.,  0.,  6., 14., 10., 13.,  1.,  0.,  0.,  0.,\n",
       "         0.,  9., 12., 15.,  5.,  0.,  0.,  0.,  0.,  0.,  0., 10., 10.,\n",
       "         0.,  0.,  0.,  0.,  0.,  0.,  7., 14.,  0.,  0.,  0.,  3.,  8.,\n",
       "         9., 15., 15.,  0.,  0.,  0.,  5., 12., 12.,  9.,  1.,  0.]])"
      ]
     },
     "execution_count": 39,
     "metadata": {},
     "output_type": "execute_result"
    }
   ],
   "source": [
    "# 練習過程\n",
    "# 找出一些 10 個 9的數據\n",
    "mnist['data'][ mnist['target']==9 ][:10]"
   ]
  },
  {
   "cell_type": "code",
   "execution_count": 45,
   "id": "brief-pilot",
   "metadata": {},
   "outputs": [],
   "source": [
    "# 列出所有的數字轉換成陣列的結果\n",
    "import pandas as pd\n",
    "for i in range(10):\n",
    "    pd.DataFrame(mnist['data'][ mnist['target']==i ][:10]).to_excel('no'+str(i)+'.xlsx')"
   ]
  },
  {
   "cell_type": "code",
   "execution_count": 48,
   "id": "exposed-interpretation",
   "metadata": {
    "collapsed": true
   },
   "outputs": [
    {
     "data": {
      "image/png": "[encoded data removed]",
      "text/plain": [
       "<Figure size 36x36 with 1 Axes>"
      ]
     },
     "metadata": {
      "needs_background": "light"
     },
     "output_type": "display_data"
    },
    {
     "data": {
      "image/png": "[encoded data removed]",
      "text/plain": [
       "<Figure size 36x36 with 1 Axes>"
      ]
     },
     "metadata": {
      "needs_background": "light"
     },
     "output_type": "display_data"
    },
    {
     "data": {
      "image/png": "[encoded data removed]",
      "text/plain": [
       "<Figure size 36x36 with 1 Axes>"
      ]
     },
     "metadata": {
      "needs_background": "light"
     },
     "output_type": "display_data"
    },
    {
     "data": {
      "image/png": "[encoded data removed]",
      "text/plain": [
       "<Figure size 36x36 with 1 Axes>"
      ]
     },
     "metadata": {
      "needs_background": "light"
     },
     "output_type": "display_data"
    },
    {
     "data": {
      "image/png": "[encoded data removed]",
      "text/plain": [
       "<Figure size 36x36 with 1 Axes>"
      ]
     },
     "metadata": {
      "needs_background": "light"
     },
     "output_type": "display_data"
    },
    {
     "data": {
      "image/png": "[encoded data removed]",
      "text/plain": [
       "<Figure size 36x36 with 1 Axes>"
      ]
     },
     "metadata": {
      "needs_background": "light"
     },
     "output_type": "display_data"
    },
    {
     "data": {
      "image/png": "[encoded data removed]",
      "text/plain": [
       "<Figure size 36x36 with 1 Axes>"
      ]
     },
     "metadata": {
      "needs_background": "light"
     },
     "output_type": "display_data"
    },
    {
     "data": {
      "image/png": "[encoded data removed]",
      "text/plain": [
       "<Figure size 36x36 with 1 Axes>"
      ]
     },
     "metadata": {
      "needs_background": "light"
     },
     "output_type": "display_data"
    },
    {
     "data": {
      "image/png": "[encoded data removed]",
      "text/plain": [
       "<Figure size 36x36 with 1 Axes>"
      ]
     },
     "metadata": {
      "needs_background": "light"
     },
     "output_type": "display_data"
    },
    {
     "data": {
      "image/png": "[encoded data removed]",
      "text/plain": [
       "<Figure size 36x36 with 1 Axes>"
      ]
     },
     "metadata": {
      "needs_background": "light"
     },
     "output_type": "display_data"
    }
   ],
   "source": [
    "# 畫出來前面十個 數字\n",
    "import matplotlib.pyplot as plt\n",
    "digit = 1\n",
    "for i in mnist['data'][ mnist['target']==digit ][:10]:    \n",
    "    plt.figure(figsize=(0.5 ,0.5))\n",
    "    plt.imshow( i.reshape(8, 8), cmap='gray_r' )\n",
    "    plt.axis('off')\n",
    "    plt.show()"
   ]
  },
  {
   "cell_type": "code",
   "execution_count": null,
   "id": "square-throw",
   "metadata": {},
   "outputs": [],
   "source": []
  },
  {
   "cell_type": "code",
   "execution_count": null,
   "id": "interstate-pakistan",
   "metadata": {},
   "outputs": [],
   "source": []
  },
  {
   "cell_type": "code",
   "execution_count": 36,
   "id": "sudden-architecture",
   "metadata": {},
   "outputs": [
    {
     "name": "stdout",
     "output_type": "stream",
     "text": [
      "[False False  True False False  True False False  True]\n"
     ]
    },
    {
     "data": {
      "text/plain": [
       "array([3, 6, 9])"
      ]
     },
     "execution_count": 36,
     "metadata": {},
     "output_type": "execute_result"
    }
   ],
   "source": [
    "# 複習\n",
    "import numpy as np\n",
    "a = np.array([1, 2, 3, 4, 5, 6, 7, 8, 9])\n",
    "b = np.array([3, 6, 9, 3, 6, 9, 3, 6, 9])\n",
    "idx = (b == 9)\n",
    "print( idx)\n",
    "a[ idx ] "
   ]
  },
  {
   "cell_type": "code",
   "execution_count": null,
   "id": "endangered-knitting",
   "metadata": {},
   "outputs": [],
   "source": []
  },
  {
   "cell_type": "code",
   "execution_count": 56,
   "id": "sufficient-strain",
   "metadata": {},
   "outputs": [],
   "source": [
    "# 產生給產生給Azure Machine Learning Studio CSV \n",
    "import pandas as pd\n",
    "output = pd.DataFrame( mnist['data'] ) #, mnist['target']\n",
    "output['target'] = mnist['target']\n",
    "output.to_csv('mnist.csv', index = False)"
   ]
  }
 ],
 "metadata": {
  "kernelspec": {
   "display_name": "Python 3 (ipykernel)",
   "language": "python",
   "name": "python3"
  },
  "language_info": {
   "codemirror_mode": {
    "name": "ipython",
    "version": 3
   },
   "file_extension": ".py",
   "mimetype": "text/x-python",
   "name": "python",
   "nbconvert_exporter": "python",
   "pygments_lexer": "ipython3",
   "version": "3.7.7"
  }
 },
 "nbformat": 4,
 "nbformat_minor": 5
}
