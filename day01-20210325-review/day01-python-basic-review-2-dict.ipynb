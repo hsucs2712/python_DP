{
 "cells": [
  {
   "cell_type": "code",
   "execution_count": 3,
   "metadata": {},
   "outputs": [],
   "source": [
    "# list --> dict\n",
    "students = ['Lewis', 'Ada', 'nancy', 'JuDY', 'Jessy', 'SARA']\n",
    "weights =  [77.5   ,  56.4,    65  ,   43  ,   66.5 ,   55.5]\n",
    "# dict {'Lewis':77.5, 'Ada':56.4 ........}"
   ]
  },
  {
   "cell_type": "code",
   "execution_count": 5,
   "metadata": {},
   "outputs": [
    {
     "name": "stdout",
     "output_type": "stream",
     "text": [
      "('Lewis', 77.5)\n",
      "('Ada', 56.4)\n",
      "('nancy', 65)\n",
      "('JuDY', 43)\n",
      "('Jessy', 66.5)\n",
      "('SARA', 55.5)\n"
     ]
    }
   ],
   "source": [
    "# zip\n",
    "for z in zip(students, weights) :\n",
    "    print(z)"
   ]
  },
  {
   "cell_type": "code",
   "execution_count": 14,
   "metadata": {},
   "outputs": [
    {
     "data": {
      "text/plain": [
       "{'Lewis': 77.5,\n",
       " 'Ada': 56.4,\n",
       " 'nancy': 65,\n",
       " 'JuDY': 43,\n",
       " 'Jessy': 66.5,\n",
       " 'SARA': 55.5}"
      ]
     },
     "execution_count": 14,
     "metadata": {},
     "output_type": "execute_result"
    }
   ],
   "source": [
    "#for loop\n",
    "my = {}\n",
    "for i in range(len(students)):\n",
    "    #print(students[i], weights[i])\n",
    "    #my['Lewis'] = 77.5\n",
    "    my[ students[i] ] = weights[i]\n",
    "my    "
   ]
  },
  {
   "cell_type": "code",
   "execution_count": 4,
   "metadata": {},
   "outputs": [
    {
     "data": {
      "text/plain": [
       "{'Lewis': 77.5,\n",
       " 'Ada': 56.4,\n",
       " 'nancy': 65,\n",
       " 'JuDY': 43,\n",
       " 'Jessy': 66.5,\n",
       " 'SARA': 55.5}"
      ]
     },
     "execution_count": 4,
     "metadata": {},
     "output_type": "execute_result"
    }
   ],
   "source": [
    "# zip\n",
    "dict(zip(students, weights))"
   ]
  },
  {
   "cell_type": "code",
   "execution_count": 16,
   "metadata": {},
   "outputs": [
    {
     "data": {
      "text/html": [
       "<div>\n",
       "<style scoped>\n",
       "    .dataframe tbody tr th:only-of-type {\n",
       "        vertical-align: middle;\n",
       "    }\n",
       "\n",
       "    .dataframe tbody tr th {\n",
       "        vertical-align: top;\n",
       "    }\n",
       "\n",
       "    .dataframe thead th {\n",
       "        text-align: right;\n",
       "    }\n",
       "</style>\n",
       "<table border=\"1\" class=\"dataframe\">\n",
       "  <thead>\n",
       "    <tr style=\"text-align: right;\">\n",
       "      <th></th>\n",
       "      <th>id</th>\n",
       "      <th>weight</th>\n",
       "    </tr>\n",
       "  </thead>\n",
       "  <tbody>\n",
       "    <tr>\n",
       "      <th>0</th>\n",
       "      <td>Lewis</td>\n",
       "      <td>77.5</td>\n",
       "    </tr>\n",
       "    <tr>\n",
       "      <th>1</th>\n",
       "      <td>Ada</td>\n",
       "      <td>56.4</td>\n",
       "    </tr>\n",
       "    <tr>\n",
       "      <th>2</th>\n",
       "      <td>nancy</td>\n",
       "      <td>65.0</td>\n",
       "    </tr>\n",
       "    <tr>\n",
       "      <th>3</th>\n",
       "      <td>JuDY</td>\n",
       "      <td>43.0</td>\n",
       "    </tr>\n",
       "    <tr>\n",
       "      <th>4</th>\n",
       "      <td>Jessy</td>\n",
       "      <td>66.5</td>\n",
       "    </tr>\n",
       "    <tr>\n",
       "      <th>5</th>\n",
       "      <td>SARA</td>\n",
       "      <td>55.5</td>\n",
       "    </tr>\n",
       "  </tbody>\n",
       "</table>\n",
       "</div>"
      ],
      "text/plain": [
       "      id  weight\n",
       "0  Lewis    77.5\n",
       "1    Ada    56.4\n",
       "2  nancy    65.0\n",
       "3   JuDY    43.0\n",
       "4  Jessy    66.5\n",
       "5   SARA    55.5"
      ]
     },
     "execution_count": 16,
     "metadata": {},
     "output_type": "execute_result"
    }
   ],
   "source": [
    "# pandas\n",
    "'''\n",
    "id     weight\n",
    "Lewis  77.5\n",
    "Ada    56.4\n",
    "............\n",
    "'''\n",
    "import pandas as pd\n",
    "df = pd.DataFrame( zip(students, weights), columns=['id', 'weight'] )\n",
    "df"
   ]
  }
 ],
 "metadata": {
  "kernelspec": {
   "display_name": "Python 3",
   "language": "python",
   "name": "python3"
  },
  "language_info": {
   "codemirror_mode": {
    "name": "ipython",
    "version": 3
   },
   "file_extension": ".py",
   "mimetype": "text/x-python",
   "name": "python",
   "nbconvert_exporter": "python",
   "pygments_lexer": "ipython3",
   "version": "3.7.5"
  }
 },
 "nbformat": 4,
 "nbformat_minor": 2
}
