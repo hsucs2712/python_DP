{
 "cells": [
  {
   "cell_type": "code",
   "execution_count": 1,
   "metadata": {},
   "outputs": [
    {
     "data": {
      "text/plain": [
       "array([4, 1, 3])"
      ]
     },
     "execution_count": 1,
     "metadata": {},
     "output_type": "execute_result"
    }
   ],
   "source": [
    "# 模擬產生一百次的擲骰子 [1, 2, 3, 4, 5, 6]\n",
    "import numpy as np\n",
    "data = np.random.randint(low=1, high=7, size=(100, ))\n",
    "data[:3]"
   ]
  },
  {
   "cell_type": "code",
   "execution_count": null,
   "metadata": {},
   "outputs": [],
   "source": []
  },
  {
   "cell_type": "code",
   "execution_count": 2,
   "metadata": {},
   "outputs": [
    {
     "data": {
      "text/plain": [
       "array([ 1, -1, -1, -1,  1, -1,  1,  1,  1, -1, -1, -1, -1, -1,  1, -1, -1,\n",
       "       -1, -1,  1, -1, -1,  1, -1, -1,  1, -1, -1, -1, -1,  1,  1, -1, -1,\n",
       "       -1,  1,  1, -1, -1,  1, -1,  1,  1, -1, -1,  1, -1, -1,  1, -1, -1,\n",
       "        1, -1, -1, -1,  1, -1, -1,  1, -1, -1,  1, -1,  1, -1,  1,  1,  1,\n",
       "       -1, -1, -1, -1,  1,  1, -1,  1,  1,  1, -1, -1,  1, -1,  1, -1,  1,\n",
       "       -1,  1, -1, -1, -1, -1,  1,  1, -1,  1,  1,  1, -1, -1, -1])"
      ]
     },
     "execution_count": 2,
     "metadata": {},
     "output_type": "execute_result"
    }
   ],
   "source": [
    "# if each value > 3 then get 1 USD else lose 1 USD\n",
    "#[3, 3, 4, 1, 5, 6, ....] --> [-1, -1, 1, -1, 1, 1, ....]\n",
    "coin = np.where(data > 3, 1, -1)\n",
    "coin"
   ]
  },
  {
   "cell_type": "code",
   "execution_count": null,
   "metadata": {},
   "outputs": [],
   "source": []
  },
  {
   "cell_type": "code",
   "execution_count": 3,
   "metadata": {},
   "outputs": [
    {
     "data": {
      "text/plain": [
       "array([  1,   0,  -1,  -2,  -1,  -2,  -1,   0,   1,   0,  -1,  -2,  -3,\n",
       "        -4,  -3,  -4,  -5,  -6,  -7,  -6,  -7,  -8,  -7,  -8,  -9,  -8,\n",
       "        -9, -10, -11, -12, -11, -10, -11, -12, -13, -12, -11, -12, -13,\n",
       "       -12, -13, -12, -11, -12, -13, -12, -13, -14, -13, -14, -15, -14,\n",
       "       -15, -16, -17, -16, -17, -18, -17, -18, -19, -18, -19, -18, -19,\n",
       "       -18, -17, -16, -17, -18, -19, -20, -19, -18, -19, -18, -17, -16,\n",
       "       -17, -18, -17, -18, -17, -18, -17, -18, -17, -18, -19, -20, -21,\n",
       "       -20, -19, -20, -19, -18, -17, -18, -19, -20], dtype=int32)"
      ]
     },
     "execution_count": 3,
     "metadata": {},
     "output_type": "execute_result"
    }
   ],
   "source": [
    "# total income\n",
    "# sum( [-1, -1, 1, -1, 1, 1, ....] )\n",
    "# 累加\n",
    "#      [-1, -2. -1, -2, -1, 0, .....]\n",
    "cumsum = np.cumsum(coin)\n",
    "cumsum\n"
   ]
  },
  {
   "cell_type": "code",
   "execution_count": null,
   "metadata": {},
   "outputs": [],
   "source": []
  },
  {
   "cell_type": "code",
   "execution_count": 4,
   "metadata": {},
   "outputs": [
    {
     "data": {
      "image/png": "[encoded data removed]",
      "text/plain": [
       "<Figure size 432x288 with 1 Axes>"
      ]
     },
     "metadata": {
      "needs_background": "light"
     },
     "output_type": "display_data"
    }
   ],
   "source": [
    "%matplotlib inline\n",
    "# 劃出累加圖\n",
    "import matplotlib.pyplot as plt\n",
    "plt.plot(cumsum)\n",
    "plt.grid()\n",
    "plt.show()"
   ]
  }
 ],
 "metadata": {
  "kernelspec": {
   "display_name": "Python 3",
   "language": "python",
   "name": "python3"
  },
  "language_info": {
   "codemirror_mode": {
    "name": "ipython",
    "version": 3
   },
   "file_extension": ".py",
   "mimetype": "text/x-python",
   "name": "python",
   "nbconvert_exporter": "python",
   "pygments_lexer": "ipython3",
   "version": "3.7.5"
  }
 },
 "nbformat": 4,
 "nbformat_minor": 2
}
