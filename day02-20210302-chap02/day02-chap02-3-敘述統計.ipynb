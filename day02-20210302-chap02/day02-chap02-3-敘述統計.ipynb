{
 "cells": [
  {
   "cell_type": "code",
   "execution_count": 1,
   "id": "measured-registration",
   "metadata": {},
   "outputs": [
    {
     "data": {
      "text/plain": [
       "array([4, 6, 5, 5, 1, 2, 2, 2, 3, 4])"
      ]
     },
     "execution_count": 1,
     "metadata": {},
     "output_type": "execute_result"
    }
   ],
   "source": [
    "from numpy import random\n",
    "random.seed(1234) # 固定亂數的seed \n",
    "data = random.randint(1, 7, (10,))\n",
    "data"
   ]
  },
  {
   "cell_type": "code",
   "execution_count": 13,
   "id": "genuine-binary",
   "metadata": {},
   "outputs": [
    {
     "data": {
      "text/plain": [
       "(3.4, array([4, 6, 5, 5, 1, 2, 2, 2, 3, 4]))"
      ]
     },
     "execution_count": 13,
     "metadata": {},
     "output_type": "execute_result"
    }
   ],
   "source": [
    "# 平均\n",
    "import numpy as np\n",
    "np.mean(data), data"
   ]
  },
  {
   "cell_type": "code",
   "execution_count": 12,
   "id": "declared-vector",
   "metadata": {},
   "outputs": [
    {
     "data": {
      "text/plain": [
       "(12.181818181818182,\n",
       " array([  4,   6,   5,   5,   1,   2,   2,   2,   3,   4, 100]))"
      ]
     },
     "execution_count": 12,
     "metadata": {},
     "output_type": "execute_result"
    }
   ],
   "source": [
    "data2 = np.append(data, 100)\n",
    "np.mean(data2), data2"
   ]
  },
  {
   "cell_type": "code",
   "execution_count": 22,
   "id": "automatic-stephen",
   "metadata": {},
   "outputs": [
    {
     "data": {
      "text/plain": [
       "(4.0, 4.0)"
      ]
     },
     "execution_count": 22,
     "metadata": {},
     "output_type": "execute_result"
    }
   ],
   "source": [
    "# 中位數\n",
    "np.median([4, 4, 4]), np.mean([1, 2, 4, 6, 7])"
   ]
  },
  {
   "cell_type": "code",
   "execution_count": 17,
   "id": "turned-affiliation",
   "metadata": {},
   "outputs": [
    {
     "data": {
      "text/plain": [
       "(3.5, [1, 2, 2, 2, 3, 4, 4, 5, 5, 6])"
      ]
     },
     "execution_count": 17,
     "metadata": {},
     "output_type": "execute_result"
    }
   ],
   "source": [
    "# 中位數\n",
    "np.median(data), sorted(data)"
   ]
  },
  {
   "cell_type": "code",
   "execution_count": 18,
   "id": "developed-herald",
   "metadata": {},
   "outputs": [
    {
     "data": {
      "text/plain": [
       "(4.0, [1, 2, 2, 2, 3, 4, 4, 5, 5, 6, 100])"
      ]
     },
     "execution_count": 18,
     "metadata": {},
     "output_type": "execute_result"
    }
   ],
   "source": [
    "# 中位數 \n",
    "np.median(data2), sorted(data2)"
   ]
  },
  {
   "cell_type": "code",
   "execution_count": null,
   "id": "dated-generic",
   "metadata": {},
   "outputs": [],
   "source": [
    "# 若 中位數 接近 平均值 表示該資料分配左右對稱 或是 集中在平均值附近"
   ]
  },
  {
   "cell_type": "code",
   "execution_count": null,
   "id": "junior-ordinance",
   "metadata": {},
   "outputs": [],
   "source": []
  },
  {
   "cell_type": "code",
   "execution_count": 34,
   "id": "harmful-milton",
   "metadata": {},
   "outputs": [
    {
     "data": {
      "text/plain": [
       "(2    3\n",
       " dtype: int64,\n",
       " array([4, 6, 5, 5, 1, 2, 2, 2, 3, 4]))"
      ]
     },
     "execution_count": 34,
     "metadata": {},
     "output_type": "execute_result"
    }
   ],
   "source": [
    "# 出現最多的數字\n",
    "import pandas as pd\n",
    "pd.Series(data).value_counts()[:1], data"
   ]
  },
  {
   "cell_type": "code",
   "execution_count": 35,
   "id": "viral-trustee",
   "metadata": {},
   "outputs": [
    {
     "data": {
      "text/plain": [
       "5"
      ]
     },
     "execution_count": 35,
     "metadata": {},
     "output_type": "execute_result"
    }
   ],
   "source": [
    "# 全距離\n",
    "np.max(data) - np.min(data)"
   ]
  },
  {
   "cell_type": "code",
   "execution_count": 36,
   "id": "developed-poker",
   "metadata": {},
   "outputs": [],
   "source": [
    "np.percentile?"
   ]
  },
  {
   "cell_type": "code",
   "execution_count": 45,
   "id": "finnish-expense",
   "metadata": {},
   "outputs": [
    {
     "data": {
      "image/png": "[encoded data removed]",
      "text/plain": [
       "<Figure size 432x288 with 1 Axes>"
      ]
     },
     "metadata": {
      "needs_background": "light"
     },
     "output_type": "display_data"
    }
   ],
   "source": [
    "# boxplot\n",
    "import matplotlib.pyplot as plt\n",
    "plt.boxplot(data)\n",
    "plt.show()"
   ]
  },
  {
   "cell_type": "code",
   "execution_count": 42,
   "id": "relative-persian",
   "metadata": {},
   "outputs": [
    {
     "data": {
      "text/plain": [
       "([1, 2, 2, 2, 3, 4, 4, 5, 5, 6], 1.0, 2.0, 3.5, 4.75, 6.0)"
      ]
     },
     "execution_count": 42,
     "metadata": {},
     "output_type": "execute_result"
    }
   ],
   "source": [
    "sorted(data), \\\n",
    "np.percentile(a = data, q=0), \\\n",
    "np.percentile(a = data, q=25), \\\n",
    "np.percentile(a = data, q=50), \\\n",
    "np.percentile(a = data, q=75), \\\n",
    "np.percentile(a = data, q=100)"
   ]
  },
  {
   "cell_type": "code",
   "execution_count": 41,
   "id": "pleasant-creek",
   "metadata": {},
   "outputs": [
    {
     "data": {
      "text/plain": [
       "count    10.000000\n",
       "mean      3.400000\n",
       "std       1.646545\n",
       "min       1.000000\n",
       "25%       2.000000\n",
       "50%       3.500000\n",
       "75%       4.750000\n",
       "max       6.000000\n",
       "dtype: float64"
      ]
     },
     "execution_count": 41,
     "metadata": {},
     "output_type": "execute_result"
    }
   ],
   "source": [
    "pd.Series(data).describe()"
   ]
  }
 ],
 "metadata": {
  "kernelspec": {
   "display_name": "Python 3",
   "language": "python",
   "name": "python3"
  },
  "language_info": {
   "codemirror_mode": {
    "name": "ipython",
    "version": 3
   },
   "file_extension": ".py",
   "mimetype": "text/x-python",
   "name": "python",
   "nbconvert_exporter": "python",
   "pygments_lexer": "ipython3",
   "version": "3.7.9"
  }
 },
 "nbformat": 4,
 "nbformat_minor": 5
}
