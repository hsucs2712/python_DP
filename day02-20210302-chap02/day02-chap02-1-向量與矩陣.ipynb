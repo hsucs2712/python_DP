{
 "cells": [
  {
   "cell_type": "code",
   "execution_count": 3,
   "id": "equipped-saint",
   "metadata": {},
   "outputs": [
    {
     "data": {
      "text/plain": [
       "()"
      ]
     },
     "execution_count": 3,
     "metadata": {},
     "output_type": "execute_result"
    }
   ],
   "source": [
    "# 張量 = tensor \n",
    "# 0 rank tensor : scalar value 純量\n",
    "import numpy as np\n",
    "data = np.array(0)\n",
    "data.shape"
   ]
  },
  {
   "cell_type": "code",
   "execution_count": 5,
   "id": "annoying-richmond",
   "metadata": {},
   "outputs": [
    {
     "data": {
      "text/plain": [
       "(3,)"
      ]
     },
     "execution_count": 5,
     "metadata": {},
     "output_type": "execute_result"
    }
   ],
   "source": [
    "# 1 rank tensor : vector 向量\n",
    "import numpy as np\n",
    "data = np.array([0, 1, 2])\n",
    "data.shape"
   ]
  },
  {
   "cell_type": "code",
   "execution_count": 7,
   "id": "adult-process",
   "metadata": {},
   "outputs": [
    {
     "data": {
      "text/plain": [
       "(2, 3)"
      ]
     },
     "execution_count": 7,
     "metadata": {},
     "output_type": "execute_result"
    }
   ],
   "source": [
    "# 2 rank tensor : matrix 矩陣\n",
    "import numpy as np\n",
    "data = np.array([\n",
    "                 [0, 1, 2], \n",
    "                 [3, 4, 5]\n",
    "               ])\n",
    "data.shape"
   ]
  },
  {
   "cell_type": "code",
   "execution_count": 10,
   "id": "progressive-cabinet",
   "metadata": {},
   "outputs": [
    {
     "data": {
      "text/plain": [
       "(2, 2, 3)"
      ]
     },
     "execution_count": 10,
     "metadata": {},
     "output_type": "execute_result"
    }
   ],
   "source": [
    "# 3 rank+ tensor : array 陣列\n",
    "import numpy as np\n",
    "data = np.array([\n",
    "                 [\n",
    "                  [0, 1, 2], \n",
    "                  [3, 4, 5]\n",
    "                 ] ,\n",
    "                 [\n",
    "                  [1, 1, 1], \n",
    "                  [2, 2, 2]\n",
    "                 ]\n",
    "                ])\n",
    "data.shape"
   ]
  }
 ],
 "metadata": {
  "kernelspec": {
   "display_name": "Python 3",
   "language": "python",
   "name": "python3"
  },
  "language_info": {
   "codemirror_mode": {
    "name": "ipython",
    "version": 3
   },
   "file_extension": ".py",
   "mimetype": "text/x-python",
   "name": "python",
   "nbconvert_exporter": "python",
   "pygments_lexer": "ipython3",
   "version": "3.7.9"
  }
 },
 "nbformat": 4,
 "nbformat_minor": 5
}
