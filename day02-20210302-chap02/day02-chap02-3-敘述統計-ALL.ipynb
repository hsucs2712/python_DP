{
 "cells": [
  {
   "cell_type": "code",
   "execution_count": 1,
   "id": "explicit-cleaners",
   "metadata": {},
   "outputs": [
    {
     "data": {
      "text/plain": [
       "array([4, 6, 5, 5, 1, 2, 2, 2, 3, 4])"
      ]
     },
     "execution_count": 1,
     "metadata": {},
     "output_type": "execute_result"
    }
   ],
   "source": [
    "from numpy import random\n",
    "random.seed(1234) # 固定亂數的seed \n",
    "data = random.randint(1, 7, (10,))\n",
    "data"
   ]
  },
  {
   "cell_type": "code",
   "execution_count": 13,
   "id": "exotic-longer",
   "metadata": {},
   "outputs": [
    {
     "data": {
      "text/plain": [
       "(3.4, array([4, 6, 5, 5, 1, 2, 2, 2, 3, 4]))"
      ]
     },
     "execution_count": 13,
     "metadata": {},
     "output_type": "execute_result"
    }
   ],
   "source": [
    "# 平均\n",
    "import numpy as np\n",
    "np.mean(data), data"
   ]
  },
  {
   "cell_type": "code",
   "execution_count": 12,
   "id": "proud-quest",
   "metadata": {},
   "outputs": [
    {
     "data": {
      "text/plain": [
       "(12.181818181818182,\n",
       " array([  4,   6,   5,   5,   1,   2,   2,   2,   3,   4, 100]))"
      ]
     },
     "execution_count": 12,
     "metadata": {},
     "output_type": "execute_result"
    }
   ],
   "source": [
    "data2 = np.append(data, 100)\n",
    "np.mean(data2), data2"
   ]
  },
  {
   "cell_type": "code",
   "execution_count": 22,
   "id": "white-village",
   "metadata": {},
   "outputs": [
    {
     "data": {
      "text/plain": [
       "(4.0, 4.0)"
      ]
     },
     "execution_count": 22,
     "metadata": {},
     "output_type": "execute_result"
    }
   ],
   "source": [
    "# 中位數\n",
    "np.median([4, 4, 4]), np.mean([1, 2, 4, 6, 7])"
   ]
  },
  {
   "cell_type": "code",
   "execution_count": 17,
   "id": "featured-primary",
   "metadata": {},
   "outputs": [
    {
     "data": {
      "text/plain": [
       "(3.5, [1, 2, 2, 2, 3, 4, 4, 5, 5, 6])"
      ]
     },
     "execution_count": 17,
     "metadata": {},
     "output_type": "execute_result"
    }
   ],
   "source": [
    "# 中位數\n",
    "np.median(data), sorted(data)"
   ]
  },
  {
   "cell_type": "code",
   "execution_count": 18,
   "id": "through-specialist",
   "metadata": {},
   "outputs": [
    {
     "data": {
      "text/plain": [
       "(4.0, [1, 2, 2, 2, 3, 4, 4, 5, 5, 6, 100])"
      ]
     },
     "execution_count": 18,
     "metadata": {},
     "output_type": "execute_result"
    }
   ],
   "source": [
    "# 中位數 \n",
    "np.median(data2), sorted(data2)"
   ]
  },
  {
   "cell_type": "code",
   "execution_count": null,
   "id": "hispanic-north",
   "metadata": {},
   "outputs": [],
   "source": [
    "# 若 中位數 接近 平均值 表示該資料分配左右對稱 或是 集中在平均值附近"
   ]
  },
  {
   "cell_type": "code",
   "execution_count": null,
   "id": "speaking-participation",
   "metadata": {},
   "outputs": [],
   "source": []
  },
  {
   "cell_type": "code",
   "execution_count": 34,
   "id": "light-puppy",
   "metadata": {},
   "outputs": [
    {
     "data": {
      "text/plain": [
       "(2    3\n",
       " dtype: int64,\n",
       " array([4, 6, 5, 5, 1, 2, 2, 2, 3, 4]))"
      ]
     },
     "execution_count": 34,
     "metadata": {},
     "output_type": "execute_result"
    }
   ],
   "source": [
    "# 出現最多的數字\n",
    "import pandas as pd\n",
    "pd.Series(data).value_counts()[:1], data"
   ]
  },
  {
   "cell_type": "code",
   "execution_count": 35,
   "id": "disturbed-oracle",
   "metadata": {},
   "outputs": [
    {
     "data": {
      "text/plain": [
       "5"
      ]
     },
     "execution_count": 35,
     "metadata": {},
     "output_type": "execute_result"
    }
   ],
   "source": [
    "# 全距離\n",
    "np.max(data) - np.min(data)"
   ]
  },
  {
   "cell_type": "code",
   "execution_count": 36,
   "id": "architectural-determination",
   "metadata": {},
   "outputs": [],
   "source": [
    "np.percentile?"
   ]
  },
  {
   "cell_type": "code",
   "execution_count": 45,
   "id": "helpful-stone",
   "metadata": {},
   "outputs": [
    {
     "data": {
      "image/png": "[encoded data removed]",
      "text/plain": [
       "<Figure size 432x288 with 1 Axes>"
      ]
     },
     "metadata": {
      "needs_background": "light"
     },
     "output_type": "display_data"
    }
   ],
   "source": [
    "# boxplot\n",
    "import matplotlib.pyplot as plt\n",
    "plt.boxplot(data)\n",
    "plt.show()"
   ]
  },
  {
   "cell_type": "code",
   "execution_count": 51,
   "id": "tough-orleans",
   "metadata": {},
   "outputs": [
    {
     "data": {
      "text/plain": [
       "array([1, 2, 2, 2, 3, 4, 4, 5, 5, 6])"
      ]
     },
     "execution_count": 51,
     "metadata": {},
     "output_type": "execute_result"
    }
   ],
   "source": [
    "np.sort(data) "
   ]
  },
  {
   "cell_type": "code",
   "execution_count": 55,
   "id": "large-fisher",
   "metadata": {},
   "outputs": [],
   "source": [
    "np.percentile?"
   ]
  },
  {
   "cell_type": "code",
   "execution_count": 54,
   "id": "compound-violin",
   "metadata": {},
   "outputs": [
    {
     "data": {
      "text/plain": [
       "([1, 2, 2, 2, 3, 4, 4, 5, 5, 6], 1.0, 2.0, 3.5, 4.75, 6.0)"
      ]
     },
     "execution_count": 54,
     "metadata": {},
     "output_type": "execute_result"
    }
   ],
   "source": [
    "sorted(data), \\\n",
    "np.percentile(a = data, q=0, interpolation='linear'), \\\n",
    "np.percentile(a = data, q=25, interpolation='linear'), \\\n",
    "np.percentile(a = data, q=50, interpolation='linear'), \\\n",
    "np.percentile(a = data, q=75, interpolation='linear'), \\\n",
    "np.percentile(a = data, q=100, interpolation='linear')\n",
    "# ([1, 2, 2, 2, 3, 4, 4, 5, 5, 6], 1.0, 2.0, 3.5, 4.75, 6.0)"
   ]
  },
  {
   "cell_type": "code",
   "execution_count": 41,
   "id": "ambient-arbitration",
   "metadata": {},
   "outputs": [
    {
     "data": {
      "text/plain": [
       "count    10.000000\n",
       "mean      3.400000\n",
       "std       1.646545\n",
       "min       1.000000\n",
       "25%       2.000000\n",
       "50%       3.500000\n",
       "75%       4.750000\n",
       "max       6.000000\n",
       "dtype: float64"
      ]
     },
     "execution_count": 41,
     "metadata": {},
     "output_type": "execute_result"
    }
   ],
   "source": [
    "pd.Series(data).describe()"
   ]
  },
  {
   "cell_type": "code",
   "execution_count": null,
   "id": "native-karaoke",
   "metadata": {},
   "outputs": [],
   "source": []
  },
  {
   "cell_type": "code",
   "execution_count": 56,
   "id": "included-celtic",
   "metadata": {},
   "outputs": [
    {
     "data": {
      "text/plain": [
       "2.4400000000000004"
      ]
     },
     "execution_count": 56,
     "metadata": {},
     "output_type": "execute_result"
    }
   ],
   "source": [
    "# variance\n",
    "from numpy import random\n",
    "random.seed(1234) # 固定亂數的seed \n",
    "data = random.randint(1, 7, (10,))\n",
    "data\n",
    "np.var(data)"
   ]
  },
  {
   "cell_type": "code",
   "execution_count": 59,
   "id": "united-indication",
   "metadata": {},
   "outputs": [
    {
     "data": {
      "text/plain": [
       "24.400000000000002"
      ]
     },
     "execution_count": 59,
     "metadata": {},
     "output_type": "execute_result"
    }
   ],
   "source": [
    "# variance\n",
    "np.sum( (data - np.mean(data)) ** 2 )\n"
   ]
  },
  {
   "cell_type": "code",
   "execution_count": 60,
   "id": "tight-headquarters",
   "metadata": {},
   "outputs": [
    {
     "data": {
      "text/plain": [
       "(1.562049935181331, 1.562049935181331)"
      ]
     },
     "execution_count": 60,
     "metadata": {},
     "output_type": "execute_result"
    }
   ],
   "source": [
    "# std \n",
    "# ( variance / N ) ** 0.5\n",
    "( np.sum( (data - np.mean(data)) ** 2 ) / len(data) ) **0.5, \\\n",
    "np.std(data)"
   ]
  },
  {
   "cell_type": "code",
   "execution_count": null,
   "id": "vocal-greenhouse",
   "metadata": {},
   "outputs": [],
   "source": []
  },
  {
   "cell_type": "code",
   "execution_count": null,
   "id": "engaging-perth",
   "metadata": {},
   "outputs": [],
   "source": []
  },
  {
   "cell_type": "code",
   "execution_count": 71,
   "id": "failing-excitement",
   "metadata": {},
   "outputs": [
    {
     "data": {
      "text/plain": [
       "-1.256651437785542"
      ]
     },
     "execution_count": 71,
     "metadata": {},
     "output_type": "execute_result"
    }
   ],
   "source": [
    "# 峰度係數\n",
    "\n",
    "from numpy import random\n",
    "random.seed(1234) # 固定亂數的seed \n",
    "data = random.randint(1, 7, (10,))\n",
    "data\n",
    "\n",
    "sum((data - np.mean(data)) ** 4 ) / (len(data) * (np.std(data)**4) ) - 3"
   ]
  },
  {
   "cell_type": "code",
   "execution_count": 72,
   "id": "engaged-conference",
   "metadata": {},
   "outputs": [
    {
     "data": {
      "image/png": "[encoded data removed]",
      "text/plain": [
       "<Figure size 432x288 with 1 Axes>"
      ]
     },
     "metadata": {
      "needs_background": "light"
     },
     "output_type": "display_data"
    }
   ],
   "source": [
    "import matplotlib.pyplot as plt\n",
    "plt.hist(data)\n",
    "plt.show()"
   ]
  }
 ],
 "metadata": {
  "kernelspec": {
   "display_name": "Python 3",
   "language": "python",
   "name": "python3"
  },
  "language_info": {
   "codemirror_mode": {
    "name": "ipython",
    "version": 3
   },
   "file_extension": ".py",
   "mimetype": "text/x-python",
   "name": "python",
   "nbconvert_exporter": "python",
   "pygments_lexer": "ipython3",
   "version": "3.7.9"
  }
 },
 "nbformat": 4,
 "nbformat_minor": 5
}
