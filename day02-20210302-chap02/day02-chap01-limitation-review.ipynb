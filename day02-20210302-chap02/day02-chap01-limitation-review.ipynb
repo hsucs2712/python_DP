{
 "cells": [
  {
   "cell_type": "code",
   "execution_count": 3,
   "id": "headed-acquisition",
   "metadata": {},
   "outputs": [
    {
     "data": {
      "image/png": "[encoded data removed]",
      "text/plain": [
       "<Figure size 432x288 with 1 Axes>"
      ]
     },
     "metadata": {
      "needs_background": "light"
     },
     "output_type": "display_data"
    }
   ],
   "source": [
    "'''\n",
    "f(x) = (x**2 + 2*x - 3) / (x - 1)\n",
    "當 x=1 時候 極限存在\n",
    "'''\n",
    "%matplotlib inline\n",
    "import matplotlib.pyplot as plt\n",
    "import numpy as np\n",
    "#print(dir(np))\n",
    "#np.linspace(0, 1, 10)\n",
    "\n",
    "def f(x):\n",
    "    return( (x**2 + 2*x - 3) / (x - 1) )\n",
    "\n",
    "xleft, xright = np.linspace(-1, 0.9, 20), np.linspace(1.1, 2.5, 20)\n",
    "yleft, yright = f(xleft), f(xright)\n",
    "plt.scatter(xleft, yleft, color='red')\n",
    "plt.scatter(xright, yright, color='blue')\n",
    "plt.show()"
   ]
  },
  {
   "cell_type": "code",
   "execution_count": 4,
   "id": "english-literature",
   "metadata": {},
   "outputs": [
    {
     "data": {
      "image/png": "[encoded data removed]",
      "text/plain": [
       "<Figure size 432x288 with 1 Axes>"
      ]
     },
     "metadata": {
      "needs_background": "light"
     },
     "output_type": "display_data"
    }
   ],
   "source": [
    "'''\n",
    "該部分極限不存在 當 x = 1\n",
    "f(x) = (3) / (x - 1)\n",
    "'''\n",
    "%matplotlib inline \n",
    "# magic command\n",
    "# 強迫 圖 直接輸出在jupyter notebook' cell\n",
    "import matplotlib.pyplot as plt\n",
    "import numpy as np\n",
    "\n",
    "def f(x):\n",
    "    return( (3) / (x - 1) )\n",
    "\n",
    "xleft, xright = np.linspace(0, 0.99, 50), np.linspace(1.01, 2, 50)\n",
    "yleft, yright = f(xleft), f(xright)\n",
    "plt.scatter(xleft, yleft, color='red')\n",
    "plt.scatter(xright, yright, color='blue')\n",
    "plt.show()"
   ]
  },
  {
   "cell_type": "code",
   "execution_count": null,
   "id": "alike-baptist",
   "metadata": {},
   "outputs": [],
   "source": []
  }
 ],
 "metadata": {
  "kernelspec": {
   "display_name": "Python 3",
   "language": "python",
   "name": "python3"
  },
  "language_info": {
   "codemirror_mode": {
    "name": "ipython",
    "version": 3
   },
   "file_extension": ".py",
   "mimetype": "text/x-python",
   "name": "python",
   "nbconvert_exporter": "python",
   "pygments_lexer": "ipython3",
   "version": "3.7.9"
  }
 },
 "nbformat": 4,
 "nbformat_minor": 5
}
