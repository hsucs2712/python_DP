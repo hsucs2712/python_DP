{
 "cells": [
  {
   "cell_type": "code",
   "execution_count": 6,
   "id": "junior-touch",
   "metadata": {},
   "outputs": [
    {
     "data": {
      "text/plain": [
       "array([4, 6, 5, 5, 1, 2, 2, 2, 3, 4])"
      ]
     },
     "execution_count": 6,
     "metadata": {},
     "output_type": "execute_result"
    }
   ],
   "source": [
    "# 母體 VS 抽樣\n",
    "from numpy import random\n",
    "random.seed(1234) # 固定亂數的seed \n",
    "data = random.randint(1, 7, (10,))\n",
    "data"
   ]
  },
  {
   "cell_type": "code",
   "execution_count": 8,
   "id": "through-reservoir",
   "metadata": {},
   "outputs": [
    {
     "data": {
      "text/plain": [
       "1.562049935181331"
      ]
     },
     "execution_count": 8,
     "metadata": {},
     "output_type": "execute_result"
    }
   ],
   "source": [
    "# 標準差 numpy https://en.wikipedia.org/wiki/Standard_deviation\n",
    "(np.sum((data - np.mean(data))**2) / len(data)) ** 0.5"
   ]
  },
  {
   "cell_type": "code",
   "execution_count": 9,
   "id": "colored-father",
   "metadata": {},
   "outputs": [
    {
     "data": {
      "text/plain": [
       "1.6465452046971292"
      ]
     },
     "execution_count": 9,
     "metadata": {},
     "output_type": "execute_result"
    }
   ],
   "source": [
    "# 標準差 pandas  https://en.wikipedia.org/wiki/Standard_deviation\n",
    "(np.sum((data - np.mean(data))**2) / (len(data)-1)  ) ** 0.5"
   ]
  },
  {
   "cell_type": "code",
   "execution_count": 7,
   "id": "developmental-recovery",
   "metadata": {},
   "outputs": [
    {
     "data": {
      "text/plain": [
       "(1.562049935181331,\n",
       " count    10.000000\n",
       " mean      3.400000\n",
       " std       1.646545\n",
       " min       1.000000\n",
       " 25%       2.000000\n",
       " 50%       3.500000\n",
       " 75%       4.750000\n",
       " max       6.000000\n",
       " dtype: float64)"
      ]
     },
     "execution_count": 7,
     "metadata": {},
     "output_type": "execute_result"
    }
   ],
   "source": [
    "# 標準差 ( Sum ( (xi - xmean)**2) / N or N-1 ) ** 0.5\n",
    "import numpy as np\n",
    "import pandas as pd\n",
    "np.std(data), pd.Series(data).describe() # numpy 計算是使用母體計算方式，pandas 是使用樣本"
   ]
  }
 ],
 "metadata": {
  "kernelspec": {
   "display_name": "Python 3",
   "language": "python",
   "name": "python3"
  },
  "language_info": {
   "codemirror_mode": {
    "name": "ipython",
    "version": 3
   },
   "file_extension": ".py",
   "mimetype": "text/x-python",
   "name": "python",
   "nbconvert_exporter": "python",
   "pygments_lexer": "ipython3",
   "version": "3.7.9"
  }
 },
 "nbformat": 4,
 "nbformat_minor": 5
}
