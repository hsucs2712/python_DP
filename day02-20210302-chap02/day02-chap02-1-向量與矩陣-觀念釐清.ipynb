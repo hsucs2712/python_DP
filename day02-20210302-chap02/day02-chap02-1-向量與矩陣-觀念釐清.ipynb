{
 "cells": [
  {
   "cell_type": "code",
   "execution_count": 3,
   "id": "valued-drove",
   "metadata": {},
   "outputs": [
    {
     "data": {
      "text/plain": [
       "()"
      ]
     },
     "execution_count": 3,
     "metadata": {},
     "output_type": "execute_result"
    }
   ],
   "source": [
    "# 張量 = tensor \n",
    "# 0 rank tensor : scalar value 純量 零階張量\n",
    "import numpy as np\n",
    "data = np.array(0)\n",
    "data.shape"
   ]
  },
  {
   "cell_type": "code",
   "execution_count": 5,
   "id": "molecular-vienna",
   "metadata": {},
   "outputs": [
    {
     "data": {
      "text/plain": [
       "(3,)"
      ]
     },
     "execution_count": 5,
     "metadata": {},
     "output_type": "execute_result"
    }
   ],
   "source": [
    "# 1 rank tensor : vector 向量 一階張量\n",
    "import numpy as np\n",
    "data = np.array([0, 1, 2])\n",
    "data.shape"
   ]
  },
  {
   "cell_type": "code",
   "execution_count": 7,
   "id": "destroyed-fifty",
   "metadata": {},
   "outputs": [
    {
     "data": {
      "text/plain": [
       "(2, 3)"
      ]
     },
     "execution_count": 7,
     "metadata": {},
     "output_type": "execute_result"
    }
   ],
   "source": [
    "# 2 rank tensor : matrix 矩陣 二階張量\n",
    "import numpy as np\n",
    "data = np.array([\n",
    "                 [0, 1, 2], \n",
    "                 [3, 4, 5]\n",
    "               ])\n",
    "data.shape"
   ]
  },
  {
   "cell_type": "code",
   "execution_count": 10,
   "id": "brief-theta",
   "metadata": {},
   "outputs": [
    {
     "data": {
      "text/plain": [
       "(2, 2, 3)"
      ]
     },
     "execution_count": 10,
     "metadata": {},
     "output_type": "execute_result"
    }
   ],
   "source": [
    "# 3 rank+ tensor : array 陣列 多階張量\n",
    "import numpy as np\n",
    "data = np.array([\n",
    "                 [\n",
    "                  [0, 1, 2], \n",
    "                  [3, 4, 5]\n",
    "                 ] ,\n",
    "                 [\n",
    "                  [1, 1, 1], \n",
    "                  [2, 2, 2]\n",
    "                 ]\n",
    "                ])\n",
    "data.shape"
   ]
  },
  {
   "cell_type": "code",
   "execution_count": null,
   "id": "emotional-novelty",
   "metadata": {},
   "outputs": [],
   "source": []
  },
  {
   "cell_type": "code",
   "execution_count": 17,
   "id": "unlike-stomach",
   "metadata": {},
   "outputs": [
    {
     "data": {
      "text/plain": [
       "array([5, 4])"
      ]
     },
     "execution_count": 17,
     "metadata": {},
     "output_type": "execute_result"
    }
   ],
   "source": [
    "# 張量的運算\n",
    "import numpy as np\n",
    "a = np.array([3, 1])\n",
    "b = np.array([2, 3])\n",
    "a.shape, b.shape\n",
    "a, b\n",
    "a + b"
   ]
  },
  {
   "cell_type": "code",
   "execution_count": 19,
   "id": "prescribed-stage",
   "metadata": {},
   "outputs": [
    {
     "data": {
      "text/plain": [
       "((2,), array([3, 1]))"
      ]
     },
     "execution_count": 19,
     "metadata": {},
     "output_type": "execute_result"
    }
   ],
   "source": [
    "# 容易搞混\n",
    "a = np.array([3, 1])\n",
    "a.shape, a"
   ]
  },
  {
   "cell_type": "code",
   "execution_count": 20,
   "id": "polar-distributor",
   "metadata": {},
   "outputs": [
    {
     "data": {
      "text/plain": [
       "((2, 1),\n",
       " array([[3],\n",
       "        [1]]))"
      ]
     },
     "execution_count": 20,
     "metadata": {},
     "output_type": "execute_result"
    }
   ],
   "source": [
    "# 容易搞混\n",
    "a = np.array([[3], \n",
    "              [1]])\n",
    "a.shape, a"
   ]
  },
  {
   "cell_type": "code",
   "execution_count": 21,
   "id": "naval-tennis",
   "metadata": {},
   "outputs": [
    {
     "data": {
      "text/plain": [
       "array([3, 1])"
      ]
     },
     "execution_count": 21,
     "metadata": {},
     "output_type": "execute_result"
    }
   ],
   "source": [
    "# 互換 1-rank <--> 2-rank\n",
    "a = np.array([3, 1])\n",
    "a"
   ]
  },
  {
   "cell_type": "code",
   "execution_count": 27,
   "id": "typical-finger",
   "metadata": {},
   "outputs": [
    {
     "data": {
      "text/plain": [
       "(array([[3],\n",
       "        [1]]),\n",
       " (2, 1))"
      ]
     },
     "execution_count": 27,
     "metadata": {},
     "output_type": "execute_result"
    }
   ],
   "source": [
    "# 互換 1-rank <--> 2-rank\n",
    "a.reshape(-1,1), a.reshape(-1,1).shape"
   ]
  },
  {
   "cell_type": "code",
   "execution_count": 28,
   "id": "major-artist",
   "metadata": {},
   "outputs": [
    {
     "data": {
      "text/plain": [
       "(array([[3, 1]]), (1, 2))"
      ]
     },
     "execution_count": 28,
     "metadata": {},
     "output_type": "execute_result"
    }
   ],
   "source": [
    "# 互換 1-rank <--> 2-rank\n",
    "a.reshape(1,-1), a.reshape(1,-1).shape"
   ]
  },
  {
   "cell_type": "code",
   "execution_count": 31,
   "id": "signed-raise",
   "metadata": {},
   "outputs": [
    {
     "data": {
      "text/plain": [
       "(1, 2)"
      ]
     },
     "execution_count": 31,
     "metadata": {},
     "output_type": "execute_result"
    }
   ],
   "source": [
    "# 互換 2-rank <--> 1-rank\n",
    "b = np.array([[3, 1]])\n",
    "b.shape"
   ]
  },
  {
   "cell_type": "code",
   "execution_count": 33,
   "id": "superior-shoulder",
   "metadata": {},
   "outputs": [
    {
     "data": {
      "text/plain": [
       "(array([3, 1]), (2,))"
      ]
     },
     "execution_count": 33,
     "metadata": {},
     "output_type": "execute_result"
    }
   ],
   "source": [
    "# 互換 2-rank <--> 1-rank\n",
    "b = np.array([[3, 1]])\n",
    "b.flatten(), b.flatten().shape"
   ]
  },
  {
   "cell_type": "code",
   "execution_count": 34,
   "id": "marked-insertion",
   "metadata": {},
   "outputs": [
    {
     "data": {
      "text/plain": [
       "(array([3, 1]), (2,))"
      ]
     },
     "execution_count": 34,
     "metadata": {},
     "output_type": "execute_result"
    }
   ],
   "source": [
    "# 互換 2-rank <--> 1-rank\n",
    "b = np.array([[3, 1]])\n",
    "b.ravel(), b.ravel().shape"
   ]
  },
  {
   "cell_type": "code",
   "execution_count": null,
   "id": "continent-manchester",
   "metadata": {},
   "outputs": [],
   "source": [
    "###################### 2-rank ---> 1-rank"
   ]
  },
  {
   "cell_type": "code",
   "execution_count": 36,
   "id": "composite-continuity",
   "metadata": {},
   "outputs": [
    {
     "data": {
      "text/plain": [
       "(array([[3],\n",
       "        [1]]),\n",
       " (2, 1))"
      ]
     },
     "execution_count": 36,
     "metadata": {},
     "output_type": "execute_result"
    }
   ],
   "source": [
    "# 互換 2-rank <--> 1-rank\n",
    "c = np.array([[3], [1]])\n",
    "c, c.shape"
   ]
  },
  {
   "cell_type": "code",
   "execution_count": 38,
   "id": "handled-rachel",
   "metadata": {},
   "outputs": [
    {
     "data": {
      "text/plain": [
       "(array([3, 1]), (2,))"
      ]
     },
     "execution_count": 38,
     "metadata": {},
     "output_type": "execute_result"
    }
   ],
   "source": [
    "# 互換 2-rank <--> 1-rank\n",
    "c = np.array([[3], [1]])\n",
    "c.reshape(-1,), c.reshape(-1,).shape"
   ]
  },
  {
   "cell_type": "code",
   "execution_count": 39,
   "id": "paperback-worse",
   "metadata": {},
   "outputs": [
    {
     "data": {
      "text/plain": [
       "(array([3, 1]), (2,))"
      ]
     },
     "execution_count": 39,
     "metadata": {},
     "output_type": "execute_result"
    }
   ],
   "source": [
    "# 互換 2-rank <--> 1-rank\n",
    "c = np.array([[3], [1]])\n",
    "c.ravel(), c.ravel().shape"
   ]
  },
  {
   "cell_type": "code",
   "execution_count": 41,
   "id": "caring-tribe",
   "metadata": {},
   "outputs": [
    {
     "data": {
      "text/plain": [
       "(array([3, 1]), (2,))"
      ]
     },
     "execution_count": 41,
     "metadata": {},
     "output_type": "execute_result"
    }
   ],
   "source": [
    "# 互換 2-rank <--> 1-rank\n",
    "c = np.array([[3], [1]])\n",
    "c.flatten(), c.flatten().shape"
   ]
  },
  {
   "cell_type": "code",
   "execution_count": null,
   "id": "generous-winter",
   "metadata": {},
   "outputs": [],
   "source": []
  },
  {
   "cell_type": "code",
   "execution_count": 49,
   "id": "missing-spice",
   "metadata": {},
   "outputs": [
    {
     "data": {
      "text/plain": [
       "(10, 1)"
      ]
     },
     "execution_count": 49,
     "metadata": {},
     "output_type": "execute_result"
    }
   ],
   "source": [
    "# Exam\n",
    "from numpy import random\n",
    "data = random.randint(1, 6, (10,))\n",
    "data.shape, data\n",
    "# (10, 1)\n",
    "data.reshape(-1, 1).shape"
   ]
  },
  {
   "cell_type": "code",
   "execution_count": 50,
   "id": "infectious-welding",
   "metadata": {},
   "outputs": [
    {
     "data": {
      "text/plain": [
       "array([ 1, -2])"
      ]
     },
     "execution_count": 50,
     "metadata": {},
     "output_type": "execute_result"
    }
   ],
   "source": [
    "# 相減\n",
    "import numpy as np\n",
    "a = np.array([3, 1])\n",
    "b = np.array([2, 3])\n",
    "a - b"
   ]
  },
  {
   "cell_type": "code",
   "execution_count": null,
   "id": "palestinian-framework",
   "metadata": {},
   "outputs": [],
   "source": []
  },
  {
   "cell_type": "code",
   "execution_count": 67,
   "id": "transparent-season",
   "metadata": {},
   "outputs": [
    {
     "data": {
      "text/plain": [
       "(array([[ 38,  32],\n",
       "        [101,  86]]),\n",
       " array([[ 38,  32],\n",
       "        [101,  86]]),\n",
       " array([[ 38,  32],\n",
       "        [101,  86]]),\n",
       " array([[41, 58, 75],\n",
       "        [31, 44, 57],\n",
       "        [21, 30, 39]]))"
      ]
     },
     "execution_count": 67,
     "metadata": {},
     "output_type": "execute_result"
    }
   ],
   "source": [
    "# 二階張量 運算\n",
    "import numpy as np\n",
    "A = np.array([[1,2,3],\n",
    "              [4,5,6]])\n",
    "# A = 2 * 3\n",
    "B = np.array([[9,8],\n",
    "              [7,6],\n",
    "              [5,4]])\n",
    "# B = 3 * 2\n",
    "\n",
    "np.dot(A, B), A.dot(B) , A@B, B.dot(A)"
   ]
  },
  {
   "cell_type": "code",
   "execution_count": 68,
   "id": "selective-functionality",
   "metadata": {},
   "outputs": [
    {
     "data": {
      "text/plain": [
       "array([[3, 3],\n",
       "       [8, 8]])"
      ]
     },
     "execution_count": 68,
     "metadata": {},
     "output_type": "execute_result"
    }
   ],
   "source": [
    "# np.array * np.array\n",
    "\n",
    "# 二階張量 運算\n",
    "import numpy as np\n",
    "A = np.array([[1, 1],\n",
    "              [2, 2]])\n",
    "# A = 2 * 2\n",
    "B = np.array([[3, 3],\n",
    "              [4, 4]])\n",
    "# B = 2 * 2\n",
    "\n",
    "A*B"
   ]
  },
  {
   "cell_type": "code",
   "execution_count": 66,
   "id": "soviet-hunter",
   "metadata": {},
   "outputs": [
    {
     "data": {
      "text/plain": [
       "(matrix([[ 38,  32],\n",
       "         [101,  86]]),\n",
       " matrix([[ 38,  32],\n",
       "         [101,  86]]),\n",
       " matrix([[ 38,  32],\n",
       "         [101,  86]]),\n",
       " matrix([[ 38,  32],\n",
       "         [101,  86]]))"
      ]
     },
     "execution_count": 66,
     "metadata": {},
     "output_type": "execute_result"
    }
   ],
   "source": [
    "# 二階張量 運算\n",
    "import numpy as np\n",
    "A = np.matrix([[1,2,3],\n",
    "              [4,5,6]])\n",
    "# A = 2 * 3\n",
    "B = np.matrix([[9,8],\n",
    "               [7,6],\n",
    "               [5,4]])\n",
    "np.dot(A, B), A*B, A@B, A.dot(B) # 當變數是matrix時候，可以使用 X*Y"
   ]
  }
 ],
 "metadata": {
  "kernelspec": {
   "display_name": "Python 3",
   "language": "python",
   "name": "python3"
  },
  "language_info": {
   "codemirror_mode": {
    "name": "ipython",
    "version": 3
   },
   "file_extension": ".py",
   "mimetype": "text/x-python",
   "name": "python",
   "nbconvert_exporter": "python",
   "pygments_lexer": "ipython3",
   "version": "3.7.9"
  }
 },
 "nbformat": 4,
 "nbformat_minor": 5
}
