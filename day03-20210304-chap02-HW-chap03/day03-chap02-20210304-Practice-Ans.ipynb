{
 "cells": [
  {
   "cell_type": "code",
   "execution_count": 13,
   "id": "political-candidate",
   "metadata": {
    "collapsed": true
   },
   "outputs": [
    {
     "name": "stdout",
     "output_type": "stream",
     "text": [
      "['Annotation', 'Arrow', 'Artist', 'AutoLocator', 'Axes', 'Button', 'Circle', 'Figure', 'FigureCanvasBase', 'FixedFormatter', 'FixedLocator', 'FormatStrFormatter', 'Formatter', 'FuncFormatter', 'GridSpec', 'IndexLocator', 'Line2D', 'LinearLocator', 'Locator', 'LogFormatter', 'LogFormatterExponent', 'LogFormatterMathtext', 'LogLocator', 'MaxNLocator', 'MouseButton', 'MultipleLocator', 'Normalize', 'NullFormatter', 'NullLocator', 'Number', 'PolarAxes', 'Polygon', 'Rectangle', 'ScalarFormatter', 'Slider', 'Subplot', 'SubplotTool', 'Text', 'TickHelper', 'Widget', '_INSTALL_FIG_OBSERVER', '_IP_REGISTERED', '__builtins__', '__cached__', '__doc__', '__file__', '__loader__', '__name__', '__package__', '__spec__', '_auto_draw_if_interactive', '_backend_mod', '_code_objs', '_copy_docstring_and_deprecators', '_get_required_interactive_framework', '_interactive_bk', '_log', '_pylab_helpers', '_setup_pyplot_info_docstrings', '_warn_if_gui_out_of_main_thread', '_xkcd', 'acorr', 'angle_spectrum', 'annotate', 'arrow', 'autoscale', 'autumn', 'axes', 'axhline', 'axhspan', 'axis', 'axline', 'axvline', 'axvspan', 'bar', 'barbs', 'barh', 'bone', 'box', 'boxplot', 'broken_barh', 'cbook', 'cla', 'clabel', 'clf', 'clim', 'close', 'cm', 'cohere', 'colorbar', 'colormaps', 'connect', 'contour', 'contourf', 'cool', 'copper', 'csd', 'cycler', 'delaxes', 'disconnect', 'docstring', 'draw', 'draw_all', 'draw_if_interactive', 'errorbar', 'eventplot', 'figaspect', 'figimage', 'figlegend', 'fignum_exists', 'figtext', 'figure', 'fill', 'fill_between', 'fill_betweenx', 'findobj', 'flag', 'functools', 'gca', 'gcf', 'gci', 'get', 'get_backend', 'get_cmap', 'get_current_fig_manager', 'get_figlabels', 'get_fignums', 'get_plot_commands', 'get_scale_names', 'getp', 'ginput', 'gray', 'grid', 'hexbin', 'hist', 'hist2d', 'hlines', 'hot', 'hsv', 'importlib', 'imread', 'imsave', 'imshow', 'inferno', 'inspect', 'install_repl_displayhook', 'interactive', 'ioff', 'ion', 'isinteractive', 'jet', 'legend', 'locator_params', 'logging', 'loglog', 'magma', 'magnitude_spectrum', 'margins', 'matplotlib', 'matshow', 'minorticks_off', 'minorticks_on', 'mlab', 'new_figure_manager', 'nipy_spectral', 'np', 'pause', 'pcolor', 'pcolormesh', 'phase_spectrum', 'pie', 'pink', 'plasma', 'plot', 'plot_date', 'plotting', 'polar', 'prism', 'psd', 'quiver', 'quiverkey', 'rc', 'rcParams', 'rcParamsDefault', 'rcParamsOrig', 'rc_context', 'rcdefaults', 'rcsetup', 're', 'register_cmap', 'rgrids', 'savefig', 'sca', 'scatter', 'sci', 'semilogx', 'semilogy', 'set_cmap', 'set_loglevel', 'setp', 'show', 'specgram', 'spring', 'spy', 'stackplot', 'stem', 'step', 'streamplot', 'style', 'subplot', 'subplot2grid', 'subplot_mosaic', 'subplot_tool', 'subplots', 'subplots_adjust', 'summer', 'suptitle', 'switch_backend', 'sys', 'table', 'text', 'thetagrids', 'threading', 'tick_params', 'ticklabel_format', 'tight_layout', 'time', 'title', 'tricontour', 'tricontourf', 'tripcolor', 'triplot', 'twinx', 'twiny', 'uninstall_repl_displayhook', 'violinplot', 'viridis', 'vlines', 'waitforbuttonpress', 'winter', 'xcorr', 'xkcd', 'xlabel', 'xlim', 'xscale', 'xticks', 'ylabel', 'ylim', 'yscale', 'yticks']\n"
     ]
    }
   ],
   "source": [
    "print(dir(plt))"
   ]
  },
  {
   "cell_type": "code",
   "execution_count": 15,
   "id": "coral-regular",
   "metadata": {},
   "outputs": [
    {
     "data": {
      "image/png": "[encoded data removed]",
      "text/plain": [
       "<Figure size 432x288 with 1 Axes>"
      ]
     },
     "metadata": {
      "needs_background": "light"
     },
     "output_type": "display_data"
    }
   ],
   "source": [
    "# sigmoid function\n",
    "import numpy as np\n",
    "import matplotlib.pyplot as plt\n",
    "def f(x):\n",
    "    return(1 / ( 1 + np.exp(-1 * x)))\n",
    "    \n",
    "x = np.linspace(-5, 5, 100)\n",
    "y = f(x)\n",
    "plt.scatter(x, y, color='red')\n",
    "plt.axvline(x=0,   ymin=0 , ymax=1)\n",
    "plt.axhline(y=0.5, xmin=-5, xmax=5 )\n",
    "plt.show()\n"
   ]
  },
  {
   "cell_type": "code",
   "execution_count": 23,
   "id": "wanted-assistant",
   "metadata": {
    "collapsed": true
   },
   "outputs": [
    {
     "data": {
      "text/plain": [
       "array([6.73794700e-03, 7.45410867e-03, 8.24638961e-03, 9.12288035e-03,\n",
       "       1.00925314e-02, 1.11652445e-02, 1.23519740e-02, 1.36648383e-02,\n",
       "       1.51172441e-02, 1.67240230e-02, 1.85015829e-02, 2.04680757e-02,\n",
       "       2.26435828e-02, 2.50503198e-02, 2.77128635e-02, 3.06584033e-02,\n",
       "       3.39170180e-02, 3.75219838e-02, 4.15101135e-02, 4.59221329e-02,\n",
       "       5.08030961e-02, 5.62028462e-02, 6.21765240e-02, 6.87851310e-02,\n",
       "       7.60961524e-02, 8.41842462e-02, 9.31320059e-02, 1.03030803e-01,\n",
       "       1.13981723e-01, 1.26096591e-01, 1.39499122e-01, 1.54326179e-01,\n",
       "       1.70729172e-01, 1.88875603e-01, 2.08950778e-01, 2.31159700e-01,\n",
       "       2.55729160e-01, 2.82910054e-01, 3.12979946e-01, 3.46245901e-01,\n",
       "       3.83047621e-01, 4.23760917e-01, 4.68801539e-01, 5.18629431e-01,\n",
       "       5.73753421e-01, 6.34736419e-01, 7.02201167e-01, 7.76836596e-01,\n",
       "       8.59404861e-01, 9.50749127e-01, 1.05180218e+00, 1.16359593e+00,\n",
       "       1.28727200e+00, 1.42409333e+00, 1.57545710e+00, 1.74290900e+00,\n",
       "       1.92815899e+00, 2.13309880e+00, 2.35982121e+00, 2.61064146e+00,\n",
       "       2.88812084e+00, 3.19509289e+00, 3.53469234e+00, 3.91038707e+00,\n",
       "       4.32601357e+00, 4.78581611e+00, 5.29449005e+00, 5.85722984e+00,\n",
       "       6.47978201e+00, 7.16850389e+00, 7.93042851e+00, 8.77333644e+00,\n",
       "       9.70583521e+00, 1.07374472e+01, 1.18787071e+01, 1.31412689e+01,\n",
       "       1.45380257e+01, 1.60832407e+01, 1.77926932e+01, 1.96838397e+01,\n",
       "       2.17759920e+01, 2.40905147e+01, 2.66510429e+01, 2.94837240e+01,\n",
       "       3.26174847e+01, 3.60843259e+01, 3.99196501e+01, 4.41626226e+01,\n",
       "       4.88565713e+01, 5.40494295e+01, 5.97942254e+01, 6.61496230e+01,\n",
       "       7.31805220e+01, 8.09587199e+01, 8.95636455e+01, 9.90831698e+01,\n",
       "       1.09614504e+02, 1.21265190e+02, 1.34154202e+02, 1.48413159e+02])"
      ]
     },
     "execution_count": 23,
     "metadata": {},
     "output_type": "execute_result"
    }
   ],
   "source": [
    "import numpy as np\n",
    "np.exp(0)\n",
    "x = np.linspace(-5, 5, 100)\n",
    "np.exp(x)"
   ]
  },
  {
   "cell_type": "code",
   "execution_count": 24,
   "id": "korean-times",
   "metadata": {
    "collapsed": true
   },
   "outputs": [
    {
     "data": {
      "text/plain": [
       "[0.006737946999085467,\n",
       " 0.0074541086721749295,\n",
       " 0.008246389605637307,\n",
       " 0.009122880349438393,\n",
       " 0.010092531380432784,\n",
       " 0.011165244502115052,\n",
       " 0.01235197395905096,\n",
       " 0.013664838298540717,\n",
       " 0.01511724412181421,\n",
       " 0.016724022988470442,\n",
       " 0.018501582872190996,\n",
       " 0.020468075714350484,\n",
       " 0.02264358278653442,\n",
       " 0.025050319754834304,\n",
       " 0.02771286353997882,\n",
       " 0.030658403289933054,\n",
       " 0.03391701802782724,\n",
       " 0.03752198381047752,\n",
       " 0.04151011353411509,\n",
       " 0.045922132857324396,\n",
       " 0.050803096080009554,\n",
       " 0.05620284622522774,\n",
       " 0.06217652402211632,\n",
       " 0.06878513098750348,\n",
       " 0.07609615235623413,\n",
       " 0.08418424622139925,\n",
       " 0.09313200592177617,\n",
       " 0.10303080346176416,\n",
       " 0.11398172257658408,\n",
       " 0.1260965909709399,\n",
       " 0.13949912227207403,\n",
       " 0.1543261793585188,\n",
       " 0.1707291719653028,\n",
       " 0.18887560283756186,\n",
       " 0.20895077822144184,\n",
       " 0.23115970015934426,\n",
       " 0.2557291599131006,\n",
       " 0.2829100538925259,\n",
       " 0.31297994573895926,\n",
       " 0.34624590072707134,\n",
       " 0.38304762142904836,\n",
       " 0.4237609166616759,\n",
       " 0.4688015391402352,\n",
       " 0.5186294310282473,\n",
       " 0.573753420737433,\n",
       " 0.6347364189402815,\n",
       " 0.7022011668554529,\n",
       " 0.7768365955058757,\n",
       " 0.8594048608885094,\n",
       " 0.9507491268969344,\n",
       " 1.0518021754737878,\n",
       " 1.1635959319175062,\n",
       " 1.2872720026131113,\n",
       " 1.424093332795399,\n",
       " 1.5754571033903175,\n",
       " 1.7429089986334574,\n",
       " 1.928158990162544,\n",
       " 2.133098798766666,\n",
       " 2.3598212121066924,\n",
       " 2.6106414556740156,\n",
       " 2.888120835221818,\n",
       " 3.1950928920987463,\n",
       " 3.534692338575877,\n",
       " 3.9103870686464144,\n",
       " 4.326013571183362,\n",
       " 4.7858161070844165,\n",
       " 5.2944900504700305,\n",
       " 5.857229836522777,\n",
       " 6.479782005597869,\n",
       " 7.168503885276326,\n",
       " 7.930428509605459,\n",
       " 8.773336438463646,\n",
       " 9.705835210448596,\n",
       " 10.737447240639531,\n",
       " 11.878707060820656,\n",
       " 13.141268895155582,\n",
       " 14.538025669845338,\n",
       " 16.083240672062946,\n",
       " 17.792693202628776,\n",
       " 19.683839709790607,\n",
       " 21.775992049561445,\n",
       " 24.090514692959104,\n",
       " 26.65104289397306,\n",
       " 29.483724046127794,\n",
       " 32.617484692308096,\n",
       " 36.084325914476224,\n",
       " 39.91965011971619,\n",
       " 44.16262255965405,\n",
       " 48.85657127498727,\n",
       " 54.04942954924472,\n",
       " 59.794225389991404,\n",
       " 66.14962303592083,\n",
       " 73.18052201955366,\n",
       " 80.95871990300357,\n",
       " 89.56364545447869,\n",
       " 99.08316975251431,\n",
       " 109.61450350070197,\n",
       " 121.2651897160414,\n",
       " 134.15420192797174,\n",
       " 148.4131591025766]"
      ]
     },
     "execution_count": 24,
     "metadata": {},
     "output_type": "execute_result"
    }
   ],
   "source": [
    "import math # one by one 效率就沒有 numpy 高\n",
    "import numpy as np\n",
    "#math.exp(0)\n",
    "x = np.linspace(-5, 5, 100)\n",
    "[math.exp(xx) for xx in x]"
   ]
  },
  {
   "cell_type": "code",
   "execution_count": null,
   "id": "coated-hepatitis",
   "metadata": {},
   "outputs": [],
   "source": []
  },
  {
   "cell_type": "code",
   "execution_count": 4,
   "id": "sporting-rental",
   "metadata": {},
   "outputs": [
    {
     "data": {
      "image/png": "[encoded data removed]",
      "text/plain": [
       "<Figure size 432x288 with 1 Axes>"
      ]
     },
     "metadata": {
      "needs_background": "light"
     },
     "output_type": "display_data"
    }
   ],
   "source": [
    "# https://en.wikipedia.org/wiki/Activation_function\n",
    "# tanh 圖\n",
    "\n",
    "import numpy as np\n",
    "import matplotlib.pyplot as plt\n",
    "\n",
    "x= np.linspace(-5,5,100)\n",
    "y= (np.exp(2*x)-1)  / (np.exp(2*x)+1)\n",
    "plt.scatter(x, y, color=\"red\")\n",
    "plt.axvline(x=0  , ymin=0 , ymax=1)\n",
    "plt.axhline(y=0  , xmin=-5, xmax=5 )\n",
    "plt.show()\n"
   ]
  }
 ],
 "metadata": {
  "kernelspec": {
   "display_name": "Python 3",
   "language": "python",
   "name": "python3"
  },
  "language_info": {
   "codemirror_mode": {
    "name": "ipython",
    "version": 3
   },
   "file_extension": ".py",
   "mimetype": "text/x-python",
   "name": "python",
   "nbconvert_exporter": "python",
   "pygments_lexer": "ipython3",
   "version": "3.7.9"
  }
 },
 "nbformat": 4,
 "nbformat_minor": 5
}
