{
 "cells": [
  {
   "cell_type": "code",
   "execution_count": 69,
   "id": "charged-suspension",
   "metadata": {},
   "outputs": [
    {
     "name": "stdout",
     "output_type": "stream",
     "text": [
      "None\n"
     ]
    }
   ],
   "source": [
    "stat = {}  \n",
    "stat[1] = 1\n",
    "print(stat.get(2))"
   ]
  },
  {
   "cell_type": "code",
   "execution_count": null,
   "id": "outside-thousand",
   "metadata": {},
   "outputs": [],
   "source": [
    "# 請用亂數方式\n",
    "# 模擬產生 dice 骰子 丟擲 1000狀況\n",
    "# 計算 1, 2, 3, 4, 5, 6 \n",
    "# 個出現幾次"
   ]
  },
  {
   "cell_type": "code",
   "execution_count": 84,
   "id": "reliable-bulgaria",
   "metadata": {},
   "outputs": [
    {
     "name": "stdout",
     "output_type": "stream",
     "text": [
      "{3: 166576, 1: 166688, 6: 166820, 5: 166291, 4: 166893, 2: 166732}\n",
      "Wall time: 3.82 s\n"
     ]
    }
   ],
   "source": [
    "%%time\n",
    "import random\n",
    "import pandas as pd\n",
    "random.randint(1, 6)\n",
    "total = 1000000\n",
    "data = []\n",
    "for i in range(total):\n",
    "    data.append(random.randint(1, 6))\n",
    "\n",
    "stat = {}    \n",
    "for d in data:\n",
    "    if stat.get(d)==None:\n",
    "        stat[d] = 1\n",
    "    else:\n",
    "        stat[d] = stat[d] + 1\n",
    "# 資料結構\n",
    "print(stat)"
   ]
  },
  {
   "cell_type": "code",
   "execution_count": 86,
   "id": "literary-flooring",
   "metadata": {},
   "outputs": [
    {
     "name": "stdout",
     "output_type": "stream",
     "text": [
      "Wall time: 3.63 s\n"
     ]
    },
    {
     "data": {
      "text/plain": [
       "5    166881\n",
       "1    166823\n",
       "3    166788\n",
       "4    166589\n",
       "6    166526\n",
       "2    166393\n",
       "dtype: int64"
      ]
     },
     "execution_count": 86,
     "metadata": {},
     "output_type": "execute_result"
    }
   ],
   "source": [
    "%%time\n",
    "import random\n",
    "import pandas as pd\n",
    "total = 1000000\n",
    "data = [random.randint(1, 6) for i in range(total)]\n",
    "pd.Series(data).value_counts()"
   ]
  },
  {
   "cell_type": "code",
   "execution_count": 97,
   "id": "desirable-source",
   "metadata": {},
   "outputs": [
    {
     "name": "stdout",
     "output_type": "stream",
     "text": [
      "Wall time: 1.99 ms\n"
     ]
    },
    {
     "data": {
      "text/plain": [
       "2    1723\n",
       "3    1694\n",
       "6    1678\n",
       "1    1656\n",
       "4    1640\n",
       "5    1609\n",
       "dtype: int64"
      ]
     },
     "execution_count": 97,
     "metadata": {},
     "output_type": "execute_result"
    }
   ],
   "source": [
    "%%time\n",
    "from numpy import random\n",
    "import pandas as pd\n",
    "data = random.randint(1, 7, (10000,)) \n",
    "pd.Series(data).value_counts()"
   ]
  },
  {
   "cell_type": "code",
   "execution_count": null,
   "id": "moderate-validation",
   "metadata": {},
   "outputs": [],
   "source": [
    "############################以上是競速測試"
   ]
  },
  {
   "cell_type": "code",
   "execution_count": 53,
   "id": "designed-poultry",
   "metadata": {},
   "outputs": [
    {
     "data": {
      "text/plain": [
       "[4, 6, 2, 4, 6, 4, 5, 1, 5, 5]"
      ]
     },
     "execution_count": 53,
     "metadata": {},
     "output_type": "execute_result"
    }
   ],
   "source": [
    "import random\n",
    "import pandas as pd\n",
    "random.randint(1, 6)\n",
    "data = [random.randint(1, 6) for i in range(10)]\n",
    "data"
   ]
  },
  {
   "cell_type": "code",
   "execution_count": 62,
   "id": "executive-rouge",
   "metadata": {},
   "outputs": [
    {
     "data": {
      "image/png": "[encoded data removed]",
      "text/plain": [
       "<Figure size 432x288 with 1 Axes>"
      ]
     },
     "metadata": {
      "needs_background": "light"
     },
     "output_type": "display_data"
    }
   ],
   "source": [
    "pd.Series(data).value_counts().sort_index().plot(kind='bar')\n",
    "plt.show()"
   ]
  },
  {
   "cell_type": "code",
   "execution_count": null,
   "id": "existing-blowing",
   "metadata": {},
   "outputs": [],
   "source": []
  },
  {
   "cell_type": "code",
   "execution_count": 25,
   "id": "minor-lawyer",
   "metadata": {},
   "outputs": [
    {
     "data": {
      "image/png": "[encoded data removed]",
      "text/plain": [
       "<Figure size 432x288 with 1 Axes>"
      ]
     },
     "metadata": {
      "needs_background": "light"
     },
     "output_type": "display_data"
    },
    {
     "data": {
      "text/plain": [
       "1    1\n",
       "2    2\n",
       "3    1\n",
       "4    2\n",
       "5    2\n",
       "6    2\n",
       "dtype: int64"
      ]
     },
     "execution_count": 25,
     "metadata": {},
     "output_type": "execute_result"
    }
   ],
   "source": [
    "# 請用亂數方式\n",
    "# 模擬產生 dice 骰子 丟擲 1000狀況\n",
    "# 計算 1, 2, 3, 4, 5, 6 \n",
    "# 個出現幾次\n",
    "import random\n",
    "import pandas as pd\n",
    "import matplotlib.pyplot as plt\n",
    "#print(dir(random))\n",
    "data = [random.randint(1, 6) for i in range(10)]\n",
    "pd.Series(data).value_counts().sort_index().plot(kind='bar')\n",
    "plt.show()\n",
    "\n",
    "pd.Series(data).value_counts().sort_index()"
   ]
  },
  {
   "cell_type": "code",
   "execution_count": 31,
   "id": "swedish-diagnosis",
   "metadata": {},
   "outputs": [
    {
     "data": {
      "image/png": "[encoded data removed]",
      "text/plain": [
       "<Figure size 432x288 with 1 Axes>"
      ]
     },
     "metadata": {
      "needs_background": "light"
     },
     "output_type": "display_data"
    },
    {
     "data": {
      "text/plain": [
       "1    1688\n",
       "2    1679\n",
       "3    1649\n",
       "4    1669\n",
       "5    1655\n",
       "6    1660\n",
       "dtype: int64"
      ]
     },
     "execution_count": 31,
     "metadata": {},
     "output_type": "execute_result"
    }
   ],
   "source": [
    "# 請用亂數方式\n",
    "# 模擬產生 dice 骰子 丟擲 1000狀況\n",
    "# 計算 1, 2, 3, 4, 5, 6 \n",
    "# 個出現幾次\n",
    "from numpy import random\n",
    "import pandas as pd\n",
    "import matplotlib.pyplot as plt\n",
    "data = random.randint(1, 7, (10000,)) \n",
    "pd.Series(data).value_counts().sort_index().plot(kind='bar')\n",
    "plt.show()\n",
    "\n",
    "pd.Series(data).value_counts().sort_index()"
   ]
  }
 ],
 "metadata": {
  "kernelspec": {
   "display_name": "Python 3",
   "language": "python",
   "name": "python3"
  },
  "language_info": {
   "codemirror_mode": {
    "name": "ipython",
    "version": 3
   },
   "file_extension": ".py",
   "mimetype": "text/x-python",
   "name": "python",
   "nbconvert_exporter": "python",
   "pygments_lexer": "ipython3",
   "version": "3.7.9"
  }
 },
 "nbformat": 4,
 "nbformat_minor": 5
}
