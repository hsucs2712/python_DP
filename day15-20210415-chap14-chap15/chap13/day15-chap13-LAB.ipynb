{
 "cells": [
  {
   "cell_type": "code",
   "execution_count": 1,
   "id": "coordinate-temple",
   "metadata": {},
   "outputs": [],
   "source": [
    "# install graphviz and put <installation path>\\bin into path\n",
    "from sklearn.datasets import load_iris\n",
    "from sklearn.tree import DecisionTreeClassifier\n",
    "from sklearn.tree import export_graphviz"
   ]
  },
  {
   "cell_type": "code",
   "execution_count": 3,
   "id": "macro-plenty",
   "metadata": {
    "collapsed": true
   },
   "outputs": [
    {
     "data": {
      "text/plain": [
       "array([[3.5, 1.4, 0.2],\n",
       "       [3. , 1.4, 0.2],\n",
       "       [3.2, 1.3, 0.2],\n",
       "       [3.1, 1.5, 0.2],\n",
       "       [3.6, 1.4, 0.2],\n",
       "       [3.9, 1.7, 0.4],\n",
       "       [3.4, 1.4, 0.3],\n",
       "       [3.4, 1.5, 0.2],\n",
       "       [2.9, 1.4, 0.2],\n",
       "       [3.1, 1.5, 0.1],\n",
       "       [3.7, 1.5, 0.2],\n",
       "       [3.4, 1.6, 0.2],\n",
       "       [3. , 1.4, 0.1],\n",
       "       [3. , 1.1, 0.1],\n",
       "       [4. , 1.2, 0.2],\n",
       "       [4.4, 1.5, 0.4],\n",
       "       [3.9, 1.3, 0.4],\n",
       "       [3.5, 1.4, 0.3],\n",
       "       [3.8, 1.7, 0.3],\n",
       "       [3.8, 1.5, 0.3],\n",
       "       [3.4, 1.7, 0.2],\n",
       "       [3.7, 1.5, 0.4],\n",
       "       [3.6, 1. , 0.2],\n",
       "       [3.3, 1.7, 0.5],\n",
       "       [3.4, 1.9, 0.2],\n",
       "       [3. , 1.6, 0.2],\n",
       "       [3.4, 1.6, 0.4],\n",
       "       [3.5, 1.5, 0.2],\n",
       "       [3.4, 1.4, 0.2],\n",
       "       [3.2, 1.6, 0.2],\n",
       "       [3.1, 1.6, 0.2],\n",
       "       [3.4, 1.5, 0.4],\n",
       "       [4.1, 1.5, 0.1],\n",
       "       [4.2, 1.4, 0.2],\n",
       "       [3.1, 1.5, 0.2],\n",
       "       [3.2, 1.2, 0.2],\n",
       "       [3.5, 1.3, 0.2],\n",
       "       [3.6, 1.4, 0.1],\n",
       "       [3. , 1.3, 0.2],\n",
       "       [3.4, 1.5, 0.2],\n",
       "       [3.5, 1.3, 0.3],\n",
       "       [2.3, 1.3, 0.3],\n",
       "       [3.2, 1.3, 0.2],\n",
       "       [3.5, 1.6, 0.6],\n",
       "       [3.8, 1.9, 0.4],\n",
       "       [3. , 1.4, 0.3],\n",
       "       [3.8, 1.6, 0.2],\n",
       "       [3.2, 1.4, 0.2],\n",
       "       [3.7, 1.5, 0.2],\n",
       "       [3.3, 1.4, 0.2],\n",
       "       [3.2, 4.7, 1.4],\n",
       "       [3.2, 4.5, 1.5],\n",
       "       [3.1, 4.9, 1.5],\n",
       "       [2.3, 4. , 1.3],\n",
       "       [2.8, 4.6, 1.5],\n",
       "       [2.8, 4.5, 1.3],\n",
       "       [3.3, 4.7, 1.6],\n",
       "       [2.4, 3.3, 1. ],\n",
       "       [2.9, 4.6, 1.3],\n",
       "       [2.7, 3.9, 1.4],\n",
       "       [2. , 3.5, 1. ],\n",
       "       [3. , 4.2, 1.5],\n",
       "       [2.2, 4. , 1. ],\n",
       "       [2.9, 4.7, 1.4],\n",
       "       [2.9, 3.6, 1.3],\n",
       "       [3.1, 4.4, 1.4],\n",
       "       [3. , 4.5, 1.5],\n",
       "       [2.7, 4.1, 1. ],\n",
       "       [2.2, 4.5, 1.5],\n",
       "       [2.5, 3.9, 1.1],\n",
       "       [3.2, 4.8, 1.8],\n",
       "       [2.8, 4. , 1.3],\n",
       "       [2.5, 4.9, 1.5],\n",
       "       [2.8, 4.7, 1.2],\n",
       "       [2.9, 4.3, 1.3],\n",
       "       [3. , 4.4, 1.4],\n",
       "       [2.8, 4.8, 1.4],\n",
       "       [3. , 5. , 1.7],\n",
       "       [2.9, 4.5, 1.5],\n",
       "       [2.6, 3.5, 1. ],\n",
       "       [2.4, 3.8, 1.1],\n",
       "       [2.4, 3.7, 1. ],\n",
       "       [2.7, 3.9, 1.2],\n",
       "       [2.7, 5.1, 1.6],\n",
       "       [3. , 4.5, 1.5],\n",
       "       [3.4, 4.5, 1.6],\n",
       "       [3.1, 4.7, 1.5],\n",
       "       [2.3, 4.4, 1.3],\n",
       "       [3. , 4.1, 1.3],\n",
       "       [2.5, 4. , 1.3],\n",
       "       [2.6, 4.4, 1.2],\n",
       "       [3. , 4.6, 1.4],\n",
       "       [2.6, 4. , 1.2],\n",
       "       [2.3, 3.3, 1. ],\n",
       "       [2.7, 4.2, 1.3],\n",
       "       [3. , 4.2, 1.2],\n",
       "       [2.9, 4.2, 1.3],\n",
       "       [2.9, 4.3, 1.3],\n",
       "       [2.5, 3. , 1.1],\n",
       "       [2.8, 4.1, 1.3],\n",
       "       [3.3, 6. , 2.5],\n",
       "       [2.7, 5.1, 1.9],\n",
       "       [3. , 5.9, 2.1],\n",
       "       [2.9, 5.6, 1.8],\n",
       "       [3. , 5.8, 2.2],\n",
       "       [3. , 6.6, 2.1],\n",
       "       [2.5, 4.5, 1.7],\n",
       "       [2.9, 6.3, 1.8],\n",
       "       [2.5, 5.8, 1.8],\n",
       "       [3.6, 6.1, 2.5],\n",
       "       [3.2, 5.1, 2. ],\n",
       "       [2.7, 5.3, 1.9],\n",
       "       [3. , 5.5, 2.1],\n",
       "       [2.5, 5. , 2. ],\n",
       "       [2.8, 5.1, 2.4],\n",
       "       [3.2, 5.3, 2.3],\n",
       "       [3. , 5.5, 1.8],\n",
       "       [3.8, 6.7, 2.2],\n",
       "       [2.6, 6.9, 2.3],\n",
       "       [2.2, 5. , 1.5],\n",
       "       [3.2, 5.7, 2.3],\n",
       "       [2.8, 4.9, 2. ],\n",
       "       [2.8, 6.7, 2. ],\n",
       "       [2.7, 4.9, 1.8],\n",
       "       [3.3, 5.7, 2.1],\n",
       "       [3.2, 6. , 1.8],\n",
       "       [2.8, 4.8, 1.8],\n",
       "       [3. , 4.9, 1.8],\n",
       "       [2.8, 5.6, 2.1],\n",
       "       [3. , 5.8, 1.6],\n",
       "       [2.8, 6.1, 1.9],\n",
       "       [3.8, 6.4, 2. ],\n",
       "       [2.8, 5.6, 2.2],\n",
       "       [2.8, 5.1, 1.5],\n",
       "       [2.6, 5.6, 1.4],\n",
       "       [3. , 6.1, 2.3],\n",
       "       [3.4, 5.6, 2.4],\n",
       "       [3.1, 5.5, 1.8],\n",
       "       [3. , 4.8, 1.8],\n",
       "       [3.1, 5.4, 2.1],\n",
       "       [3.1, 5.6, 2.4],\n",
       "       [3.1, 5.1, 2.3],\n",
       "       [2.7, 5.1, 1.9],\n",
       "       [3.2, 5.9, 2.3],\n",
       "       [3.3, 5.7, 2.5],\n",
       "       [3. , 5.2, 2.3],\n",
       "       [2.5, 5. , 1.9],\n",
       "       [3. , 5.2, 2. ],\n",
       "       [3.4, 5.4, 2.3],\n",
       "       [3. , 5.1, 1.8]])"
      ]
     },
     "execution_count": 3,
     "metadata": {},
     "output_type": "execute_result"
    }
   ],
   "source": [
    "iris = load_iris()\n",
    "iris.data[:, 1:] "
   ]
  },
  {
   "cell_type": "code",
   "execution_count": 4,
   "id": "thick-bookmark",
   "metadata": {},
   "outputs": [
    {
     "data": {
      "text/plain": [
       "DecisionTreeClassifier(max_depth=2)"
      ]
     },
     "execution_count": 4,
     "metadata": {},
     "output_type": "execute_result"
    }
   ],
   "source": [
    "iris = load_iris()\n",
    "X = iris.data[:, 1:] # petal length and width\n",
    "y = iris.target\n",
    "tree_clf = DecisionTreeClassifier(max_depth=2)\n",
    "tree_clf.fit(X, y)\n"
   ]
  },
  {
   "cell_type": "code",
   "execution_count": 5,
   "id": "intensive-opportunity",
   "metadata": {},
   "outputs": [],
   "source": [
    "export_graphviz(\n",
    "    tree_clf,\n",
    "    out_file=\"iris_tree.dot\",\n",
    "    feature_names=iris.feature_names[1:],\n",
    "    class_names=iris.target_names,\n",
    "    rounded=True,\n",
    "    filled=True\n",
    ")"
   ]
  },
  {
   "cell_type": "code",
   "execution_count": null,
   "id": "relevant-prison",
   "metadata": {},
   "outputs": [],
   "source": [
    "# convert .dot to .png from DOS\n",
    "# dot -Tpng iris_tree.dot -o iris_tree.png\n",
    "# https://onlineconvertfree.com/complete/dot-png/\n"
   ]
  },
  {
   "cell_type": "code",
   "execution_count": 6,
   "id": "floating-adelaide",
   "metadata": {},
   "outputs": [
    {
     "name": "stdout",
     "output_type": "stream",
     "text": [
      "[[0.         0.02173913 0.97826087]]\n",
      "[2]\n",
      "Virginica\n"
     ]
    }
   ],
   "source": [
    "\n",
    "print(tree_clf.predict_proba([[5, 1.5, 5]]))\n",
    "print(tree_clf.predict([[5, 1.5, 5]]))\n",
    "\n",
    "labels=['Setosa', 'Versicolour', 'Virginica']\n",
    "print(labels[tree_clf.predict([[5, 1.5, 5]])[0]])\n",
    "\n"
   ]
  }
 ],
 "metadata": {
  "kernelspec": {
   "display_name": "Python 3",
   "language": "python",
   "name": "python3"
  },
  "language_info": {
   "codemirror_mode": {
    "name": "ipython",
    "version": 3
   },
   "file_extension": ".py",
   "mimetype": "text/x-python",
   "name": "python",
   "nbconvert_exporter": "python",
   "pygments_lexer": "ipython3",
   "version": "3.7.9"
  }
 },
 "nbformat": 4,
 "nbformat_minor": 5
}
