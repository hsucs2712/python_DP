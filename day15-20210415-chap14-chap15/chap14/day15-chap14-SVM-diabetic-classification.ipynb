{
 "cells": [
  {
   "cell_type": "code",
   "execution_count": 1,
   "id": "continued-observer",
   "metadata": {},
   "outputs": [
    {
     "data": {
      "text/html": [
       "<div>\n",
       "<style scoped>\n",
       "    .dataframe tbody tr th:only-of-type {\n",
       "        vertical-align: middle;\n",
       "    }\n",
       "\n",
       "    .dataframe tbody tr th {\n",
       "        vertical-align: top;\n",
       "    }\n",
       "\n",
       "    .dataframe thead th {\n",
       "        text-align: right;\n",
       "    }\n",
       "</style>\n",
       "<table border=\"1\" class=\"dataframe\">\n",
       "  <thead>\n",
       "    <tr style=\"text-align: right;\">\n",
       "      <th></th>\n",
       "      <th>PatientID</th>\n",
       "      <th>Pregnancies</th>\n",
       "      <th>PlasmaGlucose</th>\n",
       "      <th>DiastolicBloodPressure</th>\n",
       "      <th>TricepsThickness</th>\n",
       "      <th>SerumInsulin</th>\n",
       "      <th>BMI</th>\n",
       "      <th>DiabetesPedigree</th>\n",
       "      <th>Age</th>\n",
       "      <th>Diabetic</th>\n",
       "    </tr>\n",
       "  </thead>\n",
       "  <tbody>\n",
       "    <tr>\n",
       "      <th>0</th>\n",
       "      <td>1354778</td>\n",
       "      <td>0</td>\n",
       "      <td>171</td>\n",
       "      <td>80</td>\n",
       "      <td>34</td>\n",
       "      <td>23</td>\n",
       "      <td>43.509726</td>\n",
       "      <td>1.213191</td>\n",
       "      <td>21</td>\n",
       "      <td>0</td>\n",
       "    </tr>\n",
       "    <tr>\n",
       "      <th>1</th>\n",
       "      <td>1147438</td>\n",
       "      <td>8</td>\n",
       "      <td>92</td>\n",
       "      <td>93</td>\n",
       "      <td>47</td>\n",
       "      <td>36</td>\n",
       "      <td>21.240576</td>\n",
       "      <td>0.158365</td>\n",
       "      <td>23</td>\n",
       "      <td>0</td>\n",
       "    </tr>\n",
       "    <tr>\n",
       "      <th>2</th>\n",
       "      <td>1640031</td>\n",
       "      <td>7</td>\n",
       "      <td>115</td>\n",
       "      <td>47</td>\n",
       "      <td>52</td>\n",
       "      <td>35</td>\n",
       "      <td>41.511523</td>\n",
       "      <td>0.079019</td>\n",
       "      <td>23</td>\n",
       "      <td>0</td>\n",
       "    </tr>\n",
       "  </tbody>\n",
       "</table>\n",
       "</div>"
      ],
      "text/plain": [
       "   PatientID  Pregnancies  PlasmaGlucose  DiastolicBloodPressure  \\\n",
       "0    1354778            0            171                      80   \n",
       "1    1147438            8             92                      93   \n",
       "2    1640031            7            115                      47   \n",
       "\n",
       "   TricepsThickness  SerumInsulin        BMI  DiabetesPedigree  Age  Diabetic  \n",
       "0                34            23  43.509726          1.213191   21         0  \n",
       "1                47            36  21.240576          0.158365   23         0  \n",
       "2                52            35  41.511523          0.079019   23         0  "
      ]
     },
     "execution_count": 1,
     "metadata": {},
     "output_type": "execute_result"
    }
   ],
   "source": [
    "import pandas as pd\n",
    "df = pd.read_csv('diabetes.csv')\n",
    "df[:3]"
   ]
  },
  {
   "cell_type": "code",
   "execution_count": 2,
   "id": "maritime-submission",
   "metadata": {},
   "outputs": [],
   "source": [
    "# 取出 Ｘ特徵, y標籤\n",
    "X, y = df.iloc[:, 1:-1].values , df.iloc[:, -1].values"
   ]
  },
  {
   "cell_type": "code",
   "execution_count": 3,
   "id": "weekly-iceland",
   "metadata": {},
   "outputs": [],
   "source": [
    "# 加入資料標準化\n",
    "from sklearn.preprocessing import StandardScaler\n",
    "from sklearn.preprocessing import MinMaxScaler\n",
    "ss = MinMaxScaler() # StandardScaler()\n",
    "X_ss = ss.fit_transform(X)"
   ]
  },
  {
   "cell_type": "code",
   "execution_count": 4,
   "id": "protected-briefing",
   "metadata": {},
   "outputs": [],
   "source": [
    "# 區分訓練與驗證數據 \n",
    "from sklearn.model_selection import train_test_split \n",
    "X_train, X_test, y_train, y_test = train_test_split(X_ss, y, test_size=0.2, random_state=42)"
   ]
  },
  {
   "cell_type": "code",
   "execution_count": 14,
   "id": "electoral-airfare",
   "metadata": {},
   "outputs": [
    {
     "name": "stdout",
     "output_type": "stream",
     "text": [
      "1 89.85 88.7\n",
      "2 90.69166666666668 89.0\n",
      "3 91.25833333333333 89.16666666666667\n",
      "4 91.475 89.23333333333333\n",
      "5 91.625 89.23333333333333\n",
      "6 91.85 89.3\n",
      "7 92.00833333333334 89.2\n",
      "8 92.10000000000001 89.4\n",
      "9 92.21666666666667 89.23333333333333\n",
      "10 92.325 89.23333333333333\n"
     ]
    }
   ],
   "source": [
    "# 選擇模型 \n",
    "# https://scikit-learn.org/stable/modules/multiclass.html\n",
    "from sklearn.svm import LinearSVC\n",
    "from sklearn import svm\n",
    "# model = LinearSVC(C=10)\n",
    "for c in range(1, 11, 1):\n",
    "    model = svm.SVC(C=c) # C=1 ..10\n",
    "    model.fit(X_train, y_train)\n",
    "    print(c, model.score(X_train, y_train)*100 , model.score(X_test, y_test)*100)\n"
   ]
  },
  {
   "cell_type": "code",
   "execution_count": 15,
   "id": "eight-aluminum",
   "metadata": {},
   "outputs": [
    {
     "name": "stdout",
     "output_type": "stream",
     "text": [
      "11 92.33333333333333 89.2\n",
      "12 92.43333333333334 89.33333333333333\n",
      "13 92.46666666666667 89.4\n",
      "14 92.58333333333333 89.36666666666667\n",
      "15 92.625 89.4\n",
      "16 92.71666666666667 89.43333333333334\n",
      "17 92.76666666666667 89.43333333333334\n",
      "18 92.80000000000001 89.4\n",
      "19 92.81666666666666 89.4\n"
     ]
    }
   ],
   "source": [
    "# 選擇模型 \n",
    "# https://scikit-learn.org/stable/modules/multiclass.html\n",
    "from sklearn.svm import LinearSVC\n",
    "from sklearn import svm\n",
    "# model = LinearSVC(C=10)\n",
    "for c in range(11, 20, 1):\n",
    "    model = svm.SVC(C=c) # C=1 ..10\n",
    "    model.fit(X_train, y_train)\n",
    "    print(c, model.score(X_train, y_train)*100 , model.score(X_test, y_test)*100)\n"
   ]
  },
  {
   "cell_type": "code",
   "execution_count": 59,
   "id": "funky-intelligence",
   "metadata": {},
   "outputs": [
    {
     "name": "stdout",
     "output_type": "stream",
     "text": [
      "77\n"
     ]
    },
    {
     "data": {
      "text/plain": [
       "96.1767626613704"
      ]
     },
     "execution_count": 59,
     "metadata": {},
     "output_type": "execute_result"
    }
   ],
   "source": [
    "# precision False Negative 漏報\n",
    "# 找 y_test==0, 預測也是 y_pred==1\n",
    "# recall = True Positive / (True Positive + False Negative)\n",
    "print(( (y_test==0) & (y_pred==1) ).sum())\n",
    "1937 / (1937 + 77) * 100"
   ]
  },
  {
   "cell_type": "code",
   "execution_count": 11,
   "id": "immune-boutique",
   "metadata": {},
   "outputs": [
    {
     "name": "stdout",
     "output_type": "stream",
     "text": [
      "              precision    recall  f1-score   support\n",
      "\n",
      "Non-Diabetic       0.81      0.90      0.85      2014\n",
      "    Diabetic       0.74      0.56      0.64       986\n",
      "\n",
      "    accuracy                           0.79      3000\n",
      "   macro avg       0.77      0.73      0.74      3000\n",
      "weighted avg       0.78      0.79      0.78      3000\n",
      "\n"
     ]
    }
   ],
   "source": [
    "from sklearn.metrics import classification_report\n",
    "\n",
    "y_true = y_test\n",
    "y_pred = model.predict(X_test)\n",
    "target_names = ['Non-Diabetic', 'Diabetic']\n",
    "print(classification_report(y_true, y_pred, target_names=target_names))\n"
   ]
  },
  {
   "cell_type": "code",
   "execution_count": 7,
   "id": "civilian-techno",
   "metadata": {},
   "outputs": [
    {
     "name": "stdout",
     "output_type": "stream",
     "text": [
      "Accuracy: 0.79\n"
     ]
    }
   ],
   "source": [
    "from sklearn.metrics import accuracy_score\n",
    "print('Accuracy: %.2f' % accuracy_score(y_test, y_pred))\n"
   ]
  }
 ],
 "metadata": {
  "kernelspec": {
   "display_name": "Python 3",
   "language": "python",
   "name": "python3"
  },
  "language_info": {
   "codemirror_mode": {
    "name": "ipython",
    "version": 3
   },
   "file_extension": ".py",
   "mimetype": "text/x-python",
   "name": "python",
   "nbconvert_exporter": "python",
   "pygments_lexer": "ipython3",
   "version": "3.7.9"
  }
 },
 "nbformat": 4,
 "nbformat_minor": 5
}
