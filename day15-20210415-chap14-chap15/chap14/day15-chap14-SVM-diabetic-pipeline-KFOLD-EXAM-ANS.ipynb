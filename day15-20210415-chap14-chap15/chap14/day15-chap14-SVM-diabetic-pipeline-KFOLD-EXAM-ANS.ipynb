{
 "cells": [
  {
   "cell_type": "code",
   "execution_count": null,
   "id": "bound-restaurant",
   "metadata": {},
   "outputs": [],
   "source": [
    "# https://scikit-learn.org/stable/modules/generated/sklearn.pipeline.Pipeline.html"
   ]
  },
  {
   "cell_type": "code",
   "execution_count": 1,
   "id": "continued-observer",
   "metadata": {},
   "outputs": [],
   "source": [
    "import pandas as pd\n",
    "df = pd.read_csv('diabetes.csv')"
   ]
  },
  {
   "cell_type": "code",
   "execution_count": 2,
   "id": "maritime-submission",
   "metadata": {},
   "outputs": [
    {
     "data": {
      "text/plain": [
       "array([[0.00000000e+00, 1.71000000e+02, 8.00000000e+01, 3.40000000e+01,\n",
       "        2.30000000e+01, 4.35097259e+01, 1.21319135e+00, 2.10000000e+01],\n",
       "       [8.00000000e+00, 9.20000000e+01, 9.30000000e+01, 4.70000000e+01,\n",
       "        3.60000000e+01, 2.12405757e+01, 1.58364981e-01, 2.30000000e+01]])"
      ]
     },
     "execution_count": 2,
     "metadata": {},
     "output_type": "execute_result"
    }
   ],
   "source": [
    "# 取出 Ｘ特徵, y標籤\n",
    "X, y = df.iloc[:, 1:-1].values , df.iloc[:, -1].values\n",
    "X[:2]"
   ]
  },
  {
   "cell_type": "code",
   "execution_count": null,
   "id": "laden-personal",
   "metadata": {},
   "outputs": [],
   "source": [
    "# 區分訓練與驗證數據 \n",
    "# from sklearn.model_selection import train_test_split \n",
    "# X_train, X_test, y_train, y_test = train_test_split(X, y, test_size=0.2, random_state=42)"
   ]
  },
  {
   "cell_type": "code",
   "execution_count": 7,
   "id": "radical-perth",
   "metadata": {},
   "outputs": [
    {
     "name": "stdout",
     "output_type": "stream",
     "text": [
      "0 0.864\n",
      "1 0.8473333333333334\n",
      "2 0.8606666666666667\n",
      "3 0.864\n",
      "4 0.842\n",
      "5 0.862\n",
      "6 0.8453333333333334\n",
      "7 0.8593333333333333\n",
      "8 0.8726666666666667\n",
      "9 0.8506666666666667\n"
     ]
    }
   ],
   "source": [
    "# KFOLD\n",
    "from sklearn.pipeline import Pipeline\n",
    "from sklearn.preprocessing import StandardScaler\n",
    "from sklearn.preprocessing import MinMaxScaler\n",
    "from sklearn.decomposition import PCA\n",
    "from sklearn import svm\n",
    "\n",
    "from sklearn.model_selection import KFold\n",
    "kf = KFold(n_splits=10)\n",
    "counter = 0\n",
    "data = []\n",
    "\n",
    "for train_index, test_index in kf.split(X):\n",
    "    #print(counter, train_index.shape, test_index.shape)\n",
    "    X_train, X_test = X[train_index], X[test_index]\n",
    "    y_train, y_test = y[train_index], y[test_index]\n",
    "    \n",
    "    data.append((X_train, X_test, y_train, y_test))\n",
    "    \n",
    "    pipe = Pipeline([ ('ss', MinMaxScaler()),                   \n",
    "                      ('pca', PCA(n_components=3) ),\n",
    "                      ('model',svm.SVC()) \n",
    "                    ])\n",
    "    \n",
    "    pipe.fit(X_train, y_train)\n",
    "    \n",
    "    print(counter, pipe.score(X_test, y_test))\n",
    "    counter = counter + 1"
   ]
  },
  {
   "cell_type": "code",
   "execution_count": 9,
   "id": "seeing-prison",
   "metadata": {
    "collapsed": true
   },
   "outputs": [
    {
     "data": {
      "text/plain": [
       "(array([[0.00000000e+00, 1.71000000e+02, 8.00000000e+01, ...,\n",
       "         4.35097259e+01, 1.21319135e+00, 2.10000000e+01],\n",
       "        [8.00000000e+00, 9.20000000e+01, 9.30000000e+01, ...,\n",
       "         2.12405757e+01, 1.58364981e-01, 2.30000000e+01],\n",
       "        [7.00000000e+00, 1.15000000e+02, 4.70000000e+01, ...,\n",
       "         4.15115235e+01, 7.90185680e-02, 2.30000000e+01],\n",
       "        ...,\n",
       "        [0.00000000e+00, 9.30000000e+01, 8.90000000e+01, ...,\n",
       "         1.86906831e+01, 4.27048955e-01, 2.40000000e+01],\n",
       "        [0.00000000e+00, 1.32000000e+02, 9.80000000e+01, ...,\n",
       "         1.97916451e+01, 3.02257208e-01, 2.30000000e+01],\n",
       "        [3.00000000e+00, 1.14000000e+02, 6.50000000e+01, ...,\n",
       "         3.62154365e+01, 1.47362850e-01, 3.40000000e+01]]),\n",
       " array([[1.00000000e+00, 1.58000000e+02, 8.30000000e+01, ...,\n",
       "         2.04735354e+01, 5.50360808e-01, 2.10000000e+01],\n",
       "        [0.00000000e+00, 1.27000000e+02, 7.80000000e+01, ...,\n",
       "         2.20224759e+01, 8.91389485e-01, 2.10000000e+01],\n",
       "        [1.00000000e+00, 9.50000000e+01, 5.20000000e+01, ...,\n",
       "         4.05248612e+01, 8.13154170e-02, 3.50000000e+01],\n",
       "        ...,\n",
       "        [0.00000000e+00, 5.90000000e+01, 9.40000000e+01, ...,\n",
       "         1.85029247e+01, 1.39442518e-01, 2.50000000e+01],\n",
       "        [0.00000000e+00, 9.20000000e+01, 5.00000000e+01, ...,\n",
       "         3.18540764e+01, 5.88531414e-01, 2.30000000e+01],\n",
       "        [0.00000000e+00, 1.39000000e+02, 5.90000000e+01, ...,\n",
       "         1.95993998e+01, 1.16548483e-01, 2.10000000e+01]]),\n",
       " array([0, 0, 0, ..., 0, 0, 1], dtype=int64),\n",
       " array([0, 0, 0, ..., 0, 0, 0], dtype=int64))"
      ]
     },
     "execution_count": 9,
     "metadata": {},
     "output_type": "execute_result"
    }
   ],
   "source": [
    "# 抽取出第八份 獨立訓練一次\n",
    "# X_train, X_test, y_train, y_test\n",
    "data[8]"
   ]
  },
  {
   "cell_type": "code",
   "execution_count": null,
   "id": "statistical-cookbook",
   "metadata": {},
   "outputs": [],
   "source": [
    "from sklearn.pipeline import Pipeline\n",
    "from sklearn.preprocessing import StandardScaler\n",
    "from sklearn.preprocessing import MinMaxScaler\n",
    "from sklearn.decomposition import PCA\n",
    "from sklearn import svm"
   ]
  },
  {
   "cell_type": "code",
   "execution_count": 11,
   "id": "automotive-excuse",
   "metadata": {},
   "outputs": [],
   "source": [
    "pipe = Pipeline([ ('ss', MinMaxScaler()),                  \n",
    "                  ('pca', PCA(n_components=3) ),\n",
    "                  ('model',svm.SVC()) \n",
    "                ])"
   ]
  },
  {
   "cell_type": "code",
   "execution_count": 12,
   "id": "improved-vacuum",
   "metadata": {},
   "outputs": [
    {
     "data": {
      "text/plain": [
       "Pipeline(steps=[('ss', MinMaxScaler()), ('pca', PCA(n_components=3)),\n",
       "                ('model', SVC())])"
      ]
     },
     "execution_count": 12,
     "metadata": {},
     "output_type": "execute_result"
    }
   ],
   "source": [
    "# X_train, X_test, y_train, y_test\n",
    "pipe.fit(data[8][0], data[8][2])"
   ]
  },
  {
   "cell_type": "code",
   "execution_count": 13,
   "id": "through-sandwich",
   "metadata": {},
   "outputs": [
    {
     "data": {
      "text/plain": [
       "0.8726666666666667"
      ]
     },
     "execution_count": 13,
     "metadata": {},
     "output_type": "execute_result"
    }
   ],
   "source": [
    "pipe.score(data[8][1], data[8][3])"
   ]
  },
  {
   "cell_type": "code",
   "execution_count": null,
   "id": "adverse-metabolism",
   "metadata": {},
   "outputs": [],
   "source": []
  }
 ],
 "metadata": {
  "kernelspec": {
   "display_name": "Python 3",
   "language": "python",
   "name": "python3"
  },
  "language_info": {
   "codemirror_mode": {
    "name": "ipython",
    "version": 3
   },
   "file_extension": ".py",
   "mimetype": "text/x-python",
   "name": "python",
   "nbconvert_exporter": "python",
   "pygments_lexer": "ipython3",
   "version": "3.7.9"
  }
 },
 "nbformat": 4,
 "nbformat_minor": 5
}
